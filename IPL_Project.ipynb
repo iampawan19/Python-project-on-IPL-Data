{
  "nbformat": 4,
  "nbformat_minor": 0,
  "metadata": {
    "colab": {
      "provenance": []
    },
    "kernelspec": {
      "name": "python3",
      "display_name": "Python 3"
    },
    "language_info": {
      "name": "python"
    }
  },
  "cells": [
    {
      "cell_type": "code",
      "execution_count": 1,
      "metadata": {
        "id": "H3mTUxZ-pXos"
      },
      "outputs": [],
      "source": [
        "import pandas as pd \n",
        "from matplotlib import pyplot as plt\n",
        "import seaborn as sns"
      ]
    },
    {
      "cell_type": "code",
      "source": [
        "from google.colab import files\n"
      ],
      "metadata": {
        "id": "DYrrv1gNCpga"
      },
      "execution_count": 2,
      "outputs": []
    },
    {
      "cell_type": "code",
      "source": [
        "uploaded = files.upload()\n"
      ],
      "metadata": {
        "colab": {
          "base_uri": "https://localhost:8080/",
          "height": 73
        },
        "id": "kgwHAR37EOMS",
        "outputId": "6f45dc2e-474f-489e-9ea1-960c04cf2567"
      },
      "execution_count": 4,
      "outputs": [
        {
          "output_type": "display_data",
          "data": {
            "text/plain": [
              "<IPython.core.display.HTML object>"
            ],
            "text/html": [
              "\n",
              "     <input type=\"file\" id=\"files-8c666f07-2fd9-4bda-9ec0-73fe83bd6d6a\" name=\"files[]\" multiple disabled\n",
              "        style=\"border:none\" />\n",
              "     <output id=\"result-8c666f07-2fd9-4bda-9ec0-73fe83bd6d6a\">\n",
              "      Upload widget is only available when the cell has been executed in the\n",
              "      current browser session. Please rerun this cell to enable.\n",
              "      </output>\n",
              "      <script>// Copyright 2017 Google LLC\n",
              "//\n",
              "// Licensed under the Apache License, Version 2.0 (the \"License\");\n",
              "// you may not use this file except in compliance with the License.\n",
              "// You may obtain a copy of the License at\n",
              "//\n",
              "//      http://www.apache.org/licenses/LICENSE-2.0\n",
              "//\n",
              "// Unless required by applicable law or agreed to in writing, software\n",
              "// distributed under the License is distributed on an \"AS IS\" BASIS,\n",
              "// WITHOUT WARRANTIES OR CONDITIONS OF ANY KIND, either express or implied.\n",
              "// See the License for the specific language governing permissions and\n",
              "// limitations under the License.\n",
              "\n",
              "/**\n",
              " * @fileoverview Helpers for google.colab Python module.\n",
              " */\n",
              "(function(scope) {\n",
              "function span(text, styleAttributes = {}) {\n",
              "  const element = document.createElement('span');\n",
              "  element.textContent = text;\n",
              "  for (const key of Object.keys(styleAttributes)) {\n",
              "    element.style[key] = styleAttributes[key];\n",
              "  }\n",
              "  return element;\n",
              "}\n",
              "\n",
              "// Max number of bytes which will be uploaded at a time.\n",
              "const MAX_PAYLOAD_SIZE = 100 * 1024;\n",
              "\n",
              "function _uploadFiles(inputId, outputId) {\n",
              "  const steps = uploadFilesStep(inputId, outputId);\n",
              "  const outputElement = document.getElementById(outputId);\n",
              "  // Cache steps on the outputElement to make it available for the next call\n",
              "  // to uploadFilesContinue from Python.\n",
              "  outputElement.steps = steps;\n",
              "\n",
              "  return _uploadFilesContinue(outputId);\n",
              "}\n",
              "\n",
              "// This is roughly an async generator (not supported in the browser yet),\n",
              "// where there are multiple asynchronous steps and the Python side is going\n",
              "// to poll for completion of each step.\n",
              "// This uses a Promise to block the python side on completion of each step,\n",
              "// then passes the result of the previous step as the input to the next step.\n",
              "function _uploadFilesContinue(outputId) {\n",
              "  const outputElement = document.getElementById(outputId);\n",
              "  const steps = outputElement.steps;\n",
              "\n",
              "  const next = steps.next(outputElement.lastPromiseValue);\n",
              "  return Promise.resolve(next.value.promise).then((value) => {\n",
              "    // Cache the last promise value to make it available to the next\n",
              "    // step of the generator.\n",
              "    outputElement.lastPromiseValue = value;\n",
              "    return next.value.response;\n",
              "  });\n",
              "}\n",
              "\n",
              "/**\n",
              " * Generator function which is called between each async step of the upload\n",
              " * process.\n",
              " * @param {string} inputId Element ID of the input file picker element.\n",
              " * @param {string} outputId Element ID of the output display.\n",
              " * @return {!Iterable<!Object>} Iterable of next steps.\n",
              " */\n",
              "function* uploadFilesStep(inputId, outputId) {\n",
              "  const inputElement = document.getElementById(inputId);\n",
              "  inputElement.disabled = false;\n",
              "\n",
              "  const outputElement = document.getElementById(outputId);\n",
              "  outputElement.innerHTML = '';\n",
              "\n",
              "  const pickedPromise = new Promise((resolve) => {\n",
              "    inputElement.addEventListener('change', (e) => {\n",
              "      resolve(e.target.files);\n",
              "    });\n",
              "  });\n",
              "\n",
              "  const cancel = document.createElement('button');\n",
              "  inputElement.parentElement.appendChild(cancel);\n",
              "  cancel.textContent = 'Cancel upload';\n",
              "  const cancelPromise = new Promise((resolve) => {\n",
              "    cancel.onclick = () => {\n",
              "      resolve(null);\n",
              "    };\n",
              "  });\n",
              "\n",
              "  // Wait for the user to pick the files.\n",
              "  const files = yield {\n",
              "    promise: Promise.race([pickedPromise, cancelPromise]),\n",
              "    response: {\n",
              "      action: 'starting',\n",
              "    }\n",
              "  };\n",
              "\n",
              "  cancel.remove();\n",
              "\n",
              "  // Disable the input element since further picks are not allowed.\n",
              "  inputElement.disabled = true;\n",
              "\n",
              "  if (!files) {\n",
              "    return {\n",
              "      response: {\n",
              "        action: 'complete',\n",
              "      }\n",
              "    };\n",
              "  }\n",
              "\n",
              "  for (const file of files) {\n",
              "    const li = document.createElement('li');\n",
              "    li.append(span(file.name, {fontWeight: 'bold'}));\n",
              "    li.append(span(\n",
              "        `(${file.type || 'n/a'}) - ${file.size} bytes, ` +\n",
              "        `last modified: ${\n",
              "            file.lastModifiedDate ? file.lastModifiedDate.toLocaleDateString() :\n",
              "                                    'n/a'} - `));\n",
              "    const percent = span('0% done');\n",
              "    li.appendChild(percent);\n",
              "\n",
              "    outputElement.appendChild(li);\n",
              "\n",
              "    const fileDataPromise = new Promise((resolve) => {\n",
              "      const reader = new FileReader();\n",
              "      reader.onload = (e) => {\n",
              "        resolve(e.target.result);\n",
              "      };\n",
              "      reader.readAsArrayBuffer(file);\n",
              "    });\n",
              "    // Wait for the data to be ready.\n",
              "    let fileData = yield {\n",
              "      promise: fileDataPromise,\n",
              "      response: {\n",
              "        action: 'continue',\n",
              "      }\n",
              "    };\n",
              "\n",
              "    // Use a chunked sending to avoid message size limits. See b/62115660.\n",
              "    let position = 0;\n",
              "    do {\n",
              "      const length = Math.min(fileData.byteLength - position, MAX_PAYLOAD_SIZE);\n",
              "      const chunk = new Uint8Array(fileData, position, length);\n",
              "      position += length;\n",
              "\n",
              "      const base64 = btoa(String.fromCharCode.apply(null, chunk));\n",
              "      yield {\n",
              "        response: {\n",
              "          action: 'append',\n",
              "          file: file.name,\n",
              "          data: base64,\n",
              "        },\n",
              "      };\n",
              "\n",
              "      let percentDone = fileData.byteLength === 0 ?\n",
              "          100 :\n",
              "          Math.round((position / fileData.byteLength) * 100);\n",
              "      percent.textContent = `${percentDone}% done`;\n",
              "\n",
              "    } while (position < fileData.byteLength);\n",
              "  }\n",
              "\n",
              "  // All done.\n",
              "  yield {\n",
              "    response: {\n",
              "      action: 'complete',\n",
              "    }\n",
              "  };\n",
              "}\n",
              "\n",
              "scope.google = scope.google || {};\n",
              "scope.google.colab = scope.google.colab || {};\n",
              "scope.google.colab._files = {\n",
              "  _uploadFiles,\n",
              "  _uploadFilesContinue,\n",
              "};\n",
              "})(self);\n",
              "</script> "
            ]
          },
          "metadata": {}
        },
        {
          "output_type": "stream",
          "name": "stdout",
          "text": [
            "Saving Match.csv to Match.csv\n"
          ]
        }
      ]
    },
    {
      "cell_type": "code",
      "source": [
        "uploaded"
      ],
      "metadata": {
        "colab": {
          "base_uri": "https://localhost:8080/"
        },
        "id": "mtBuf45LEcs3",
        "outputId": "f08abf66-f151-47c2-9108-2d9eaca29507"
      },
      "execution_count": 5,
      "outputs": [
        {
          "output_type": "execute_result",
          "data": {
            "text/plain": [
              "{'Match.csv': b'Match_SK,match_id,Team1,Team2,match_date,Season_Year,Venue_Name,City_Name,Country_Name,Toss_Winner,match_winner,Toss_Name,Win_Type,Outcome_Type,ManOfMach,Win_Margin,Country_id\\r\\n0,335987,Royal Challengers Bangalore,Kolkata Knight Riders,4/18/2008,2008,M Chinnaswamy Stadium,Bangalore,India,Royal Challengers Bangalore,Kolkata Knight Riders,field,runs,Result,BB McCullum,140,1\\r\\n1,335988,Kings XI Punjab,Chennai Super Kings,4/19/2008,2008,\"Punjab Cricket Association Stadium, Mohali\",Chandigarh,India,Chennai Super Kings,Chennai Super Kings,bat,runs,Result,MEK Hussey,33,1\\r\\n2,335989,Delhi Daredevils,Rajasthan Royals,4/19/2008,2008,Feroz Shah Kotla,Delhi,India,Rajasthan Royals,Delhi Daredevils,bat,wickets,Result,MF Maharoof,9,1\\r\\n3,335990,Mumbai Indians,Royal Challengers Bangalore,4/20/2008,2008,Wankhede Stadium,Mumbai,India,Mumbai Indians,Royal Challengers Bangalore,bat,wickets,Result,MV Boucher,5,1\\r\\n4,335991,Kolkata Knight Riders,Deccan Chargers,4/20/2008,2008,Eden Gardens,Kolkata,India,Deccan Chargers,Kolkata Knight Riders,bat,wickets,Result,DJ Hussey,5,1\\r\\n5,335992,Rajasthan Royals,Kings XI Punjab,4/21/2008,2008,Sawai Mansingh Stadium,Jaipur,India,Kings XI Punjab,Rajasthan Royals,bat,wickets,Result,SR Watson,6,1\\r\\n6,335993,Deccan Chargers,Delhi Daredevils,4/22/2008,2008,\"Rajiv Gandhi International Stadium, Uppal\",Hyderabad,India,Deccan Chargers,Delhi Daredevils,bat,wickets,Result,V Sehwag,9,1\\r\\n7,335994,Chennai Super Kings,Mumbai Indians,4/23/2008,2008,\"MA Chidambaram Stadium, Chepauk\",Chennai,India,Mumbai Indians,Chennai Super Kings,field,runs,Result,ML Hayden,6,1\\r\\n8,335995,Deccan Chargers,Rajasthan Royals,4/24/2008,2008,\"Rajiv Gandhi International Stadium, Uppal\",Hyderabad,India,Rajasthan Royals,Rajasthan Royals,field,wickets,Result,YK Pathan,3,1\\r\\n9,335996,Kings XI Punjab,Mumbai Indians,4/25/2008,2008,\"Punjab Cricket Association Stadium, Mohali\",Chandigarh,India,Mumbai Indians,Kings XI Punjab,field,runs,Result,KC Sangakkara,66,1\\r\\n10,335997,Royal Challengers Bangalore,Rajasthan Royals,4/26/2008,2008,M Chinnaswamy Stadium,Bangalore,India,Rajasthan Royals,Rajasthan Royals,field,wickets,Result,SR Watson,7,1\\r\\n11,335998,Chennai Super Kings,Kolkata Knight Riders,4/26/2008,2008,\"MA Chidambaram Stadium, Chepauk\",Chennai,India,Kolkata Knight Riders,Chennai Super Kings,bat,wickets,Result,JDP Oram,9,1\\r\\n12,335999,Mumbai Indians,Deccan Chargers,4/27/2008,2008,Dr DY Patil Sports Academy,Mumbai,India,Deccan Chargers,Deccan Chargers,field,wickets,Result,AC Gilchrist,10,1\\r\\n13,336000,Kings XI Punjab,Delhi Daredevils,4/27/2008,2008,\"Punjab Cricket Association Stadium, Mohali\",Chandigarh,India,Delhi Daredevils,Kings XI Punjab,bat,wickets,Result,SM Katich,4,1\\r\\n14,336001,Royal Challengers Bangalore,Chennai Super Kings,4/28/2008,2008,M Chinnaswamy Stadium,Bangalore,India,Chennai Super Kings,Chennai Super Kings,bat,runs,Result,MS Dhoni,13,1\\r\\n15,336002,Kolkata Knight Riders,Mumbai Indians,4/29/2008,2008,Eden Gardens,Kolkata,India,Kolkata Knight Riders,Mumbai Indians,bat,wickets,Result,ST Jayasuriya,7,1\\r\\n16,336003,Delhi Daredevils,Royal Challengers Bangalore,4/30/2008,2008,Feroz Shah Kotla,Delhi,India,Royal Challengers Bangalore,Delhi Daredevils,field,runs,Result,GD McGrath,10,1\\r\\n17,336004,Deccan Chargers,Kings XI Punjab,5/1/2008,2008,\"Rajiv Gandhi International Stadium, Uppal\",Hyderabad,India,Kings XI Punjab,Kings XI Punjab,field,wickets,Result,SE Marsh,7,1\\r\\n18,336005,Rajasthan Royals,Kolkata Knight Riders,5/1/2008,2008,Sawai Mansingh Stadium,Jaipur,India,Rajasthan Royals,Rajasthan Royals,bat,runs,Result,SA Asnodkar,45,1\\r\\n19,336006,Chennai Super Kings,Delhi Daredevils,5/2/2008,2008,\"MA Chidambaram Stadium, Chepauk\",Chennai,India,Chennai Super Kings,Delhi Daredevils,bat,wickets,Result,V Sehwag,8,1\\r\\n20,336007,Deccan Chargers,Royal Challengers Bangalore,5/25/2008,2008,\"Rajiv Gandhi International Stadium, Uppal\",Hyderabad,India,Deccan Chargers,Royal Challengers Bangalore,bat,wickets,Result,R Vinay Kumar,5,1\\r\\n21,336008,Kings XI Punjab,Kolkata Knight Riders,5/3/2008,2008,\"Punjab Cricket Association Stadium, Mohali\",Chandigarh,India,Kings XI Punjab,Kings XI Punjab,bat,runs,Result,IK Pathan,9,1\\r\\n22,336009,Mumbai Indians,Delhi Daredevils,5/4/2008,2008,Dr DY Patil Sports Academy,Mumbai,India,Delhi Daredevils,Mumbai Indians,field,runs,Result,SM Pollock,29,1\\r\\n23,336010,Rajasthan Royals,Chennai Super Kings,5/4/2008,2008,Sawai Mansingh Stadium,Jaipur,India,Chennai Super Kings,Rajasthan Royals,bat,wickets,Result,Sohail Tanvir,8,1\\r\\n24,336011,Royal Challengers Bangalore,Kings XI Punjab,5/5/2008,2008,M Chinnaswamy Stadium,Bangalore,India,Kings XI Punjab,Kings XI Punjab,field,wickets,Result,S Sreesanth,6,1\\r\\n25,336012,Chennai Super Kings,Deccan Chargers,5/6/2008,2008,\"MA Chidambaram Stadium, Chepauk\",Chennai,India,Deccan Chargers,Deccan Chargers,field,wickets,Result,AC Gilchrist,7,1\\r\\n26,336013,Mumbai Indians,Rajasthan Royals,5/7/2008,2008,Dr DY Patil Sports Academy,Mumbai,India,Mumbai Indians,Mumbai Indians,field,wickets,Result,A Nehra,7,1\\r\\n27,336014,Delhi Daredevils,Chennai Super Kings,5/8/2008,2008,Feroz Shah Kotla,Delhi,India,Chennai Super Kings,Chennai Super Kings,field,wickets,Result,MS Dhoni,4,1\\r\\n28,336015,Kolkata Knight Riders,Royal Challengers Bangalore,5/8/2008,2008,Eden Gardens,Kolkata,India,Kolkata Knight Riders,Kolkata Knight Riders,bat,runs,Result,SC Ganguly,5,1\\r\\n29,336016,Rajasthan Royals,Deccan Chargers,5/9/2008,2008,Sawai Mansingh Stadium,Jaipur,India,Rajasthan Royals,Rajasthan Royals,field,wickets,Result,YK Pathan,8,1\\r\\n30,336017,Royal Challengers Bangalore,Mumbai Indians,5/28/2008,2008,M Chinnaswamy Stadium,Bangalore,India,Mumbai Indians,Mumbai Indians,field,wickets,Result,CRD Fernando,9,1\\r\\n31,336018,Chennai Super Kings,Kings XI Punjab,5/10/2008,2008,\"MA Chidambaram Stadium, Chepauk\",Chennai,India,Kings XI Punjab,Chennai Super Kings,field,runs,Result,L Balaji,18,1\\r\\n32,336019,Deccan Chargers,Kolkata Knight Riders,5/11/2008,2008,\"Rajiv Gandhi International Stadium, Uppal\",Hyderabad,India,Kolkata Knight Riders,Kolkata Knight Riders,bat,runs,Result,SC Ganguly,23,1\\r\\n33,336020,Rajasthan Royals,Delhi Daredevils,5/11/2008,2008,Sawai Mansingh Stadium,Jaipur,India,Rajasthan Royals,Rajasthan Royals,field,wickets,Result,SR Watson,3,1\\r\\n34,336021,Kings XI Punjab,Royal Challengers Bangalore,5/12/2008,2008,\"Punjab Cricket Association Stadium, Mohali\",Chandigarh,India,Royal Challengers Bangalore,Kings XI Punjab,bat,wickets,Result,SE Marsh,9,1\\r\\n35,336022,Kolkata Knight Riders,Delhi Daredevils,5/13/2008,2008,Eden Gardens,Kolkata,India,Kolkata Knight Riders,Kolkata Knight Riders,bat,runs,Result,Shoaib Akhtar,23,1\\r\\n36,336023,Mumbai Indians,Chennai Super Kings,5/14/2008,2008,Wankhede Stadium,Mumbai,India,Mumbai Indians,Mumbai Indians,field,wickets,Result,ST Jayasuriya,9,1\\r\\n37,336024,Kings XI Punjab,Rajasthan Royals,5/28/2008,2008,\"Punjab Cricket Association Stadium, Mohali\",Chandigarh,India,Rajasthan Royals,Kings XI Punjab,field,runs,Result,SE Marsh,41,1\\r\\n38,336025,Delhi Daredevils,Deccan Chargers,5/15/2008,2008,Feroz Shah Kotla,Delhi,India,Deccan Chargers,Delhi Daredevils,field,runs,Result,A Mishra,12,1\\r\\n39,336026,Mumbai Indians,Kolkata Knight Riders,5/16/2008,2008,Wankhede Stadium,Mumbai,India,Mumbai Indians,Mumbai Indians,field,wickets,Result,SM Pollock,8,1\\r\\n40,336027,Delhi Daredevils,Kings XI Punjab,5/17/2008,2008,Feroz Shah Kotla,Delhi,India,Delhi Daredevils,Kings XI Punjab,bat,runs,Result,DPMD Jayawardene,6,1\\r\\n41,336028,Rajasthan Royals,Royal Challengers Bangalore,5/17/2008,2008,Sawai Mansingh Stadium,Jaipur,India,Royal Challengers Bangalore,Rajasthan Royals,field,runs,Result,GC Smith,65,1\\r\\n42,336029,Deccan Chargers,Mumbai Indians,5/18/2008,2008,\"Rajiv Gandhi International Stadium, Uppal\",Hyderabad,India,Deccan Chargers,Mumbai Indians,field,runs,Result,DJ Bravo,25,1\\r\\n43,336030,Kolkata Knight Riders,Chennai Super Kings,5/18/2008,2008,Eden Gardens,Kolkata,India,Kolkata Knight Riders,Chennai Super Kings,bat,runs,Result,M Ntini,3,1\\r\\n44,336031,Royal Challengers Bangalore,Delhi Daredevils,5/19/2008,2008,M Chinnaswamy Stadium,Bangalore,India,Delhi Daredevils,Delhi Daredevils,field,wickets,Result,SP Goswami,5,1\\r\\n45,336032,Kolkata Knight Riders,Rajasthan Royals,5/20/2008,2008,Eden Gardens,Kolkata,India,Rajasthan Royals,Rajasthan Royals,field,wickets,Result,YK Pathan,6,1\\r\\n46,336033,Mumbai Indians,Kings XI Punjab,5/21/2008,2008,Wankhede Stadium,Mumbai,India,Mumbai Indians,Kings XI Punjab,field,runs,Result,SE Marsh,1,1\\r\\n47,336034,Chennai Super Kings,Royal Challengers Bangalore,5/21/2008,2008,\"MA Chidambaram Stadium, Chepauk\",Chennai,India,Royal Challengers Bangalore,Royal Challengers Bangalore,bat,runs,Result,A Kumble,14,1\\r\\n48,336036,Kings XI Punjab,Deccan Chargers,5/23/2008,2008,\"Punjab Cricket Association Stadium, Mohali\",Chandigarh,India,Kings XI Punjab,Kings XI Punjab,field,wickets,Result,SE Marsh,6,1\\r\\n49,336037,Delhi Daredevils,Mumbai Indians,5/24/2008,2008,Feroz Shah Kotla,Delhi,India,Delhi Daredevils,Delhi Daredevils,field,wickets,Result,KD Karthik,5,1\\r\\n50,336038,Chennai Super Kings,Rajasthan Royals,5/24/2008,2008,\"MA Chidambaram Stadium, Chepauk\",Chennai,India,Rajasthan Royals,Rajasthan Royals,bat,runs,Result,JA Morkel,10,1\\r\\n51,336039,Royal Challengers Bangalore,Deccan Chargers,5/3/2008,2008,M Chinnaswamy Stadium,Bangalore,India,Deccan Chargers,Royal Challengers Bangalore,field,runs,Result,P Kumar,3,1\\r\\n52,336040,Kolkata Knight Riders,Kings XI Punjab,5/25/2008,2008,Eden Gardens,Kolkata,India,Kings XI Punjab,Kolkata Knight Riders,bat,wickets,Result,Umar Gul,3,1\\r\\n53,336041,Rajasthan Royals,Mumbai Indians,5/26/2008,2008,Sawai Mansingh Stadium,Jaipur,India,Rajasthan Royals,Rajasthan Royals,field,wickets,Result,Sohail Tanvir,5,1\\r\\n54,336042,Deccan Chargers,Chennai Super Kings,5/27/2008,2008,\"Rajiv Gandhi International Stadium, Uppal\",Hyderabad,India,Deccan Chargers,Chennai Super Kings,bat,wickets,Result,SK Raina,7,1\\r\\n55,336043,Delhi Daredevils,Rajasthan Royals,5/30/2008,2008,Wankhede Stadium,Mumbai,India,Delhi Daredevils,Rajasthan Royals,field,runs,Result,SR Watson,105,1\\r\\n56,336044,Chennai Super Kings,Kings XI Punjab,5/31/2008,2008,Wankhede Stadium,Mumbai,India,Kings XI Punjab,Chennai Super Kings,bat,wickets,Result,M Ntini,9,1\\r\\n57,336045,Chennai Super Kings,Rajasthan Royals,6/1/2008,2008,Dr DY Patil Sports Academy,Mumbai,India,Rajasthan Royals,Rajasthan Royals,field,wickets,Result,YK Pathan,3,1\\r\\n58,392186,Chennai Super Kings,Mumbai Indians,4/18/2009,2009,Newlands,Cape Town,South Africa,Chennai Super Kings,Mumbai Indians,field,runs,Result,SR Tendulkar,19,2\\r\\n59,392187,Royal Challengers Bangalore,Rajasthan Royals,4/18/2009,2009,Newlands,Cape Town,South Africa,Royal Challengers Bangalore,Royal Challengers Bangalore,bat,runs,Result,R Dravid,75,2\\r\\n60,392188,Delhi Daredevils,Kings XI Punjab,4/19/2009,2009,Newlands,Cape Town,South Africa,Delhi Daredevils,Delhi Daredevils,field,wickets,Result,DL Vettori,10,2\\r\\n61,392189,Deccan Chargers,Kolkata Knight Riders,4/19/2009,2009,Newlands,Cape Town,South Africa,Kolkata Knight Riders,Deccan Chargers,bat,wickets,Result,RP Singh,8,2\\r\\n62,392190,Royal Challengers Bangalore,Chennai Super Kings,4/20/2009,2009,St George\\'s Park,Port Elizabeth,South Africa,Chennai Super Kings,Chennai Super Kings,bat,runs,Result,M Muralitharan,92,2\\r\\n63,392191,Kings XI Punjab,Kolkata Knight Riders,4/21/2009,2009,Kingsmead,Durban,South Africa,Kolkata Knight Riders,Kolkata Knight Riders,field,runs,Result,CH Gayle,11,2\\r\\n64,392193,Royal Challengers Bangalore,Deccan Chargers,4/22/2009,2009,Newlands,Cape Town,South Africa,Deccan Chargers,Deccan Chargers,bat,runs,Result,AC Gilchrist,24,2\\r\\n65,392194,Chennai Super Kings,Delhi Daredevils,4/23/2009,2009,Kingsmead,Durban,South Africa,Delhi Daredevils,Delhi Daredevils,bat,runs,Result,AB de Villiers,9,2\\r\\n66,392195,Kolkata Knight Riders,Rajasthan Royals,4/23/2009,2009,Newlands,Cape Town,South Africa,Kolkata Knight Riders,Rajasthan Royals,field,Tie,Superover,YK Pathan,NULL,2\\r\\n67,392196,Royal Challengers Bangalore,Kings XI Punjab,4/24/2009,2009,Kingsmead,Durban,South Africa,Royal Challengers Bangalore,Kings XI Punjab,bat,wickets,Result,RS Bopara,7,2\\r\\n68,392197,Deccan Chargers,Mumbai Indians,4/25/2009,2009,Kingsmead,Durban,South Africa,Deccan Chargers,Deccan Chargers,bat,runs,Result,PP Ojha,12,2\\r\\n69,392199,Royal Challengers Bangalore,Delhi Daredevils,4/26/2009,2009,St George\\'s Park,Port Elizabeth,South Africa,Royal Challengers Bangalore,Delhi Daredevils,bat,wickets,Result,TM Dilshan,6,2\\r\\n70,392200,Kings XI Punjab,Rajasthan Royals,4/26/2009,2009,Newlands,Cape Town,South Africa,Kings XI Punjab,Kings XI Punjab,bat,runs,Result,KC Sangakkara,27,2\\r\\n71,392201,Chennai Super Kings,Deccan Chargers,4/27/2009,2009,Kingsmead,Durban,South Africa,Deccan Chargers,Deccan Chargers,field,wickets,Result,HH Gibbs,6,2\\r\\n72,392202,Kolkata Knight Riders,Mumbai Indians,4/27/2009,2009,St George\\'s Park,Port Elizabeth,South Africa,Mumbai Indians,Mumbai Indians,bat,runs,Result,SR Tendulkar,92,2\\r\\n73,392203,Delhi Daredevils,Rajasthan Royals,4/28/2009,2009,SuperSport Park,Centurion,South Africa,Delhi Daredevils,Rajasthan Royals,bat,wickets,Result,YK Pathan,5,2\\r\\n74,392204,Royal Challengers Bangalore,Kolkata Knight Riders,4/29/2009,2009,Kingsmead,Durban,South Africa,Kolkata Knight Riders,Royal Challengers Bangalore,bat,wickets,Result,MV Boucher,5,2\\r\\n75,392205,Kings XI Punjab,Mumbai Indians,4/29/2009,2009,Kingsmead,Durban,South Africa,Kings XI Punjab,Kings XI Punjab,bat,runs,Result,KC Sangakkara,3,2\\r\\n76,392206,Deccan Chargers,Delhi Daredevils,4/30/2009,2009,SuperSport Park,Centurion,South Africa,Delhi Daredevils,Delhi Daredevils,field,wickets,Result,DP Nannes,6,2\\r\\n77,392207,Chennai Super Kings,Rajasthan Royals,4/30/2009,2009,SuperSport Park,Centurion,South Africa,Rajasthan Royals,Chennai Super Kings,field,runs,Result,SK Raina,38,2\\r\\n78,392208,Kolkata Knight Riders,Mumbai Indians,5/1/2009,2009,Buffalo Park,East London,South Africa,Mumbai Indians,Mumbai Indians,bat,runs,Result,JP Duminy,9,2\\r\\n79,392209,Royal Challengers Bangalore,Kings XI Punjab,5/1/2009,2009,Kingsmead,Durban,South Africa,Royal Challengers Bangalore,Royal Challengers Bangalore,bat,runs,Result,Yuvraj Singh,8,2\\r\\n80,392210,Deccan Chargers,Rajasthan Royals,5/2/2009,2009,St George\\'s Park,Port Elizabeth,South Africa,Deccan Chargers,Rajasthan Royals,bat,wickets,Result,YK Pathan,3,2\\r\\n81,392211,Chennai Super Kings,Delhi Daredevils,5/2/2009,2009,New Wanderers Stadium,Johannesburg,South Africa,Delhi Daredevils,Chennai Super Kings,field,runs,Result,SB Jakati,18,2\\r\\n82,392212,Kings XI Punjab,Kolkata Knight Riders,5/3/2009,2009,St George\\'s Park,Port Elizabeth,South Africa,Kolkata Knight Riders,Kings XI Punjab,bat,wickets,Result,DPMD Jayawardene,6,2\\r\\n83,392213,Royal Challengers Bangalore,Mumbai Indians,5/3/2009,2009,New Wanderers Stadium,Johannesburg,South Africa,Mumbai Indians,Royal Challengers Bangalore,bat,wickets,Result,JH Kallis,9,2\\r\\n84,392214,Chennai Super Kings,Deccan Chargers,5/4/2009,2009,Buffalo Park,East London,South Africa,Chennai Super Kings,Chennai Super Kings,bat,runs,Result,MS Dhoni,78,2\\r\\n85,392215,Kings XI Punjab,Rajasthan Royals,5/5/2009,2009,Kingsmead,Durban,South Africa,Kings XI Punjab,Rajasthan Royals,field,runs,Result,GC Smith,78,2\\r\\n86,392216,Delhi Daredevils,Kolkata Knight Riders,5/5/2009,2009,Kingsmead,Durban,South Africa,Kolkata Knight Riders,Delhi Daredevils,bat,wickets,Result,G Gambhir,9,2\\r\\n87,392217,Deccan Chargers,Mumbai Indians,5/6/2009,2009,SuperSport Park,Centurion,South Africa,Deccan Chargers,Deccan Chargers,bat,runs,Result,RG Sharma,19,2\\r\\n88,392218,Royal Challengers Bangalore,Rajasthan Royals,5/7/2009,2009,SuperSport Park,Centurion,South Africa,Rajasthan Royals,Rajasthan Royals,field,wickets,Result,A Singh,7,2\\r\\n89,392219,Chennai Super Kings,Kings XI Punjab,5/7/2009,2009,SuperSport Park,Centurion,South Africa,Chennai Super Kings,Chennai Super Kings,bat,runs,Result,ML Hayden,12,2\\r\\n90,392220,Delhi Daredevils,Mumbai Indians,5/8/2009,2009,Buffalo Park,East London,South Africa,Mumbai Indians,Delhi Daredevils,bat,wickets,Result,A Nehra,7,2\\r\\n91,392221,Deccan Chargers,Kings XI Punjab,5/9/2009,2009,De Beers Diamond Oval,Kimberley,South Africa,Kings XI Punjab,Kings XI Punjab,field,wickets,Result,DPMD Jayawardene,3,2\\r\\n92,392222,Chennai Super Kings,Rajasthan Royals,5/9/2009,2009,De Beers Diamond Oval,Kimberley,South Africa,Rajasthan Royals,Chennai Super Kings,bat,wickets,Result,S Badrinath,7,2\\r\\n93,392223,Royal Challengers Bangalore,Mumbai Indians,5/10/2009,2009,St George\\'s Park,Port Elizabeth,South Africa,Mumbai Indians,Mumbai Indians,bat,runs,Result,JP Duminy,16,2\\r\\n94,392224,Delhi Daredevils,Kolkata Knight Riders,5/10/2009,2009,New Wanderers Stadium,Johannesburg,South Africa,Delhi Daredevils,Delhi Daredevils,field,wickets,Result,A Mishra,7,2\\r\\n95,392225,Deccan Chargers,Rajasthan Royals,5/11/2009,2009,De Beers Diamond Oval,Kimberley,South Africa,Deccan Chargers,Deccan Chargers,bat,runs,Result,DR Smith,53,2\\r\\n96,392226,Royal Challengers Bangalore,Kolkata Knight Riders,5/12/2009,2009,SuperSport Park,Centurion,South Africa,Royal Challengers Bangalore,Royal Challengers Bangalore,field,wickets,Result,LRPL Taylor,6,2\\r\\n97,392227,Kings XI Punjab,Mumbai Indians,5/12/2009,2009,SuperSport Park,Centurion,South Africa,Kings XI Punjab,Mumbai Indians,bat,wickets,Result,Harbhajan Singh,8,2\\r\\n98,392228,Deccan Chargers,Delhi Daredevils,5/13/2009,2009,Kingsmead,Durban,South Africa,Deccan Chargers,Delhi Daredevils,field,runs,Result,R Bhatia,12,2\\r\\n99,392229,Royal Challengers Bangalore,Chennai Super Kings,5/14/2009,2009,Kingsmead,Durban,South Africa,Chennai Super Kings,Royal Challengers Bangalore,bat,wickets,Result,LRPL Taylor,2,2\\r\\n100,392230,Mumbai Indians,Rajasthan Royals,5/14/2009,2009,Kingsmead,Durban,South Africa,Rajasthan Royals,Rajasthan Royals,bat,runs,Result,SK Warne,2,2\\r\\n101,392231,Delhi Daredevils,Kings XI Punjab,5/15/2009,2009,OUTsurance Oval,Bloemfontein,South Africa,Kings XI Punjab,Kings XI Punjab,field,wickets,Result,B Lee,6,2\\r\\n102,392232,Chennai Super Kings,Mumbai Indians,5/16/2009,2009,St George\\'s Park,Port Elizabeth,South Africa,Mumbai Indians,Chennai Super Kings,bat,wickets,Result,ML Hayden,7,2\\r\\n103,392233,Deccan Chargers,Kolkata Knight Riders,5/16/2009,2009,New Wanderers Stadium,Johannesburg,South Africa,Deccan Chargers,Deccan Chargers,field,wickets,Result,RG Sharma,6,2\\r\\n104,392234,Deccan Chargers,Kings XI Punjab,5/17/2009,2009,New Wanderers Stadium,Johannesburg,South Africa,Deccan Chargers,Kings XI Punjab,field,runs,Result,Yuvraj Singh,1,2\\r\\n105,392235,Delhi Daredevils,Rajasthan Royals,5/17/2009,2009,OUTsurance Oval,Bloemfontein,South Africa,Delhi Daredevils,Delhi Daredevils,bat,runs,Result,AB de Villiers,14,2\\r\\n106,392236,Chennai Super Kings,Kolkata Knight Riders,5/18/2009,2009,SuperSport Park,Centurion,South Africa,Chennai Super Kings,Kolkata Knight Riders,bat,wickets,Result,BJ Hodge,7,2\\r\\n107,392237,Royal Challengers Bangalore,Delhi Daredevils,5/19/2009,2009,New Wanderers Stadium,Johannesburg,South Africa,Delhi Daredevils,Royal Challengers Bangalore,bat,wickets,Result,JH Kallis,7,2\\r\\n108,392238,Kolkata Knight Riders,Rajasthan Royals,5/20/2009,2009,Kingsmead,Durban,South Africa,Kolkata Knight Riders,Kolkata Knight Riders,field,wickets,Result,LR Shukla,4,2\\r\\n109,392239,Chennai Super Kings,Kings XI Punjab,5/20/2009,2009,Kingsmead,Durban,South Africa,Chennai Super Kings,Chennai Super Kings,bat,runs,Result,M Muralitharan,24,2\\r\\n110,392240,Delhi Daredevils,Mumbai Indians,5/21/2009,2009,SuperSport Park,Centurion,South Africa,Delhi Daredevils,Delhi Daredevils,field,wickets,Result,V Sehwag,4,2\\r\\n111,392241,Royal Challengers Bangalore,Deccan Chargers,5/21/2009,2009,SuperSport Park,Centurion,South Africa,Royal Challengers Bangalore,Royal Challengers Bangalore,bat,runs,Result,MK Pandey,12,2\\r\\n112,392242,Delhi Daredevils,Deccan Chargers,5/22/2009,2009,SuperSport Park,Centurion,South Africa,Deccan Chargers,Deccan Chargers,field,wickets,Result,AC Gilchrist,6,2\\r\\n113,392243,Royal Challengers Bangalore,Chennai Super Kings,5/23/2009,2009,New Wanderers Stadium,Johannesburg,South Africa,Royal Challengers Bangalore,Royal Challengers Bangalore,field,wickets,Result,MK Pandey,6,2\\r\\n114,392244,Royal Challengers Bangalore,Deccan Chargers,5/24/2009,2009,New Wanderers Stadium,Johannesburg,South Africa,Royal Challengers Bangalore,Deccan Chargers,field,runs,Result,A Kumble,6,2\\r\\n115,419111,Deccan Chargers,Kolkata Knight Riders,3/12/2010,2010,Dr DY Patil Sports Academy,Mumbai,India,Deccan Chargers,Kolkata Knight Riders,field,runs,Result,AD Mathews,11,1\\r\\n116,419112,Mumbai Indians,Rajasthan Royals,3/13/2010,2010,Brabourne Stadium,Mumbai,India,Mumbai Indians,Mumbai Indians,bat,runs,Result,YK Pathan,4,1\\r\\n117,419113,Kings XI Punjab,Delhi Daredevils,3/13/2010,2010,\"Punjab Cricket Association Stadium, Mohali\",Chandigarh,India,Delhi Daredevils,Delhi Daredevils,field,wickets,Result,G Gambhir,5,1\\r\\n118,419114,Kolkata Knight Riders,Royal Challengers Bangalore,3/14/2010,2010,Eden Gardens,Kolkata,India,Kolkata Knight Riders,Kolkata Knight Riders,field,wickets,Result,MK Tiwary,7,1\\r\\n119,419115,Chennai Super Kings,Deccan Chargers,3/14/2010,2010,\"MA Chidambaram Stadium, Chepauk\",Chennai,India,Deccan Chargers,Deccan Chargers,bat,runs,Result,WPUJC Vaas,31,1\\r\\n120,419116,Rajasthan Royals,Delhi Daredevils,3/15/2010,2010,\"Sardar Patel Stadium, Motera\",Ahmedabad,India,Delhi Daredevils,Delhi Daredevils,field,wickets,Result,V Sehwag,6,1\\r\\n121,419117,Royal Challengers Bangalore,Kings XI Punjab,3/16/2010,2010,M Chinnaswamy Stadium,Bangalore,India,Kings XI Punjab,Royal Challengers Bangalore,bat,wickets,Result,JH Kallis,8,1\\r\\n122,419118,Kolkata Knight Riders,Chennai Super Kings,3/16/2010,2010,Eden Gardens,Kolkata,India,Chennai Super Kings,Chennai Super Kings,bat,runs,Result,MS Dhoni,55,1\\r\\n123,419119,Delhi Daredevils,Mumbai Indians,3/17/2010,2010,Feroz Shah Kotla,Delhi,India,Delhi Daredevils,Mumbai Indians,field,runs,Result,SR Tendulkar,98,1\\r\\n124,419120,Royal Challengers Bangalore,Rajasthan Royals,3/18/2010,2010,M Chinnaswamy Stadium,Bangalore,India,Royal Challengers Bangalore,Royal Challengers Bangalore,field,wickets,Result,JH Kallis,10,1\\r\\n125,419121,Delhi Daredevils,Chennai Super Kings,3/19/2010,2010,Feroz Shah Kotla,Delhi,India,Delhi Daredevils,Chennai Super Kings,bat,wickets,Result,ML Hayden,5,1\\r\\n126,419122,Deccan Chargers,Kings XI Punjab,3/19/2010,2010,Barabati Stadium,Cuttack,India,Kings XI Punjab,Deccan Chargers,field,runs,Result,A Symonds,6,1\\r\\n127,419123,Rajasthan Royals,Kolkata Knight Riders,3/20/2010,2010,\"Sardar Patel Stadium, Motera\",Ahmedabad,India,Rajasthan Royals,Rajasthan Royals,bat,runs,Result,AA Jhunjhunwala,34,1\\r\\n128,419124,Mumbai Indians,Royal Challengers Bangalore,3/20/2010,2010,Brabourne Stadium,Mumbai,India,Mumbai Indians,Royal Challengers Bangalore,bat,wickets,Result,JH Kallis,7,1\\r\\n129,419125,Deccan Chargers,Delhi Daredevils,3/21/2010,2010,Barabati Stadium,Cuttack,India,Deccan Chargers,Deccan Chargers,bat,runs,Result,A Symonds,10,1\\r\\n130,419126,Chennai Super Kings,Kings XI Punjab,3/21/2010,2010,\"MA Chidambaram Stadium, Chepauk\",Chennai,India,Chennai Super Kings,Kings XI Punjab,field,Tie,Superover,J Theron,NULL,1\\r\\n131,419127,Mumbai Indians,Kolkata Knight Riders,3/22/2010,2010,Brabourne Stadium,Mumbai,India,Kolkata Knight Riders,Mumbai Indians,bat,wickets,Result,SR Tendulkar,7,1\\r\\n132,419128,Royal Challengers Bangalore,Chennai Super Kings,3/23/2010,2010,M Chinnaswamy Stadium,Bangalore,India,Chennai Super Kings,Royal Challengers Bangalore,field,runs,Result,RV Uthappa,36,1\\r\\n133,419129,Kings XI Punjab,Rajasthan Royals,3/24/2010,2010,\"Punjab Cricket Association Stadium, Mohali\",Chandigarh,India,Kings XI Punjab,Rajasthan Royals,field,runs,Result,AC Voges,31,1\\r\\n134,419130,Mumbai Indians,Chennai Super Kings,3/25/2010,2010,Brabourne Stadium,Mumbai,India,Mumbai Indians,Mumbai Indians,field,wickets,Result,SR Tendulkar,5,1\\r\\n135,419131,Rajasthan Royals,Deccan Chargers,3/26/2010,2010,\"Sardar Patel Stadium, Motera\",Ahmedabad,India,Deccan Chargers,Rajasthan Royals,bat,wickets,Result,YK Pathan,8,1\\r\\n136,419132,Kings XI Punjab,Kolkata Knight Riders,3/27/2010,2010,\"Punjab Cricket Association Stadium, Mohali\",Chandigarh,India,Kolkata Knight Riders,Kolkata Knight Riders,bat,runs,Result,MK Tiwary,39,1\\r\\n137,419133,Royal Challengers Bangalore,Delhi Daredevils,3/25/2010,2010,M Chinnaswamy Stadium,Bangalore,India,Royal Challengers Bangalore,Delhi Daredevils,field,runs,Result,KM Jadhav,17,1\\r\\n138,419134,Rajasthan Royals,Chennai Super Kings,3/28/2010,2010,\"Sardar Patel Stadium, Motera\",Ahmedabad,India,Rajasthan Royals,Rajasthan Royals,bat,runs,Result,NV Ojha,17,1\\r\\n139,419135,Deccan Chargers,Mumbai Indians,3/28/2010,2010,Dr DY Patil Sports Academy,Mumbai,India,Deccan Chargers,Mumbai Indians,field,runs,Result,Harbhajan Singh,41,1\\r\\n140,419136,Delhi Daredevils,Kolkata Knight Riders,3/29/2010,2010,Feroz Shah Kotla,Delhi,India,Delhi Daredevils,Delhi Daredevils,bat,runs,Result,DA Warner,40,1\\r\\n141,419137,Mumbai Indians,Kings XI Punjab,3/30/2010,2010,Brabourne Stadium,Mumbai,India,Mumbai Indians,Mumbai Indians,field,wickets,Result,SL Malinga,4,1\\r\\n142,419138,Chennai Super Kings,Royal Challengers Bangalore,3/31/2010,2010,\"MA Chidambaram Stadium, Chepauk\",Chennai,India,Royal Challengers Bangalore,Chennai Super Kings,bat,wickets,Result,M Vijay,5,1\\r\\n143,419139,Delhi Daredevils,Rajasthan Royals,3/31/2010,2010,Feroz Shah Kotla,Delhi,India,Delhi Daredevils,Delhi Daredevils,bat,runs,Result,KD Karthik,67,1\\r\\n144,419140,Kolkata Knight Riders,Deccan Chargers,4/1/2010,2010,Eden Gardens,Kolkata,India,Kolkata Knight Riders,Kolkata Knight Riders,bat,runs,Result,SC Ganguly,24,1\\r\\n145,419141,Kings XI Punjab,Royal Challengers Bangalore,4/2/2010,2010,\"Punjab Cricket Association Stadium, Mohali\",Chandigarh,India,Kings XI Punjab,Royal Challengers Bangalore,bat,wickets,Result,KP Pietersen,6,1\\r\\n146,419142,Chennai Super Kings,Rajasthan Royals,4/3/2010,2010,\"MA Chidambaram Stadium, Chepauk\",Chennai,India,Chennai Super Kings,Chennai Super Kings,bat,runs,Result,M Vijay,23,1\\r\\n147,419143,Mumbai Indians,Deccan Chargers,4/3/2010,2010,Brabourne Stadium,Mumbai,India,Mumbai Indians,Mumbai Indians,bat,runs,Result,AT Rayudu,63,1\\r\\n148,419144,Kolkata Knight Riders,Kings XI Punjab,4/4/2010,2010,Eden Gardens,Kolkata,India,Kolkata Knight Riders,Kings XI Punjab,bat,wickets,Result,DPMD Jayawardene,8,1\\r\\n149,419145,Delhi Daredevils,Royal Challengers Bangalore,4/4/2010,2010,Feroz Shah Kotla,Delhi,India,Delhi Daredevils,Delhi Daredevils,bat,runs,Result,PD Collingwood,37,1\\r\\n150,419146,Deccan Chargers,Rajasthan Royals,4/5/2010,2010,\"Vidarbha Cricket Association Stadium, Jamtha\",Nagpur,India,Rajasthan Royals,Rajasthan Royals,bat,runs,Result,SK Warne,2,1\\r\\n151,419147,Chennai Super Kings,Mumbai Indians,4/6/2010,2010,\"MA Chidambaram Stadium, Chepauk\",Chennai,India,Chennai Super Kings,Chennai Super Kings,bat,runs,Result,SK Raina,24,1\\r\\n152,419148,Rajasthan Royals,Kings XI Punjab,4/7/2010,2010,Sawai Mansingh Stadium,Jaipur,India,Kings XI Punjab,Rajasthan Royals,bat,wickets,Result,MJ Lumb,9,1\\r\\n153,419149,Kolkata Knight Riders,Delhi Daredevils,4/7/2010,2010,Eden Gardens,Kolkata,India,Kolkata Knight Riders,Kolkata Knight Riders,bat,runs,Result,SC Ganguly,14,1\\r\\n154,419150,Royal Challengers Bangalore,Deccan Chargers,4/8/2010,2010,M Chinnaswamy Stadium,Bangalore,India,Deccan Chargers,Deccan Chargers,field,wickets,Result,TL Suman,7,1\\r\\n155,419151,Kings XI Punjab,Mumbai Indians,4/9/2010,2010,\"Punjab Cricket Association Stadium, Mohali\",Chandigarh,India,Mumbai Indians,Kings XI Punjab,bat,wickets,Result,KC Sangakkara,6,1\\r\\n156,419152,Deccan Chargers,Chennai Super Kings,4/10/2010,2010,\"Vidarbha Cricket Association Stadium, Jamtha\",Nagpur,India,Chennai Super Kings,Deccan Chargers,bat,wickets,Result,RJ Harris,6,1\\r\\n157,419153,Royal Challengers Bangalore,Kolkata Knight Riders,4/10/2010,2010,M Chinnaswamy Stadium,Bangalore,India,Royal Challengers Bangalore,Royal Challengers Bangalore,field,wickets,Result,R Vinay Kumar,7,1\\r\\n158,419154,Delhi Daredevils,Kings XI Punjab,4/11/2010,2010,Feroz Shah Kotla,Delhi,India,Delhi Daredevils,Kings XI Punjab,bat,wickets,Result,PP Chawla,7,1\\r\\n159,419155,Rajasthan Royals,Mumbai Indians,4/11/2010,2010,Sawai Mansingh Stadium,Jaipur,India,Rajasthan Royals,Mumbai Indians,field,runs,Result,SR Tendulkar,37,1\\r\\n160,419156,Deccan Chargers,Royal Challengers Bangalore,4/12/2010,2010,\"Vidarbha Cricket Association Stadium, Jamtha\",Nagpur,India,Royal Challengers Bangalore,Deccan Chargers,field,runs,Result,Harmeet Singh,13,1\\r\\n161,419157,Mumbai Indians,Delhi Daredevils,4/13/2010,2010,Brabourne Stadium,Mumbai,India,Mumbai Indians,Mumbai Indians,bat,runs,Result,KA Pollard,39,1\\r\\n162,419158,Chennai Super Kings,Kolkata Knight Riders,4/13/2010,2010,\"MA Chidambaram Stadium, Chepauk\",Chennai,India,Kolkata Knight Riders,Chennai Super Kings,bat,wickets,Result,R Ashwin,9,1\\r\\n163,419159,Rajasthan Royals,Royal Challengers Bangalore,4/14/2010,2010,Sawai Mansingh Stadium,Jaipur,India,Rajasthan Royals,Royal Challengers Bangalore,bat,wickets,Result,KP Pietersen,5,1\\r\\n164,419160,Chennai Super Kings,Delhi Daredevils,4/15/2010,2010,\"MA Chidambaram Stadium, Chepauk\",Chennai,India,Chennai Super Kings,Delhi Daredevils,bat,wickets,Result,G Gambhir,6,1\\r\\n165,419161,Kings XI Punjab,Deccan Chargers,4/16/2010,2010,Himachal Pradesh Cricket Association Stadium,Dharamsala,India,Deccan Chargers,Deccan Chargers,field,wickets,Result,RG Sharma,5,1\\r\\n166,419162,Royal Challengers Bangalore,Mumbai Indians,4/17/2010,2010,M Chinnaswamy Stadium,Bangalore,India,Royal Challengers Bangalore,Mumbai Indians,field,runs,Result,R McLaren,57,1\\r\\n167,419163,Kolkata Knight Riders,Rajasthan Royals,4/17/2010,2010,Eden Gardens,Kolkata,India,Rajasthan Royals,Kolkata Knight Riders,bat,wickets,Result,JD Unadkat,8,1\\r\\n168,419164,Kings XI Punjab,Chennai Super Kings,4/18/2010,2010,Himachal Pradesh Cricket Association Stadium,Dharamsala,India,Chennai Super Kings,Chennai Super Kings,field,wickets,Result,MS Dhoni,6,1\\r\\n169,419165,Delhi Daredevils,Deccan Chargers,4/18/2010,2010,Feroz Shah Kotla,Delhi,India,Deccan Chargers,Deccan Chargers,bat,runs,Result,A Symonds,11,1\\r\\n170,419166,Kolkata Knight Riders,Mumbai Indians,4/19/2010,2010,Eden Gardens,Kolkata,India,Mumbai Indians,Kolkata Knight Riders,bat,wickets,Result,M Kartik,9,1\\r\\n171,419167,Royal Challengers Bangalore,Mumbai Indians,4/21/2010,2010,Dr DY Patil Sports Academy,Mumbai,India,Mumbai Indians,Mumbai Indians,bat,runs,Result,KA Pollard,35,1\\r\\n172,419168,Chennai Super Kings,Deccan Chargers,4/22/2010,2010,Dr DY Patil Sports Academy,Mumbai,India,Chennai Super Kings,Chennai Super Kings,bat,runs,Result,DE Bollinger,38,1\\r\\n173,419169,Royal Challengers Bangalore,Deccan Chargers,4/24/2010,2010,Dr DY Patil Sports Academy,Mumbai,India,Deccan Chargers,Royal Challengers Bangalore,bat,wickets,Result,A Kumble,9,1\\r\\n174,419170,Chennai Super Kings,Mumbai Indians,4/25/2010,2010,Dr DY Patil Sports Academy,Mumbai,India,Chennai Super Kings,Chennai Super Kings,bat,runs,Result,SK Raina,22,1\\r\\n175,501203,Chennai Super Kings,Kolkata Knight Riders,4/8/2011,2011,\"MA Chidambaram Stadium, Chepauk\",Chennai,India,Chennai Super Kings,Chennai Super Kings,bat,runs,Result,S Anirudha,2,1\\r\\n176,501204,Deccan Chargers,Rajasthan Royals,4/9/2011,2011,\"Rajiv Gandhi International Stadium, Uppal\",Hyderabad,India,Rajasthan Royals,Rajasthan Royals,field,wickets,Result,SK Trivedi,8,1\\r\\n177,501205,Kochi Tuskers Kerala,Royal Challengers Bangalore,4/9/2011,2011,Nehru Stadium,Kochi,India,Kochi Tuskers Kerala,Royal Challengers Bangalore,bat,wickets,Result,AB de Villiers,6,1\\r\\n178,501206,Delhi Daredevils,Mumbai Indians,4/10/2011,2011,Feroz Shah Kotla,Delhi,India,Delhi Daredevils,Mumbai Indians,bat,wickets,Result,SL Malinga,8,1\\r\\n179,501207,Pune Warriors,Kings XI Punjab,4/10/2011,2011,Dr DY Patil Sports Academy,Mumbai,India,Kings XI Punjab,Pune Warriors,bat,wickets,Result,SB Wagh,7,1\\r\\n180,501208,Kolkata Knight Riders,Deccan Chargers,4/11/2011,2011,Eden Gardens,Kolkata,India,Kolkata Knight Riders,Kolkata Knight Riders,bat,runs,Result,JH Kallis,9,1\\r\\n181,501209,Rajasthan Royals,Delhi Daredevils,4/12/2011,2011,Sawai Mansingh Stadium,Jaipur,India,Delhi Daredevils,Rajasthan Royals,bat,wickets,Result,SK Warne,6,1\\r\\n182,501210,Royal Challengers Bangalore,Mumbai Indians,4/12/2011,2011,M Chinnaswamy Stadium,Bangalore,India,Mumbai Indians,Mumbai Indians,field,wickets,Result,SR Tendulkar,9,1\\r\\n183,501211,Kings XI Punjab,Chennai Super Kings,4/13/2011,2011,\"Punjab Cricket Association Stadium, Mohali\",Chandigarh,India,Kings XI Punjab,Kings XI Punjab,field,wickets,Result,PC Valthaty,6,1\\r\\n184,501212,Pune Warriors,Kochi Tuskers Kerala,4/13/2011,2011,Dr DY Patil Sports Academy,Mumbai,India,Kochi Tuskers Kerala,Pune Warriors,bat,wickets,Result,MD Mishra,4,1\\r\\n185,501213,Deccan Chargers,Royal Challengers Bangalore,4/14/2011,2011,\"Rajiv Gandhi International Stadium, Uppal\",Hyderabad,India,Royal Challengers Bangalore,Deccan Chargers,field,runs,Result,DW Steyn,33,1\\r\\n186,501214,Rajasthan Royals,Kolkata Knight Riders,4/15/2011,2011,Sawai Mansingh Stadium,Jaipur,India,Kolkata Knight Riders,Kolkata Knight Riders,field,wickets,Result,G Gambhir,9,1\\r\\n187,501215,Mumbai Indians,Kochi Tuskers Kerala,4/15/2011,2011,Wankhede Stadium,Mumbai,India,Kochi Tuskers Kerala,Kochi Tuskers Kerala,field,wickets,Result,BB McCullum,8,1\\r\\n188,501216,Chennai Super Kings,Royal Challengers Bangalore,4/16/2011,2011,\"MA Chidambaram Stadium, Chepauk\",Chennai,India,Chennai Super Kings,Chennai Super Kings,bat,runs,Result,MEK Hussey,21,1\\r\\n189,501217,Deccan Chargers,Kings XI Punjab,4/16/2011,2011,\"Rajiv Gandhi International Stadium, Uppal\",Hyderabad,India,Kings XI Punjab,Kings XI Punjab,field,wickets,Result,PC Valthaty,8,1\\r\\n190,501218,Pune Warriors,Delhi Daredevils,4/17/2011,2011,Dr DY Patil Sports Academy,Mumbai,India,Delhi Daredevils,Delhi Daredevils,field,wickets,Result,Yuvraj Singh,3,1\\r\\n191,501219,Kolkata Knight Riders,Rajasthan Royals,4/17/2011,2011,Eden Gardens,Kolkata,India,Kolkata Knight Riders,Kolkata Knight Riders,field,wickets,Result,L Balaji,8,1\\r\\n192,501220,Kochi Tuskers Kerala,Chennai Super Kings,4/18/2011,2011,Nehru Stadium,Kochi,India,Kochi Tuskers Kerala,Kochi Tuskers Kerala,field,wickets,Result,BB McCullum,7,1\\r\\n193,501221,Delhi Daredevils,Deccan Chargers,4/19/2011,2011,Feroz Shah Kotla,Delhi,India,Deccan Chargers,Deccan Chargers,bat,runs,Result,S Sohal,16,1\\r\\n194,501223,Mumbai Indians,Pune Warriors,4/20/2011,2011,Wankhede Stadium,Mumbai,India,Pune Warriors,Mumbai Indians,bat,wickets,Result,MM Patel,7,1\\r\\n195,501224,Kolkata Knight Riders,Kochi Tuskers Kerala,4/20/2011,2011,Eden Gardens,Kolkata,India,Kolkata Knight Riders,Kochi Tuskers Kerala,field,runs,Result,DPMD Jayawardene,6,1\\r\\n196,501225,Kings XI Punjab,Rajasthan Royals,4/21/2011,2011,\"Punjab Cricket Association Stadium, Mohali\",Chandigarh,India,Rajasthan Royals,Kings XI Punjab,field,runs,Result,SE Marsh,48,1\\r\\n197,501226,Mumbai Indians,Chennai Super Kings,4/22/2011,2011,Wankhede Stadium,Mumbai,India,Chennai Super Kings,Mumbai Indians,field,runs,Result,Harbhajan Singh,8,1\\r\\n198,501227,Kolkata Knight Riders,Royal Challengers Bangalore,4/22/2011,2011,Eden Gardens,Kolkata,India,Royal Challengers Bangalore,Royal Challengers Bangalore,field,wickets,Result,CH Gayle,9,1\\r\\n199,501228,Delhi Daredevils,Kings XI Punjab,4/23/2011,2011,Feroz Shah Kotla,Delhi,India,Kings XI Punjab,Delhi Daredevils,field,runs,Result,DA Warner,29,1\\r\\n200,501229,Deccan Chargers,Mumbai Indians,4/24/2011,2011,\"Rajiv Gandhi International Stadium, Uppal\",Hyderabad,India,Deccan Chargers,Mumbai Indians,field,runs,Result,SL Malinga,37,1\\r\\n201,501230,Rajasthan Royals,Kochi Tuskers Kerala,4/24/2011,2011,Sawai Mansingh Stadium,Jaipur,India,Rajasthan Royals,Rajasthan Royals,field,wickets,Result,SK Warne,8,1\\r\\n202,501231,Chennai Super Kings,Pune Warriors,4/25/2011,2011,\"MA Chidambaram Stadium, Chepauk\",Chennai,India,Pune Warriors,Chennai Super Kings,field,runs,Result,MEK Hussey,25,1\\r\\n203,501232,Delhi Daredevils,Royal Challengers Bangalore,4/26/2011,2011,Feroz Shah Kotla,Delhi,India,Royal Challengers Bangalore,Royal Challengers Bangalore,field,wickets,Result,V Kohli,3,1\\r\\n204,501233,Pune Warriors,Chennai Super Kings,4/27/2011,2011,Dr DY Patil Sports Academy,Mumbai,India,Pune Warriors,Chennai Super Kings,bat,wickets,Result,DE Bollinger,8,1\\r\\n205,501234,Kochi Tuskers Kerala,Deccan Chargers,4/27/2011,2011,Nehru Stadium,Kochi,India,Kochi Tuskers Kerala,Deccan Chargers,field,runs,Result,I Sharma,55,1\\r\\n206,501235,Delhi Daredevils,Kolkata Knight Riders,4/28/2011,2011,Feroz Shah Kotla,Delhi,India,Delhi Daredevils,Kolkata Knight Riders,field,runs,Result,MK Tiwary,17,1\\r\\n207,501236,Rajasthan Royals,Mumbai Indians,4/29/2011,2011,Sawai Mansingh Stadium,Jaipur,India,Rajasthan Royals,Rajasthan Royals,field,wickets,Result,J Botha,7,1\\r\\n208,501237,Royal Challengers Bangalore,Pune Warriors,4/29/2011,2011,M Chinnaswamy Stadium,Bangalore,India,Pune Warriors,Royal Challengers Bangalore,field,runs,Result,V Kohli,26,1\\r\\n209,501238,Kochi Tuskers Kerala,Delhi Daredevils,4/30/2011,2011,Nehru Stadium,Kochi,India,Delhi Daredevils,Delhi Daredevils,bat,runs,Result,V Sehwag,38,1\\r\\n210,501239,Kolkata Knight Riders,Kings XI Punjab,4/30/2011,2011,Eden Gardens,Kolkata,India,Kolkata Knight Riders,Kolkata Knight Riders,field,wickets,Result,Iqbal Abdulla,8,1\\r\\n211,501240,Rajasthan Royals,Pune Warriors,5/1/2011,2011,Sawai Mansingh Stadium,Jaipur,India,Rajasthan Royals,Rajasthan Royals,field,wickets,Result,LRPL Taylor,6,1\\r\\n212,501241,Chennai Super Kings,Deccan Chargers,5/1/2011,2011,\"MA Chidambaram Stadium, Chepauk\",Chennai,India,Chennai Super Kings,Chennai Super Kings,bat,runs,Result,JA Morkel,19,1\\r\\n213,501242,Mumbai Indians,Kings XI Punjab,5/2/2011,2011,Wankhede Stadium,Mumbai,India,Kings XI Punjab,Mumbai Indians,field,runs,Result,KA Pollard,23,1\\r\\n214,501243,Delhi Daredevils,Kochi Tuskers Kerala,5/2/2011,2011,Feroz Shah Kotla,Delhi,India,Kochi Tuskers Kerala,Kochi Tuskers Kerala,field,wickets,Result,P Parameswaran,7,1\\r\\n215,501244,Deccan Chargers,Kolkata Knight Riders,5/3/2011,2011,\"Rajiv Gandhi International Stadium, Uppal\",Hyderabad,India,Deccan Chargers,Kolkata Knight Riders,field,runs,Result,YK Pathan,20,1\\r\\n216,501245,Chennai Super Kings,Rajasthan Royals,5/4/2011,2011,\"MA Chidambaram Stadium, Chepauk\",Chennai,India,Rajasthan Royals,Chennai Super Kings,bat,wickets,Result,MEK Hussey,8,1\\r\\n217,501246,Pune Warriors,Mumbai Indians,5/4/2011,2011,Dr DY Patil Sports Academy,Mumbai,India,Pune Warriors,Mumbai Indians,field,runs,Result,R Sharma,21,1\\r\\n218,501247,Kochi Tuskers Kerala,Kolkata Knight Riders,5/5/2011,2011,Nehru Stadium,Kochi,India,Kolkata Knight Riders,Kochi Tuskers Kerala,field,runs,Result,BJ Hodge,17,1\\r\\n219,501248,Deccan Chargers,Delhi Daredevils,5/5/2011,2011,\"Rajiv Gandhi International Stadium, Uppal\",Hyderabad,India,Delhi Daredevils,Delhi Daredevils,field,wickets,Result,V Sehwag,4,1\\r\\n220,501249,Royal Challengers Bangalore,Kings XI Punjab,5/6/2011,2011,M Chinnaswamy Stadium,Bangalore,India,Kings XI Punjab,Royal Challengers Bangalore,field,runs,Result,CH Gayle,85,1\\r\\n221,501250,Kolkata Knight Riders,Chennai Super Kings,5/7/2011,2011,Eden Gardens,Kolkata,India,Chennai Super Kings,Kolkata Knight Riders,bat,runs,Result,Iqbal Abdulla,10,1\\r\\n222,501251,Mumbai Indians,Delhi Daredevils,5/7/2011,2011,Wankhede Stadium,Mumbai,India,Delhi Daredevils,Mumbai Indians,field,runs,Result,AT Rayudu,32,1\\r\\n223,501252,Royal Challengers Bangalore,Kochi Tuskers Kerala,5/8/2011,2011,M Chinnaswamy Stadium,Bangalore,India,Kochi Tuskers Kerala,Royal Challengers Bangalore,bat,wickets,Result,CH Gayle,9,1\\r\\n224,501253,Kings XI Punjab,Pune Warriors,5/8/2011,2011,\"Punjab Cricket Association Stadium, Mohali\",Chandigarh,India,Kings XI Punjab,Pune Warriors,bat,wickets,Result,R Sharma,5,1\\r\\n225,501254,Rajasthan Royals,Chennai Super Kings,5/9/2011,2011,Sawai Mansingh Stadium,Jaipur,India,Rajasthan Royals,Chennai Super Kings,field,runs,Result,M Vijay,63,1\\r\\n226,501255,Deccan Chargers,Pune Warriors,5/10/2011,2011,\"Rajiv Gandhi International Stadium, Uppal\",Hyderabad,India,Deccan Chargers,Pune Warriors,bat,wickets,Result,MR Marsh,6,1\\r\\n227,501256,Kings XI Punjab,Mumbai Indians,5/10/2011,2011,\"Punjab Cricket Association Stadium, Mohali\",Chandigarh,India,Mumbai Indians,Kings XI Punjab,field,runs,Result,BA Bhatt,76,1\\r\\n228,501257,Rajasthan Royals,Royal Challengers Bangalore,5/11/2011,2011,Sawai Mansingh Stadium,Jaipur,India,Royal Challengers Bangalore,Royal Challengers Bangalore,field,wickets,Result,S Aravind,9,1\\r\\n229,501258,Chennai Super Kings,Delhi Daredevils,5/12/2011,2011,\"MA Chidambaram Stadium, Chepauk\",Chennai,India,Chennai Super Kings,Chennai Super Kings,bat,runs,Result,MS Dhoni,18,1\\r\\n230,501259,Kochi Tuskers Kerala,Kings XI Punjab,5/13/2011,2011,Holkar Cricket Stadium,Indore,India,Kings XI Punjab,Kings XI Punjab,field,wickets,Result,KD Karthik,6,1\\r\\n231,501260,Royal Challengers Bangalore,Kolkata Knight Riders,5/14/2011,2011,M Chinnaswamy Stadium,Bangalore,India,Royal Challengers Bangalore,Royal Challengers Bangalore,field,wickets,Result,CH Gayle,4,1\\r\\n232,501261,Mumbai Indians,Deccan Chargers,5/14/2011,2011,Wankhede Stadium,Mumbai,India,Deccan Chargers,Deccan Chargers,bat,runs,Result,A Mishra,10,1\\r\\n233,501262,Kings XI Punjab,Delhi Daredevils,5/15/2011,2011,Himachal Pradesh Cricket Association Stadium,Dharamsala,India,Delhi Daredevils,Kings XI Punjab,field,runs,Result,PP Chawla,29,1\\r\\n234,501263,Kochi Tuskers Kerala,Rajasthan Royals,5/15/2011,2011,Holkar Cricket Stadium,Indore,India,Kochi Tuskers Kerala,Kochi Tuskers Kerala,field,wickets,Result,BJ Hodge,8,1\\r\\n235,501264,Pune Warriors,Deccan Chargers,5/16/2011,2011,Dr DY Patil Sports Academy,Mumbai,India,Deccan Chargers,Deccan Chargers,field,wickets,Result,A Mishra,6,1\\r\\n236,501265,Kings XI Punjab,Royal Challengers Bangalore,5/17/2011,2011,Himachal Pradesh Cricket Association Stadium,Dharamsala,India,Kings XI Punjab,Kings XI Punjab,bat,runs,Result,AC Gilchrist,111,1\\r\\n237,501266,Chennai Super Kings,Kochi Tuskers Kerala,5/18/2011,2011,\"MA Chidambaram Stadium, Chepauk\",Chennai,India,Chennai Super Kings,Chennai Super Kings,bat,runs,Result,WP Saha,11,1\\r\\n238,501267,Pune Warriors,Kolkata Knight Riders,5/19/2011,2011,Dr DY Patil Sports Academy,Mumbai,India,Kolkata Knight Riders,Kolkata Knight Riders,field,wickets,Result,YK Pathan,7,1\\r\\n239,501268,Mumbai Indians,Rajasthan Royals,5/20/2011,2011,Wankhede Stadium,Mumbai,India,Mumbai Indians,Rajasthan Royals,bat,wickets,Result,SR Watson,10,1\\r\\n240,501269,Kings XI Punjab,Deccan Chargers,5/21/2011,2011,Himachal Pradesh Cricket Association Stadium,Dharamsala,India,Kings XI Punjab,Deccan Chargers,field,runs,Result,S Dhawan,82,1\\r\\n241,501270,Delhi Daredevils,Pune Warriors,5/21/2011,2011,Feroz Shah Kotla,Delhi,India,Delhi Daredevils,NULL,bat,NO Result,No Result,NULL,NULL,1\\r\\n242,501271,Royal Challengers Bangalore,Chennai Super Kings,5/22/2011,2011,M Chinnaswamy Stadium,Bangalore,India,Royal Challengers Bangalore,Royal Challengers Bangalore,field,wickets,Result,CH Gayle,8,1\\r\\n243,501272,Kolkata Knight Riders,Mumbai Indians,5/22/2011,2011,Eden Gardens,Kolkata,India,Mumbai Indians,Mumbai Indians,field,wickets,Result,JEC Franklin,5,1\\r\\n244,501273,Royal Challengers Bangalore,Chennai Super Kings,5/24/2011,2011,Wankhede Stadium,Mumbai,India,Chennai Super Kings,Chennai Super Kings,field,wickets,Result,SK Raina,6,1\\r\\n245,501274,Mumbai Indians,Kolkata Knight Riders,5/25/2011,2011,Wankhede Stadium,Mumbai,India,Mumbai Indians,Mumbai Indians,field,wickets,Result,MM Patel,4,1\\r\\n246,501275,Royal Challengers Bangalore,Mumbai Indians,5/27/2011,2011,\"MA Chidambaram Stadium, Chepauk\",Chennai,India,Mumbai Indians,Royal Challengers Bangalore,field,runs,Result,CH Gayle,43,1\\r\\n247,501276,Chennai Super Kings,Royal Challengers Bangalore,5/28/2011,2011,\"MA Chidambaram Stadium, Chepauk\",Chennai,India,Chennai Super Kings,Chennai Super Kings,bat,runs,Result,M Vijay,58,1\\r\\n248,548311,Chennai Super Kings,Mumbai Indians,4/4/2012,2012,\"MA Chidambaram Stadium, Chepauk\",Chennai,India,Mumbai Indians,Mumbai Indians,field,wickets,Result,RE Levi,8,1\\r\\n249,548312,Kolkata Knight Riders,Delhi Daredevils,4/5/2012,2012,Eden Gardens,Kolkata,India,Delhi Daredevils,Delhi Daredevils,field,wickets,Result,IK Pathan,8,1\\r\\n250,548313,Mumbai Indians,Pune Warriors,4/6/2012,2012,Wankhede Stadium,Mumbai,India,Mumbai Indians,Pune Warriors,field,runs,Result,SPD Smith,28,1\\r\\n251,548314,Rajasthan Royals,Kings XI Punjab,4/6/2012,2012,Sawai Mansingh Stadium,Jaipur,India,Kings XI Punjab,Rajasthan Royals,field,runs,Result,AM Rahane,31,1\\r\\n252,548315,Royal Challengers Bangalore,Delhi Daredevils,4/7/2012,2012,M Chinnaswamy Stadium,Bangalore,India,Delhi Daredevils,Royal Challengers Bangalore,field,runs,Result,AB de Villiers,20,1\\r\\n253,548316,Deccan Chargers,Chennai Super Kings,4/7/2012,2012,Dr. Y.S. Rajasekhara Reddy ACA-VDCA Cricket Stadium,Visakhapatnam,India,Deccan Chargers,Chennai Super Kings,field,runs,Result,RA Jadeja,74,1\\r\\n254,548317,Rajasthan Royals,Kolkata Knight Riders,4/8/2012,2012,Sawai Mansingh Stadium,Jaipur,India,Kolkata Knight Riders,Rajasthan Royals,field,runs,Result,BJ Hodge,22,1\\r\\n255,548318,Pune Warriors,Kings XI Punjab,4/8/2012,2012,Subrata Roy Sahara Stadium,Pune,India,Pune Warriors,Pune Warriors,bat,runs,Result,MN Samuels,22,1\\r\\n256,548319,Deccan Chargers,Mumbai Indians,4/9/2012,2012,Dr. Y.S. Rajasekhara Reddy ACA-VDCA Cricket Stadium,Visakhapatnam,India,Deccan Chargers,Mumbai Indians,bat,wickets,Result,RG Sharma,5,1\\r\\n257,548320,Royal Challengers Bangalore,Kolkata Knight Riders,4/10/2012,2012,M Chinnaswamy Stadium,Bangalore,India,Royal Challengers Bangalore,Kolkata Knight Riders,field,runs,Result,L Balaji,42,1\\r\\n258,548321,Delhi Daredevils,Chennai Super Kings,4/10/2012,2012,Feroz Shah Kotla,Delhi,India,Delhi Daredevils,Delhi Daredevils,field,wickets,Result,M Morkel,8,1\\r\\n259,548322,Mumbai Indians,Rajasthan Royals,4/11/2012,2012,Wankhede Stadium,Mumbai,India,Rajasthan Royals,Mumbai Indians,field,runs,Result,KA Pollard,27,1\\r\\n260,548323,Chennai Super Kings,Royal Challengers Bangalore,4/12/2012,2012,\"MA Chidambaram Stadium, Chepauk\",Chennai,India,Royal Challengers Bangalore,Chennai Super Kings,bat,wickets,Result,F du Plessis,5,1\\r\\n261,548324,Kings XI Punjab,Pune Warriors,4/12/2012,2012,\"Punjab Cricket Association Stadium, Mohali\",Chandigarh,India,Kings XI Punjab,Kings XI Punjab,field,wickets,Result,AD Mascarenhas,7,1\\r\\n262,548325,Kolkata Knight Riders,Rajasthan Royals,4/13/2012,2012,Eden Gardens,Kolkata,India,Rajasthan Royals,Kolkata Knight Riders,bat,wickets,Result,Shakib Al Hasan,5,1\\r\\n263,548326,Delhi Daredevils,Deccan Chargers,4/19/2012,2012,Feroz Shah Kotla,Delhi,India,Deccan Chargers,Delhi Daredevils,bat,wickets,Result,KP Pietersen,5,1\\r\\n264,548327,Pune Warriors,Chennai Super Kings,4/14/2012,2012,Subrata Roy Sahara Stadium,Pune,India,Chennai Super Kings,Pune Warriors,bat,wickets,Result,JD Ryder,7,1\\r\\n265,548328,Kolkata Knight Riders,Kings XI Punjab,4/15/2012,2012,Eden Gardens,Kolkata,India,Kolkata Knight Riders,Kings XI Punjab,field,runs,Result,SP Narine,2,1\\r\\n266,548329,Royal Challengers Bangalore,Rajasthan Royals,4/15/2012,2012,M Chinnaswamy Stadium,Bangalore,India,Rajasthan Royals,Rajasthan Royals,bat,runs,Result,AM Rahane,59,1\\r\\n267,548330,Mumbai Indians,Delhi Daredevils,4/16/2012,2012,Wankhede Stadium,Mumbai,India,Delhi Daredevils,Delhi Daredevils,field,wickets,Result,S Nadeem,7,1\\r\\n268,548331,Rajasthan Royals,Deccan Chargers,4/17/2012,2012,Sawai Mansingh Stadium,Jaipur,India,Deccan Chargers,Rajasthan Royals,bat,wickets,Result,BJ Hodge,5,1\\r\\n269,548332,Royal Challengers Bangalore,Pune Warriors,4/17/2012,2012,M Chinnaswamy Stadium,Bangalore,India,Pune Warriors,Royal Challengers Bangalore,bat,wickets,Result,CH Gayle,6,1\\r\\n270,548333,Kings XI Punjab,Kolkata Knight Riders,4/18/2012,2012,\"Punjab Cricket Association Stadium, Mohali\",Chandigarh,India,Kings XI Punjab,Kolkata Knight Riders,bat,wickets,Result,G Gambhir,8,1\\r\\n271,548334,Deccan Chargers,Delhi Daredevils,5/10/2012,2012,\"Rajiv Gandhi International Stadium, Uppal\",Hyderabad,India,Deccan Chargers,Delhi Daredevils,bat,wickets,Result,DA Warner,9,1\\r\\n272,548335,Chennai Super Kings,Pune Warriors,4/19/2012,2012,\"MA Chidambaram Stadium, Chepauk\",Chennai,India,Pune Warriors,Chennai Super Kings,field,runs,Result,KMDN Kulasekara,13,1\\r\\n273,548336,Kings XI Punjab,Royal Challengers Bangalore,4/20/2012,2012,\"Punjab Cricket Association Stadium, Mohali\",Chandigarh,India,Royal Challengers Bangalore,Royal Challengers Bangalore,field,wickets,Result,CH Gayle,5,1\\r\\n274,548337,Chennai Super Kings,Rajasthan Royals,4/21/2012,2012,\"MA Chidambaram Stadium, Chepauk\",Chennai,India,Rajasthan Royals,Chennai Super Kings,bat,wickets,Result,F du Plessis,7,1\\r\\n275,548338,Delhi Daredevils,Pune Warriors,4/21/2012,2012,Feroz Shah Kotla,Delhi,India,Delhi Daredevils,Pune Warriors,field,runs,Result,SC Ganguly,20,1\\r\\n276,548339,Mumbai Indians,Kings XI Punjab,4/22/2012,2012,Wankhede Stadium,Mumbai,India,Mumbai Indians,Kings XI Punjab,bat,wickets,Result,SE Marsh,6,1\\r\\n277,548340,Deccan Chargers,Kolkata Knight Riders,4/22/2012,2012,Barabati Stadium,Cuttack,India,Kolkata Knight Riders,Kolkata Knight Riders,field,wickets,Result,B Lee,5,1\\r\\n278,548341,Rajasthan Royals,Royal Challengers Bangalore,4/23/2012,2012,Sawai Mansingh Stadium,Jaipur,India,Rajasthan Royals,Royal Challengers Bangalore,field,runs,Result,AB de Villiers,46,1\\r\\n279,548342,Pune Warriors,Delhi Daredevils,4/24/2012,2012,Subrata Roy Sahara Stadium,Pune,India,Pune Warriors,Delhi Daredevils,bat,wickets,Result,V Sehwag,8,1\\r\\n280,548344,Kings XI Punjab,Mumbai Indians,4/25/2012,2012,\"Punjab Cricket Association Stadium, Mohali\",Chandigarh,India,Kings XI Punjab,Mumbai Indians,bat,wickets,Result,AT Rayudu,4,1\\r\\n281,548346,Pune Warriors,Deccan Chargers,4/26/2012,2012,Subrata Roy Sahara Stadium,Pune,India,Deccan Chargers,Deccan Chargers,bat,runs,Result,CL White,18,1\\r\\n282,548347,Delhi Daredevils,Mumbai Indians,4/27/2012,2012,Feroz Shah Kotla,Delhi,India,Mumbai Indians,Delhi Daredevils,field,runs,Result,V Sehwag,37,1\\r\\n283,548348,Chennai Super Kings,Kings XI Punjab,4/28/2012,2012,\"MA Chidambaram Stadium, Chepauk\",Chennai,India,Kings XI Punjab,Kings XI Punjab,bat,runs,Result,Mandeep Singh,7,1\\r\\n284,548349,Kolkata Knight Riders,Royal Challengers Bangalore,4/28/2012,2012,Eden Gardens,Kolkata,India,Kolkata Knight Riders,Kolkata Knight Riders,bat,runs,Result,G Gambhir,47,1\\r\\n285,548350,Delhi Daredevils,Rajasthan Royals,4/29/2012,2012,Feroz Shah Kotla,Delhi,India,Delhi Daredevils,Delhi Daredevils,bat,runs,Result,V Sehwag,1,1\\r\\n286,548351,Mumbai Indians,Deccan Chargers,4/29/2012,2012,Wankhede Stadium,Mumbai,India,Mumbai Indians,Mumbai Indians,field,wickets,Result,DW Steyn,5,1\\r\\n287,548352,Chennai Super Kings,Kolkata Knight Riders,4/30/2012,2012,\"MA Chidambaram Stadium, Chepauk\",Chennai,India,Chennai Super Kings,Kolkata Knight Riders,bat,wickets,Result,G Gambhir,5,1\\r\\n288,548353,Deccan Chargers,Pune Warriors,5/1/2012,2012,Barabati Stadium,Cuttack,India,Deccan Chargers,Deccan Chargers,bat,runs,Result,KC Sangakkara,13,1\\r\\n289,548354,Rajasthan Royals,Delhi Daredevils,5/1/2012,2012,Sawai Mansingh Stadium,Jaipur,India,Rajasthan Royals,Delhi Daredevils,bat,wickets,Result,P Negi,6,1\\r\\n290,548355,Royal Challengers Bangalore,Kings XI Punjab,5/2/2012,2012,M Chinnaswamy Stadium,Bangalore,India,Kings XI Punjab,Kings XI Punjab,field,wickets,Result,Azhar Mahmood,4,1\\r\\n291,548356,Pune Warriors,Mumbai Indians,5/3/2012,2012,Subrata Roy Sahara Stadium,Pune,India,Mumbai Indians,Mumbai Indians,bat,runs,Result,SL Malinga,1,1\\r\\n292,548357,Chennai Super Kings,Deccan Chargers,5/4/2012,2012,\"MA Chidambaram Stadium, Chepauk\",Chennai,India,Chennai Super Kings,Chennai Super Kings,bat,runs,Result,SK Raina,10,1\\r\\n293,548358,Kolkata Knight Riders,Pune Warriors,5/5/2012,2012,Eden Gardens,Kolkata,India,Kolkata Knight Riders,Kolkata Knight Riders,bat,runs,Result,SP Narine,7,1\\r\\n294,548359,Kings XI Punjab,Rajasthan Royals,5/5/2012,2012,\"Punjab Cricket Association Stadium, Mohali\",Chandigarh,India,Rajasthan Royals,Rajasthan Royals,bat,runs,Result,SR Watson,43,1\\r\\n295,548360,Mumbai Indians,Chennai Super Kings,5/6/2012,2012,Wankhede Stadium,Mumbai,India,Mumbai Indians,Mumbai Indians,field,wickets,Result,DR Smith,2,1\\r\\n296,548361,Royal Challengers Bangalore,Deccan Chargers,5/6/2012,2012,M Chinnaswamy Stadium,Bangalore,India,Royal Challengers Bangalore,Royal Challengers Bangalore,field,wickets,Result,AB de Villiers,5,1\\r\\n297,548362,Delhi Daredevils,Kolkata Knight Riders,5/7/2012,2012,Feroz Shah Kotla,Delhi,India,Delhi Daredevils,Kolkata Knight Riders,bat,wickets,Result,JH Kallis,6,1\\r\\n298,548363,Pune Warriors,Rajasthan Royals,5/8/2012,2012,Subrata Roy Sahara Stadium,Pune,India,Pune Warriors,Rajasthan Royals,bat,wickets,Result,SR Watson,7,1\\r\\n299,548364,Deccan Chargers,Kings XI Punjab,5/8/2012,2012,\"Rajiv Gandhi International Stadium, Uppal\",Hyderabad,India,Deccan Chargers,Kings XI Punjab,field,runs,Result,Mandeep Singh,25,1\\r\\n300,548365,Mumbai Indians,Royal Challengers Bangalore,5/9/2012,2012,Wankhede Stadium,Mumbai,India,Royal Challengers Bangalore,Royal Challengers Bangalore,field,wickets,Result,CH Gayle,9,1\\r\\n301,548366,Rajasthan Royals,Chennai Super Kings,5/10/2012,2012,Sawai Mansingh Stadium,Jaipur,India,Chennai Super Kings,Chennai Super Kings,field,wickets,Result,BW Hilfenhaus,4,1\\r\\n302,548367,Pune Warriors,Royal Challengers Bangalore,5/11/2012,2012,Subrata Roy Sahara Stadium,Pune,India,Pune Warriors,Royal Challengers Bangalore,field,runs,Result,CH Gayle,35,1\\r\\n303,548368,Kolkata Knight Riders,Mumbai Indians,5/12/2012,2012,Eden Gardens,Kolkata,India,Mumbai Indians,Mumbai Indians,bat,runs,Result,RG Sharma,27,1\\r\\n304,548369,Chennai Super Kings,Delhi Daredevils,5/12/2012,2012,\"MA Chidambaram Stadium, Chepauk\",Chennai,India,Chennai Super Kings,Chennai Super Kings,field,wickets,Result,BW Hilfenhaus,9,1\\r\\n305,548370,Rajasthan Royals,Pune Warriors,5/13/2012,2012,Sawai Mansingh Stadium,Jaipur,India,Rajasthan Royals,Rajasthan Royals,bat,runs,Result,A Chandila,45,1\\r\\n306,548371,Kings XI Punjab,Deccan Chargers,5/13/2012,2012,\"Punjab Cricket Association Stadium, Mohali\",Chandigarh,India,Deccan Chargers,Kings XI Punjab,bat,wickets,Result,DJ Hussey,4,1\\r\\n307,548372,Royal Challengers Bangalore,Mumbai Indians,5/14/2012,2012,M Chinnaswamy Stadium,Bangalore,India,Mumbai Indians,Mumbai Indians,field,wickets,Result,AT Rayudu,5,1\\r\\n308,548373,Kolkata Knight Riders,Chennai Super Kings,5/14/2012,2012,Eden Gardens,Kolkata,India,Chennai Super Kings,Chennai Super Kings,field,wickets,Result,MEK Hussey,5,1\\r\\n309,548374,Delhi Daredevils,Kings XI Punjab,5/15/2012,2012,Feroz Shah Kotla,Delhi,India,Kings XI Punjab,Delhi Daredevils,bat,wickets,Result,UT Yadav,5,1\\r\\n310,548375,Mumbai Indians,Kolkata Knight Riders,5/16/2012,2012,Wankhede Stadium,Mumbai,India,Mumbai Indians,Kolkata Knight Riders,field,runs,Result,SP Narine,32,1\\r\\n311,548376,Kings XI Punjab,Chennai Super Kings,5/17/2012,2012,Himachal Pradesh Cricket Association Stadium,Dharamsala,India,Kings XI Punjab,Kings XI Punjab,field,wickets,Result,AC Gilchrist,6,1\\r\\n312,548377,Delhi Daredevils,Royal Challengers Bangalore,5/17/2012,2012,Feroz Shah Kotla,Delhi,India,Delhi Daredevils,Royal Challengers Bangalore,field,runs,Result,CH Gayle,21,1\\r\\n313,548378,Deccan Chargers,Rajasthan Royals,5/18/2012,2012,\"Rajiv Gandhi International Stadium, Uppal\",Hyderabad,India,Rajasthan Royals,Deccan Chargers,bat,wickets,Result,DW Steyn,5,1\\r\\n314,548379,Kings XI Punjab,Delhi Daredevils,5/19/2012,2012,Himachal Pradesh Cricket Association Stadium,Dharamsala,India,Delhi Daredevils,Delhi Daredevils,field,wickets,Result,UT Yadav,6,1\\r\\n315,548380,Pune Warriors,Kolkata Knight Riders,5/19/2012,2012,Subrata Roy Sahara Stadium,Pune,India,Kolkata Knight Riders,Kolkata Knight Riders,bat,runs,Result,Shakib Al Hasan,34,1\\r\\n316,548381,Deccan Chargers,Royal Challengers Bangalore,5/20/2012,2012,\"Rajiv Gandhi International Stadium, Uppal\",Hyderabad,India,Royal Challengers Bangalore,Deccan Chargers,field,runs,Result,DW Steyn,9,1\\r\\n317,548382,Rajasthan Royals,Mumbai Indians,5/20/2012,2012,Sawai Mansingh Stadium,Jaipur,India,Rajasthan Royals,Mumbai Indians,bat,wickets,Result,DR Smith,10,1\\r\\n318,548383,Delhi Daredevils,Kolkata Knight Riders,5/22/2012,2012,Subrata Roy Sahara Stadium,Pune,India,Kolkata Knight Riders,Kolkata Knight Riders,bat,runs,Result,YK Pathan,18,1\\r\\n319,548384,Chennai Super Kings,Mumbai Indians,5/23/2012,2012,M Chinnaswamy Stadium,Bangalore,India,Mumbai Indians,Chennai Super Kings,field,runs,Result,MS Dhoni,38,1\\r\\n320,548385,Delhi Daredevils,Chennai Super Kings,5/25/2012,2012,\"MA Chidambaram Stadium, Chepauk\",Chennai,India,Delhi Daredevils,Chennai Super Kings,field,runs,Result,M Vijay,86,1\\r\\n321,548386,Kolkata Knight Riders,Chennai Super Kings,5/27/2012,2012,\"MA Chidambaram Stadium, Chepauk\",Chennai,India,Chennai Super Kings,Kolkata Knight Riders,bat,wickets,Result,MS Bisla,5,1\\r\\n322,598003,Kolkata Knight Riders,Delhi Daredevils,4/3/2013,2013,Eden Gardens,Kolkata,India,Kolkata Knight Riders,Kolkata Knight Riders,field,wickets,Result,SP Narine,6,1\\r\\n323,598004,Royal Challengers Bangalore,Mumbai Indians,4/4/2013,2013,M Chinnaswamy Stadium,Bangalore,India,Mumbai Indians,Royal Challengers Bangalore,field,runs,Result,CH Gayle,2,1\\r\\n324,598005,Sunrisers Hyderabad,Pune Warriors,4/5/2013,2013,\"Rajiv Gandhi International Stadium, Uppal\",Hyderabad,India,Pune Warriors,Sunrisers Hyderabad,field,runs,Result,A Mishra,22,1\\r\\n325,598006,Delhi Daredevils,Rajasthan Royals,4/6/2013,2013,Feroz Shah Kotla,Delhi,India,Rajasthan Royals,Rajasthan Royals,bat,runs,Result,R Dravid,5,1\\r\\n326,598007,Chennai Super Kings,Mumbai Indians,4/6/2013,2013,\"MA Chidambaram Stadium, Chepauk\",Chennai,India,Mumbai Indians,Mumbai Indians,bat,runs,Result,KA Pollard,9,1\\r\\n327,598008,Pune Warriors,Kings XI Punjab,4/7/2013,2013,Subrata Roy Sahara Stadium,Pune,India,Pune Warriors,Kings XI Punjab,bat,wickets,Result,M Vohra,8,1\\r\\n328,598009,Sunrisers Hyderabad,Royal Challengers Bangalore,4/7/2013,2013,\"Rajiv Gandhi International Stadium, Uppal\",Hyderabad,India,Royal Challengers Bangalore,Sunrisers Hyderabad,bat,Tie,Superover,GH Vihari,NULL,1\\r\\n329,598010,Rajasthan Royals,Kolkata Knight Riders,4/8/2013,2013,Sawai Mansingh Stadium,Jaipur,India,Kolkata Knight Riders,Rajasthan Royals,field,runs,Result,SK Trivedi,19,1\\r\\n330,598011,Mumbai Indians,Delhi Daredevils,4/9/2013,2013,Wankhede Stadium,Mumbai,India,Mumbai Indians,Mumbai Indians,bat,runs,Result,KD Karthik,44,1\\r\\n331,598012,Kings XI Punjab,Chennai Super Kings,4/10/2013,2013,\"Punjab Cricket Association Stadium, Mohali\",Chandigarh,India,Chennai Super Kings,Chennai Super Kings,field,wickets,Result,MEK Hussey,10,1\\r\\n332,598013,Royal Challengers Bangalore,Kolkata Knight Riders,4/11/2013,2013,M Chinnaswamy Stadium,Bangalore,India,Royal Challengers Bangalore,Royal Challengers Bangalore,field,wickets,Result,CH Gayle,8,1\\r\\n333,598014,Pune Warriors,Rajasthan Royals,4/11/2013,2013,Subrata Roy Sahara Stadium,Pune,India,Rajasthan Royals,Pune Warriors,bat,wickets,Result,AJ Finch,7,1\\r\\n334,598015,Delhi Daredevils,Sunrisers Hyderabad,4/12/2013,2013,Feroz Shah Kotla,Delhi,India,Delhi Daredevils,Sunrisers Hyderabad,bat,wickets,Result,A Mishra,3,1\\r\\n335,598016,Mumbai Indians,Pune Warriors,4/13/2013,2013,Wankhede Stadium,Mumbai,India,Mumbai Indians,Mumbai Indians,bat,runs,Result,RG Sharma,41,1\\r\\n336,598017,Chennai Super Kings,Royal Challengers Bangalore,4/13/2013,2013,\"MA Chidambaram Stadium, Chepauk\",Chennai,India,Chennai Super Kings,Chennai Super Kings,field,wickets,Result,RA Jadeja,4,1\\r\\n337,598018,Kolkata Knight Riders,Sunrisers Hyderabad,4/14/2013,2013,Eden Gardens,Kolkata,India,Kolkata Knight Riders,Kolkata Knight Riders,bat,runs,Result,G Gambhir,48,1\\r\\n338,598019,Rajasthan Royals,Kings XI Punjab,4/14/2013,2013,Sawai Mansingh Stadium,Jaipur,India,Rajasthan Royals,Rajasthan Royals,field,wickets,Result,JP Faulkner,6,1\\r\\n339,598020,Chennai Super Kings,Pune Warriors,4/15/2013,2013,\"MA Chidambaram Stadium, Chepauk\",Chennai,India,Pune Warriors,Pune Warriors,bat,runs,Result,SPD Smith,24,1\\r\\n340,598021,Kings XI Punjab,Kolkata Knight Riders,4/16/2013,2013,\"Punjab Cricket Association Stadium, Mohali\",Chandigarh,India,Kolkata Knight Riders,Kings XI Punjab,field,runs,Result,MS Gony,4,1\\r\\n341,598022,Royal Challengers Bangalore,Delhi Daredevils,4/16/2013,2013,M Chinnaswamy Stadium,Bangalore,India,Royal Challengers Bangalore,Royal Challengers Bangalore,field,Tie,Superover,V Kohli,NULL,1\\r\\n342,598023,Pune Warriors,Sunrisers Hyderabad,4/17/2013,2013,Subrata Roy Sahara Stadium,Pune,India,Pune Warriors,Sunrisers Hyderabad,field,runs,Result,A Mishra,11,1\\r\\n343,598024,Rajasthan Royals,Mumbai Indians,4/17/2013,2013,Sawai Mansingh Stadium,Jaipur,India,Rajasthan Royals,Rajasthan Royals,bat,runs,Result,AM Rahane,87,1\\r\\n344,598025,Delhi Daredevils,Chennai Super Kings,4/18/2013,2013,Feroz Shah Kotla,Delhi,India,Chennai Super Kings,Chennai Super Kings,bat,runs,Result,MEK Hussey,86,1\\r\\n345,598026,Sunrisers Hyderabad,Kings XI Punjab,4/19/2013,2013,\"Rajiv Gandhi International Stadium, Uppal\",Hyderabad,India,Kings XI Punjab,Sunrisers Hyderabad,bat,wickets,Result,GH Vihari,5,1\\r\\n346,598027,Kolkata Knight Riders,Chennai Super Kings,4/20/2013,2013,Eden Gardens,Kolkata,India,Kolkata Knight Riders,Chennai Super Kings,bat,wickets,Result,RA Jadeja,4,1\\r\\n347,598028,Royal Challengers Bangalore,Rajasthan Royals,4/20/2013,2013,M Chinnaswamy Stadium,Bangalore,India,Royal Challengers Bangalore,Royal Challengers Bangalore,field,wickets,Result,R Vinay Kumar,7,1\\r\\n348,598029,Delhi Daredevils,Mumbai Indians,4/21/2013,2013,Feroz Shah Kotla,Delhi,India,Mumbai Indians,Delhi Daredevils,bat,wickets,Result,V Sehwag,9,1\\r\\n349,598030,Kings XI Punjab,Pune Warriors,4/21/2013,2013,\"Punjab Cricket Association Stadium, Mohali\",Chandigarh,India,Kings XI Punjab,Kings XI Punjab,field,wickets,Result,DA Miller,7,1\\r\\n350,598031,Chennai Super Kings,Rajasthan Royals,4/22/2013,2013,\"MA Chidambaram Stadium, Chepauk\",Chennai,India,Rajasthan Royals,Chennai Super Kings,bat,wickets,Result,MEK Hussey,5,1\\r\\n351,598032,Royal Challengers Bangalore,Pune Warriors,4/23/2013,2013,M Chinnaswamy Stadium,Bangalore,India,Pune Warriors,Royal Challengers Bangalore,field,runs,Result,CH Gayle,130,1\\r\\n352,598033,Kings XI Punjab,Delhi Daredevils,5/16/2013,2013,Himachal Pradesh Cricket Association Stadium,Dharamsala,India,Delhi Daredevils,Kings XI Punjab,field,runs,Result,DA Miller,7,1\\r\\n353,598034,Kolkata Knight Riders,Mumbai Indians,4/24/2013,2013,Eden Gardens,Kolkata,India,Kolkata Knight Riders,Mumbai Indians,bat,wickets,Result,DR Smith,5,1\\r\\n354,598035,Chennai Super Kings,Sunrisers Hyderabad,4/25/2013,2013,\"MA Chidambaram Stadium, Chepauk\",Chennai,India,Sunrisers Hyderabad,Chennai Super Kings,bat,wickets,Result,MS Dhoni,5,1\\r\\n355,598036,Kolkata Knight Riders,Kings XI Punjab,4/26/2013,2013,Eden Gardens,Kolkata,India,Kings XI Punjab,Kolkata Knight Riders,bat,wickets,Result,JH Kallis,6,1\\r\\n356,598037,Rajasthan Royals,Sunrisers Hyderabad,4/27/2013,2013,Sawai Mansingh Stadium,Jaipur,India,Sunrisers Hyderabad,Rajasthan Royals,bat,wickets,Result,JP Faulkner,8,1\\r\\n357,598038,Mumbai Indians,Royal Challengers Bangalore,4/27/2013,2013,Wankhede Stadium,Mumbai,India,Mumbai Indians,Mumbai Indians,bat,runs,Result,DR Smith,58,1\\r\\n358,598039,Chennai Super Kings,Kolkata Knight Riders,4/28/2013,2013,\"MA Chidambaram Stadium, Chepauk\",Chennai,India,Kolkata Knight Riders,Chennai Super Kings,field,runs,Result,MEK Hussey,14,1\\r\\n359,598040,Delhi Daredevils,Pune Warriors,4/28/2013,2013,Shaheed Veer Narayan Singh International Stadium,Raipur,India,Pune Warriors,Delhi Daredevils,field,runs,Result,DA Warner,15,1\\r\\n360,598041,Rajasthan Royals,Royal Challengers Bangalore,4/29/2013,2013,Sawai Mansingh Stadium,Jaipur,India,Rajasthan Royals,Rajasthan Royals,field,wickets,Result,SV Samson,4,1\\r\\n361,598042,Mumbai Indians,Kings XI Punjab,4/29/2013,2013,Wankhede Stadium,Mumbai,India,Mumbai Indians,Mumbai Indians,bat,runs,Result,RG Sharma,4,1\\r\\n362,598043,Pune Warriors,Chennai Super Kings,4/30/2013,2013,Subrata Roy Sahara Stadium,Pune,India,Chennai Super Kings,Chennai Super Kings,bat,runs,Result,MS Dhoni,37,1\\r\\n363,598044,Sunrisers Hyderabad,Mumbai Indians,5/1/2013,2013,\"Rajiv Gandhi International Stadium, Uppal\",Hyderabad,India,Mumbai Indians,Sunrisers Hyderabad,bat,wickets,Result,I Sharma,7,1\\r\\n364,598045,Delhi Daredevils,Kolkata Knight Riders,5/1/2013,2013,Shaheed Veer Narayan Singh International Stadium,Raipur,India,Kolkata Knight Riders,Delhi Daredevils,bat,wickets,Result,DA Warner,7,1\\r\\n365,598046,Chennai Super Kings,Kings XI Punjab,5/2/2013,2013,\"MA Chidambaram Stadium, Chepauk\",Chennai,India,Chennai Super Kings,Chennai Super Kings,bat,runs,Result,SK Raina,15,1\\r\\n366,598047,Pune Warriors,Royal Challengers Bangalore,5/2/2013,2013,Subrata Roy Sahara Stadium,Pune,India,Royal Challengers Bangalore,Royal Challengers Bangalore,bat,runs,Result,AB de Villiers,17,1\\r\\n367,598048,Kolkata Knight Riders,Rajasthan Royals,5/3/2013,2013,Eden Gardens,Kolkata,India,Rajasthan Royals,Kolkata Knight Riders,bat,wickets,Result,YK Pathan,8,1\\r\\n368,598049,Sunrisers Hyderabad,Delhi Daredevils,5/4/2013,2013,\"Rajiv Gandhi International Stadium, Uppal\",Hyderabad,India,Delhi Daredevils,Sunrisers Hyderabad,bat,wickets,Result,DJG Sammy,6,1\\r\\n369,598050,Royal Challengers Bangalore,Kings XI Punjab,5/14/2013,2013,M Chinnaswamy Stadium,Bangalore,India,Kings XI Punjab,Kings XI Punjab,field,wickets,Result,AC Gilchrist,7,1\\r\\n370,598051,Mumbai Indians,Chennai Super Kings,5/5/2013,2013,Wankhede Stadium,Mumbai,India,Mumbai Indians,Mumbai Indians,bat,runs,Result,MG Johnson,60,1\\r\\n371,598052,Rajasthan Royals,Pune Warriors,5/5/2013,2013,Sawai Mansingh Stadium,Jaipur,India,Pune Warriors,Rajasthan Royals,bat,wickets,Result,AM Rahane,5,1\\r\\n372,598053,Royal Challengers Bangalore,Sunrisers Hyderabad,4/9/2013,2013,M Chinnaswamy Stadium,Bangalore,India,Sunrisers Hyderabad,Royal Challengers Bangalore,bat,wickets,Result,V Kohli,7,1\\r\\n373,598054,Rajasthan Royals,Delhi Daredevils,5/7/2013,2013,Sawai Mansingh Stadium,Jaipur,India,Delhi Daredevils,Rajasthan Royals,bat,wickets,Result,AM Rahane,9,1\\r\\n374,598055,Mumbai Indians,Kolkata Knight Riders,5/7/2013,2013,Wankhede Stadium,Mumbai,India,Mumbai Indians,Mumbai Indians,bat,runs,Result,SR Tendulkar,65,1\\r\\n375,598056,Sunrisers Hyderabad,Chennai Super Kings,5/8/2013,2013,\"Rajiv Gandhi International Stadium, Uppal\",Hyderabad,India,Sunrisers Hyderabad,Chennai Super Kings,field,runs,Result,SK Raina,77,1\\r\\n376,598057,Kings XI Punjab,Rajasthan Royals,5/9/2013,2013,\"Punjab Cricket Association Stadium, Mohali\",Chandigarh,India,Rajasthan Royals,Rajasthan Royals,field,wickets,Result,KK Cooper,8,1\\r\\n377,598058,Pune Warriors,Kolkata Knight Riders,5/9/2013,2013,Subrata Roy Sahara Stadium,Pune,India,Kolkata Knight Riders,Kolkata Knight Riders,bat,runs,Result,G Gambhir,46,1\\r\\n378,598059,Delhi Daredevils,Royal Challengers Bangalore,5/10/2013,2013,Feroz Shah Kotla,Delhi,India,Delhi Daredevils,Royal Challengers Bangalore,field,runs,Result,JD Unadkat,4,1\\r\\n379,598060,Pune Warriors,Mumbai Indians,5/11/2013,2013,Subrata Roy Sahara Stadium,Pune,India,Pune Warriors,Mumbai Indians,bat,wickets,Result,MG Johnson,5,1\\r\\n380,598061,Kings XI Punjab,Sunrisers Hyderabad,5/11/2013,2013,\"Punjab Cricket Association Stadium, Mohali\",Chandigarh,India,Kings XI Punjab,Sunrisers Hyderabad,field,runs,Result,PA Patel,30,1\\r\\n381,598062,Kolkata Knight Riders,Royal Challengers Bangalore,5/12/2013,2013,JSCA International Stadium Complex,Ranchi,India,Kolkata Knight Riders,Kolkata Knight Riders,field,wickets,Result,JH Kallis,5,1\\r\\n382,598063,Rajasthan Royals,Chennai Super Kings,5/12/2013,2013,Sawai Mansingh Stadium,Jaipur,India,Rajasthan Royals,Rajasthan Royals,field,wickets,Result,SR Watson,5,1\\r\\n383,598064,Delhi Daredevils,Kings XI Punjab,4/23/2013,2013,Feroz Shah Kotla,Delhi,India,Kings XI Punjab,Kings XI Punjab,field,wickets,Result,Harmeet Singh,5,1\\r\\n384,598065,Mumbai Indians,Sunrisers Hyderabad,5/13/2013,2013,Wankhede Stadium,Mumbai,India,Sunrisers Hyderabad,Mumbai Indians,bat,wickets,Result,KA Pollard,7,1\\r\\n385,598066,Kolkata Knight Riders,Pune Warriors,5/15/2013,2013,JSCA International Stadium Complex,Ranchi,India,Kolkata Knight Riders,Pune Warriors,field,runs,Result,MK Pandey,7,1\\r\\n386,598067,Chennai Super Kings,Delhi Daredevils,5/14/2013,2013,\"MA Chidambaram Stadium, Chepauk\",Chennai,India,Chennai Super Kings,Chennai Super Kings,bat,runs,Result,MS Dhoni,33,1\\r\\n387,598068,Mumbai Indians,Rajasthan Royals,5/15/2013,2013,Wankhede Stadium,Mumbai,India,Rajasthan Royals,Mumbai Indians,field,runs,Result,AP Tare,14,1\\r\\n388,598069,Kings XI Punjab,Royal Challengers Bangalore,5/6/2013,2013,\"Punjab Cricket Association Stadium, Mohali\",Chandigarh,India,Kings XI Punjab,Kings XI Punjab,field,wickets,Result,DA Miller,6,1\\r\\n389,598070,Sunrisers Hyderabad,Rajasthan Royals,5/17/2013,2013,\"Rajiv Gandhi International Stadium, Uppal\",Hyderabad,India,Sunrisers Hyderabad,Sunrisers Hyderabad,bat,runs,Result,A Mishra,23,1\\r\\n390,598071,Kings XI Punjab,Mumbai Indians,5/18/2013,2013,Himachal Pradesh Cricket Association Stadium,Dharamsala,India,Mumbai Indians,Kings XI Punjab,field,runs,Result,Azhar Mahmood,50,1\\r\\n391,598072,Pune Warriors,Delhi Daredevils,5/19/2013,2013,Subrata Roy Sahara Stadium,Pune,India,Pune Warriors,Pune Warriors,bat,runs,Result,LJ Wright,38,1\\r\\n392,598073,Royal Challengers Bangalore,Chennai Super Kings,5/18/2013,2013,M Chinnaswamy Stadium,Bangalore,India,Chennai Super Kings,Royal Challengers Bangalore,field,runs,Result,V Kohli,24,1\\r\\n393,598074,Sunrisers Hyderabad,Kolkata Knight Riders,5/19/2013,2013,\"Rajiv Gandhi International Stadium, Uppal\",Hyderabad,India,Kolkata Knight Riders,Sunrisers Hyderabad,bat,wickets,Result,PA Patel,5,1\\r\\n394,598075,Chennai Super Kings,Mumbai Indians,5/21/2013,2013,Feroz Shah Kotla,Delhi,India,Chennai Super Kings,Chennai Super Kings,bat,runs,Result,MEK Hussey,48,1\\r\\n395,598076,Rajasthan Royals,Sunrisers Hyderabad,5/22/2013,2013,Feroz Shah Kotla,Delhi,India,Sunrisers Hyderabad,Rajasthan Royals,bat,wickets,Result,BJ Hodge,4,1\\r\\n396,598077,Mumbai Indians,Rajasthan Royals,5/24/2013,2013,Eden Gardens,Kolkata,India,Rajasthan Royals,Mumbai Indians,bat,wickets,Result,Harbhajan Singh,4,1\\r\\n397,598078,Chennai Super Kings,Mumbai Indians,5/26/2013,2013,Eden Gardens,Kolkata,India,Mumbai Indians,Mumbai Indians,bat,runs,Result,KA Pollard,23,1\\r\\n398,729284,Mumbai Indians,Kolkata Knight Riders,4/16/2014,2014,Sheikh Zayed Stadium,Abu Dhabi,U.A.E,Kolkata Knight Riders,Kolkata Knight Riders,bat,runs,Result,JH Kallis,41,3\\r\\n399,729286,Delhi Daredevils,Royal Challengers Bangalore,4/17/2014,2014,Sharjah Cricket Stadium,Abu Dhabi,U.A.E,Royal Challengers Bangalore,Royal Challengers Bangalore,field,wickets,Result,YS Chahal,8,3\\r\\n400,729288,Chennai Super Kings,Kings XI Punjab,4/18/2014,2014,Sheikh Zayed Stadium,Abu Dhabi,U.A.E,Chennai Super Kings,Kings XI Punjab,bat,wickets,Result,GJ Maxwell,6,3\\r\\n401,729290,Sunrisers Hyderabad,Rajasthan Royals,4/18/2014,2014,Sheikh Zayed Stadium,Abu Dhabi,U.A.E,Rajasthan Royals,Rajasthan Royals,field,wickets,Result,AM Rahane,4,3\\r\\n402,729292,Royal Challengers Bangalore,Mumbai Indians,4/19/2014,2014,Dubai International Cricket Stadium,Abu Dhabi,U.A.E,Royal Challengers Bangalore,Royal Challengers Bangalore,field,wickets,Result,PA Patel,7,3\\r\\n403,729294,Kolkata Knight Riders,Delhi Daredevils,4/19/2014,2014,Dubai International Cricket Stadium,Abu Dhabi,U.A.E,Kolkata Knight Riders,Delhi Daredevils,bat,wickets,Result,JP Duminy,4,3\\r\\n404,729296,Rajasthan Royals,Kings XI Punjab,4/20/2014,2014,Sharjah Cricket Stadium,Abu Dhabi,U.A.E,Kings XI Punjab,Kings XI Punjab,field,wickets,Result,GJ Maxwell,7,3\\r\\n405,729298,Chennai Super Kings,Delhi Daredevils,4/21/2014,2014,Sheikh Zayed Stadium,Abu Dhabi,U.A.E,Chennai Super Kings,Chennai Super Kings,bat,runs,Result,SK Raina,93,3\\r\\n406,729300,Kings XI Punjab,Sunrisers Hyderabad,4/22/2014,2014,Sharjah Cricket Stadium,Abu Dhabi,U.A.E,Sunrisers Hyderabad,Kings XI Punjab,field,runs,Result,GJ Maxwell,72,3\\r\\n407,729302,Rajasthan Royals,Chennai Super Kings,4/23/2014,2014,Dubai International Cricket Stadium,Abu Dhabi,U.A.E,Rajasthan Royals,Chennai Super Kings,field,runs,Result,RA Jadeja,7,3\\r\\n408,729304,Royal Challengers Bangalore,Kolkata Knight Riders,4/24/2014,2014,Sharjah Cricket Stadium,Abu Dhabi,U.A.E,Royal Challengers Bangalore,Kolkata Knight Riders,field,runs,Result,CA Lynn,2,3\\r\\n409,729306,Sunrisers Hyderabad,Delhi Daredevils,4/25/2014,2014,Dubai International Cricket Stadium,Abu Dhabi,U.A.E,Sunrisers Hyderabad,Sunrisers Hyderabad,bat,runs,Result,AJ Finch,4,3\\r\\n410,729308,Chennai Super Kings,Mumbai Indians,4/25/2014,2014,Dubai International Cricket Stadium,Abu Dhabi,U.A.E,Mumbai Indians,Chennai Super Kings,bat,wickets,Result,MM Sharma,7,3\\r\\n411,729310,Rajasthan Royals,Royal Challengers Bangalore,4/26/2014,2014,Sheikh Zayed Stadium,Abu Dhabi,U.A.E,Rajasthan Royals,Rajasthan Royals,field,wickets,Result,PV Tambe,6,3\\r\\n412,729312,Kolkata Knight Riders,Kings XI Punjab,4/26/2014,2014,Sheikh Zayed Stadium,Abu Dhabi,U.A.E,Kolkata Knight Riders,Kings XI Punjab,field,runs,Result,Sandeep Sharma,23,3\\r\\n413,729314,Delhi Daredevils,Mumbai Indians,4/27/2014,2014,Sharjah Cricket Stadium,Abu Dhabi,U.A.E,Mumbai Indians,Delhi Daredevils,bat,wickets,Result,M Vijay,6,3\\r\\n414,729316,Sunrisers Hyderabad,Chennai Super Kings,4/27/2014,2014,Sharjah Cricket Stadium,Abu Dhabi,U.A.E,Sunrisers Hyderabad,Chennai Super Kings,bat,wickets,Result,DR Smith,5,3\\r\\n415,729318,Kings XI Punjab,Royal Challengers Bangalore,4/28/2014,2014,Dubai International Cricket Stadium,Abu Dhabi,U.A.E,Kings XI Punjab,Kings XI Punjab,field,wickets,Result,Sandeep Sharma,5,3\\r\\n416,729320,Kolkata Knight Riders,Rajasthan Royals,4/29/2014,2014,Sheikh Zayed Stadium,Abu Dhabi,U.A.E,Rajasthan Royals,Rajasthan Royals,bat,Tie,Superover,JP Faulkner,NULL,3\\r\\n417,729322,Mumbai Indians,Sunrisers Hyderabad,4/30/2014,2014,Dubai International Cricket Stadium,Abu Dhabi,U.A.E,Mumbai Indians,Sunrisers Hyderabad,field,runs,Result,B Kumar,15,3\\r\\n418,733976,Chennai Super Kings,Kolkata Knight Riders,5/2/2014,2014,JSCA International Stadium Complex,Ranchi,India,Chennai Super Kings,Chennai Super Kings,bat,runs,Result,RA Jadeja,34,1\\r\\n419,733978,Mumbai Indians,Kings XI Punjab,5/3/2014,2014,Wankhede Stadium,Mumbai,India,Kings XI Punjab,Mumbai Indians,bat,wickets,Result,CJ Anderson,5,1\\r\\n420,733980,Delhi Daredevils,Rajasthan Royals,5/3/2014,2014,Feroz Shah Kotla,Delhi,India,Rajasthan Royals,Rajasthan Royals,field,wickets,Result,KK Nair,7,1\\r\\n421,733982,Royal Challengers Bangalore,Sunrisers Hyderabad,5/4/2014,2014,M Chinnaswamy Stadium,Bangalore,India,Royal Challengers Bangalore,Royal Challengers Bangalore,field,wickets,Result,AB de Villiers,4,1\\r\\n422,733984,Rajasthan Royals,Kolkata Knight Riders,5/5/2014,2014,\"Sardar Patel Stadium, Motera\",Ahmedabad,India,Kolkata Knight Riders,Rajasthan Royals,field,runs,Result,PV Tambe,10,1\\r\\n423,733986,Delhi Daredevils,Chennai Super Kings,5/5/2014,2014,Feroz Shah Kotla,Delhi,India,Chennai Super Kings,Chennai Super Kings,field,wickets,Result,DR Smith,8,1\\r\\n424,733988,Mumbai Indians,Royal Challengers Bangalore,5/6/2014,2014,Wankhede Stadium,Mumbai,India,Royal Challengers Bangalore,Mumbai Indians,field,runs,Result,RG Sharma,19,1\\r\\n425,733990,Delhi Daredevils,Kolkata Knight Riders,5/7/2014,2014,Feroz Shah Kotla,Delhi,India,Delhi Daredevils,Kolkata Knight Riders,bat,wickets,Result,G Gambhir,8,1\\r\\n426,733992,Kings XI Punjab,Chennai Super Kings,5/7/2014,2014,Barabati Stadium,Cuttack,India,Chennai Super Kings,Kings XI Punjab,field,runs,Result,GJ Maxwell,44,1\\r\\n427,733994,Rajasthan Royals,Sunrisers Hyderabad,5/8/2014,2014,\"Sardar Patel Stadium, Motera\",Ahmedabad,India,Rajasthan Royals,Sunrisers Hyderabad,field,runs,Result,B Kumar,32,1\\r\\n428,733996,Royal Challengers Bangalore,Kings XI Punjab,5/9/2014,2014,M Chinnaswamy Stadium,Bangalore,India,Royal Challengers Bangalore,Kings XI Punjab,field,runs,Result,Sandeep Sharma,32,1\\r\\n429,733998,Delhi Daredevils,Sunrisers Hyderabad,5/10/2014,2014,Feroz Shah Kotla,Delhi,India,Sunrisers Hyderabad,Sunrisers Hyderabad,field,wickets,Result,DW Steyn,8,1\\r\\n430,734000,Mumbai Indians,Chennai Super Kings,5/10/2014,2014,Wankhede Stadium,Mumbai,India,Chennai Super Kings,Chennai Super Kings,field,wickets,Result,DR Smith,4,1\\r\\n431,734002,Kings XI Punjab,Kolkata Knight Riders,5/11/2014,2014,Barabati Stadium,Cuttack,India,Kolkata Knight Riders,Kolkata Knight Riders,field,wickets,Result,G Gambhir,9,1\\r\\n432,734004,Royal Challengers Bangalore,Rajasthan Royals,5/11/2014,2014,M Chinnaswamy Stadium,Bangalore,India,Royal Challengers Bangalore,Rajasthan Royals,bat,wickets,Result,JP Faulkner,5,1\\r\\n433,734006,Sunrisers Hyderabad,Mumbai Indians,5/12/2014,2014,\"Rajiv Gandhi International Stadium, Uppal\",Hyderabad,India,Sunrisers Hyderabad,Mumbai Indians,bat,wickets,Result,AT Rayudu,7,1\\r\\n434,734008,Chennai Super Kings,Rajasthan Royals,5/13/2014,2014,JSCA International Stadium Complex,Ranchi,India,Rajasthan Royals,Chennai Super Kings,bat,wickets,Result,RA Jadeja,5,1\\r\\n435,734010,Royal Challengers Bangalore,Delhi Daredevils,5/13/2014,2014,M Chinnaswamy Stadium,Bangalore,India,Delhi Daredevils,Royal Challengers Bangalore,field,runs,Result,Yuvraj Singh,16,1\\r\\n436,734012,Sunrisers Hyderabad,Kings XI Punjab,5/14/2014,2014,\"Rajiv Gandhi International Stadium, Uppal\",Hyderabad,India,Kings XI Punjab,Kings XI Punjab,field,wickets,Result,WP Saha,6,1\\r\\n437,734014,Kolkata Knight Riders,Mumbai Indians,5/14/2014,2014,Barabati Stadium,Cuttack,India,Kolkata Knight Riders,Kolkata Knight Riders,field,wickets,Result,RV Uthappa,6,1\\r\\n438,734016,Rajasthan Royals,Delhi Daredevils,5/15/2014,2014,\"Sardar Patel Stadium, Motera\",Ahmedabad,India,Delhi Daredevils,Rajasthan Royals,field,runs,Result,AM Rahane,62,1\\r\\n439,734018,Chennai Super Kings,Royal Challengers Bangalore,5/18/2014,2014,JSCA International Stadium Complex,Ranchi,India,Chennai Super Kings,Royal Challengers Bangalore,bat,wickets,Result,AB de Villiers,5,1\\r\\n440,734020,Sunrisers Hyderabad,Kolkata Knight Riders,5/18/2014,2014,\"Rajiv Gandhi International Stadium, Uppal\",Hyderabad,India,Sunrisers Hyderabad,Kolkata Knight Riders,bat,wickets,Result,UT Yadav,7,1\\r\\n441,734022,Rajasthan Royals,Mumbai Indians,5/19/2014,2014,\"Sardar Patel Stadium, Motera\",Ahmedabad,India,Mumbai Indians,Mumbai Indians,bat,runs,Result,MEK Hussey,25,1\\r\\n442,734024,Delhi Daredevils,Kings XI Punjab,5/19/2014,2014,Feroz Shah Kotla,Delhi,India,Kings XI Punjab,Kings XI Punjab,field,wickets,Result,AR Patel,4,1\\r\\n443,734026,Sunrisers Hyderabad,Royal Challengers Bangalore,5/20/2014,2014,\"Rajiv Gandhi International Stadium, Uppal\",Hyderabad,India,Royal Challengers Bangalore,Sunrisers Hyderabad,bat,wickets,Result,DA Warner,7,1\\r\\n444,734028,Kolkata Knight Riders,Chennai Super Kings,5/20/2014,2014,Eden Gardens,Kolkata,India,Kolkata Knight Riders,Kolkata Knight Riders,field,wickets,Result,RV Uthappa,8,1\\r\\n445,734030,Kings XI Punjab,Mumbai Indians,5/21/2014,2014,\"Punjab Cricket Association Stadium, Mohali\",Chandigarh,India,Mumbai Indians,Mumbai Indians,field,wickets,Result,LMP Simmons,7,1\\r\\n446,734032,Kolkata Knight Riders,Royal Challengers Bangalore,5/22/2014,2014,Eden Gardens,Kolkata,India,Royal Challengers Bangalore,Kolkata Knight Riders,field,runs,Result,RV Uthappa,30,1\\r\\n447,734034,Chennai Super Kings,Sunrisers Hyderabad,5/22/2014,2014,JSCA International Stadium Complex,Ranchi,India,Sunrisers Hyderabad,Sunrisers Hyderabad,field,wickets,Result,DA Warner,6,1\\r\\n448,734036,Mumbai Indians,Delhi Daredevils,5/23/2014,2014,Wankhede Stadium,Mumbai,India,Delhi Daredevils,Mumbai Indians,field,runs,Result,MEK Hussey,15,1\\r\\n449,734038,Kings XI Punjab,Rajasthan Royals,5/23/2014,2014,\"Punjab Cricket Association Stadium, Mohali\",Chandigarh,India,Rajasthan Royals,Kings XI Punjab,field,runs,Result,SE Marsh,16,1\\r\\n450,734040,Royal Challengers Bangalore,Chennai Super Kings,5/24/2014,2014,M Chinnaswamy Stadium,Bangalore,India,Chennai Super Kings,Chennai Super Kings,field,wickets,Result,MS Dhoni,8,1\\r\\n451,734042,Kolkata Knight Riders,Sunrisers Hyderabad,5/24/2014,2014,Eden Gardens,Kolkata,India,Kolkata Knight Riders,Kolkata Knight Riders,field,wickets,Result,YK Pathan,4,1\\r\\n452,734044,Kings XI Punjab,Delhi Daredevils,5/25/2014,2014,\"Punjab Cricket Association Stadium, Mohali\",Chandigarh,India,Kings XI Punjab,Kings XI Punjab,field,wickets,Result,M Vohra,7,1\\r\\n453,734046,Mumbai Indians,Rajasthan Royals,5/25/2014,2014,Wankhede Stadium,Mumbai,India,Mumbai Indians,Mumbai Indians,field,wickets,Result,CJ Anderson,5,1\\r\\n454,734048,Kings XI Punjab,Kolkata Knight Riders,5/27/2014,2014,Eden Gardens,Kolkata,India,Kings XI Punjab,Kolkata Knight Riders,field,runs,Result,UT Yadav,28,1\\r\\n455,734050,Chennai Super Kings,Mumbai Indians,5/28/2014,2014,Brabourne Stadium,Mumbai,India,Chennai Super Kings,Chennai Super Kings,field,wickets,Result,SK Raina,7,1\\r\\n456,734052,Chennai Super Kings,Kings XI Punjab,5/30/2014,2014,Wankhede Stadium,Mumbai,India,Chennai Super Kings,Kings XI Punjab,field,runs,Result,V Sehwag,24,1\\r\\n457,734054,Kolkata Knight Riders,Kings XI Punjab,6/1/2014,2014,M Chinnaswamy Stadium,Bangalore,India,Kolkata Knight Riders,Kolkata Knight Riders,field,wickets,Result,MK Pandey,3,1\\r\\n458,829710,Kolkata Knight Riders,Mumbai Indians,4/8/2015,2015,Eden Gardens,Kolkata,India,Kolkata Knight Riders,Kolkata Knight Riders,field,wickets,Result,M Morkel,7,1\\r\\n459,829712,Chennai Super Kings,Delhi Daredevils,4/9/2015,2015,\"MA Chidambaram Stadium, Chepauk\",Chennai,India,Delhi Daredevils,Chennai Super Kings,field,runs,Result,A Nehra,1,1\\r\\n460,829714,Kings XI Punjab,Rajasthan Royals,4/10/2015,2015,Maharashtra Cricket Association Stadium,Pune,India,Kings XI Punjab,Rajasthan Royals,field,runs,Result,JP Faulkner,26,1\\r\\n461,829716,Chennai Super Kings,Sunrisers Hyderabad,4/11/2015,2015,\"MA Chidambaram Stadium, Chepauk\",Chennai,India,Chennai Super Kings,Chennai Super Kings,bat,runs,Result,BB McCullum,45,1\\r\\n462,829718,Kolkata Knight Riders,Royal Challengers Bangalore,4/11/2015,2015,Eden Gardens,Kolkata,India,Royal Challengers Bangalore,Royal Challengers Bangalore,field,wickets,Result,CH Gayle,3,1\\r\\n463,829720,Delhi Daredevils,Rajasthan Royals,4/12/2015,2015,Feroz Shah Kotla,Delhi,India,Rajasthan Royals,Rajasthan Royals,field,wickets,Result,DJ Hooda,3,1\\r\\n464,829722,Mumbai Indians,Kings XI Punjab,4/12/2015,2015,Wankhede Stadium,Mumbai,India,Mumbai Indians,Kings XI Punjab,field,runs,Result,GJ Bailey,18,1\\r\\n465,829724,Royal Challengers Bangalore,Sunrisers Hyderabad,4/13/2015,2015,M Chinnaswamy Stadium,Bangalore,India,Sunrisers Hyderabad,Sunrisers Hyderabad,field,wickets,Result,DA Warner,8,1\\r\\n466,829726,Rajasthan Royals,Mumbai Indians,4/14/2015,2015,\"Sardar Patel Stadium, Motera\",Ahmedabad,India,Mumbai Indians,Rajasthan Royals,bat,wickets,Result,SPD Smith,7,1\\r\\n467,829728,Kolkata Knight Riders,Chennai Super Kings,4/30/2015,2015,Eden Gardens,Kolkata,India,Kolkata Knight Riders,Kolkata Knight Riders,field,wickets,Result,AD Russell,7,1\\r\\n468,829730,Kings XI Punjab,Delhi Daredevils,4/15/2015,2015,Maharashtra Cricket Association Stadium,Pune,India,Kings XI Punjab,Delhi Daredevils,bat,wickets,Result,MA Agarwal,5,1\\r\\n469,829732,Sunrisers Hyderabad,Rajasthan Royals,4/16/2015,2015,Dr. Y.S. Rajasekhara Reddy ACA-VDCA Cricket Stadium,Visakhapatnam,India,Rajasthan Royals,Rajasthan Royals,field,wickets,Result,AM Rahane,6,1\\r\\n470,829734,Mumbai Indians,Chennai Super Kings,4/17/2015,2015,Wankhede Stadium,Mumbai,India,Mumbai Indians,Chennai Super Kings,bat,wickets,Result,A Nehra,6,1\\r\\n471,829736,Sunrisers Hyderabad,Delhi Daredevils,4/18/2015,2015,Dr. Y.S. Rajasekhara Reddy ACA-VDCA Cricket Stadium,Visakhapatnam,India,Delhi Daredevils,Delhi Daredevils,bat,runs,Result,JP Duminy,4,1\\r\\n472,829738,Kings XI Punjab,Kolkata Knight Riders,4/18/2015,2015,Maharashtra Cricket Association Stadium,Pune,India,Kolkata Knight Riders,Kolkata Knight Riders,field,wickets,Result,AD Russell,4,1\\r\\n473,829740,Rajasthan Royals,Chennai Super Kings,4/19/2015,2015,\"Sardar Patel Stadium, Motera\",Ahmedabad,India,Chennai Super Kings,Rajasthan Royals,bat,wickets,Result,AM Rahane,8,1\\r\\n474,829742,Royal Challengers Bangalore,Mumbai Indians,4/19/2015,2015,M Chinnaswamy Stadium,Bangalore,India,Royal Challengers Bangalore,Mumbai Indians,field,runs,Result,Harbhajan Singh,18,1\\r\\n475,829744,Delhi Daredevils,Kolkata Knight Riders,4/20/2015,2015,Feroz Shah Kotla,Delhi,India,Kolkata Knight Riders,Kolkata Knight Riders,field,wickets,Result,UT Yadav,6,1\\r\\n476,829746,Rajasthan Royals,Kings XI Punjab,4/21/2015,2015,\"Sardar Patel Stadium, Motera\",Ahmedabad,India,Kings XI Punjab,Kings XI Punjab,field,Tie,Superover,SE Marsh,NULL,1\\r\\n477,829748,Sunrisers Hyderabad,Kolkata Knight Riders,4/22/2015,2015,Dr. Y.S. Rajasekhara Reddy ACA-VDCA Cricket Stadium,Visakhapatnam,India,Kolkata Knight Riders,Sunrisers Hyderabad,field,runs,Result,DA Warner,16,1\\r\\n478,829750,Royal Challengers Bangalore,Chennai Super Kings,4/22/2015,2015,M Chinnaswamy Stadium,Bangalore,India,Royal Challengers Bangalore,Chennai Super Kings,field,runs,Result,SK Raina,27,1\\r\\n479,829752,Delhi Daredevils,Mumbai Indians,4/23/2015,2015,Feroz Shah Kotla,Delhi,India,Mumbai Indians,Delhi Daredevils,field,runs,Result,SS Iyer,37,1\\r\\n480,829754,Rajasthan Royals,Royal Challengers Bangalore,4/24/2015,2015,\"Sardar Patel Stadium, Motera\",Ahmedabad,India,Royal Challengers Bangalore,Royal Challengers Bangalore,field,wickets,Result,MA Starc,9,1\\r\\n481,829756,Mumbai Indians,Sunrisers Hyderabad,4/25/2015,2015,Wankhede Stadium,Mumbai,India,Mumbai Indians,Mumbai Indians,bat,runs,Result,SL Malinga,20,1\\r\\n482,829758,Chennai Super Kings,Kings XI Punjab,4/25/2015,2015,\"MA Chidambaram Stadium, Chepauk\",Chennai,India,Chennai Super Kings,Chennai Super Kings,bat,runs,Result,BB McCullum,97,1\\r\\n483,829762,Delhi Daredevils,Royal Challengers Bangalore,4/26/2015,2015,Feroz Shah Kotla,Delhi,India,Royal Challengers Bangalore,Royal Challengers Bangalore,field,wickets,Result,VR Aaron,10,1\\r\\n484,829764,Kings XI Punjab,Sunrisers Hyderabad,4/27/2015,2015,\"Punjab Cricket Association Stadium, Mohali\",Chandigarh,India,Kings XI Punjab,Sunrisers Hyderabad,field,runs,Result,TA Boult,20,1\\r\\n485,829766,Kolkata Knight Riders,Delhi Daredevils,5/7/2015,2015,Eden Gardens,Kolkata,India,Kolkata Knight Riders,Kolkata Knight Riders,bat,runs,Result,PP Chawla,13,1\\r\\n486,829768,Royal Challengers Bangalore,Rajasthan Royals,4/29/2015,2015,M Chinnaswamy Stadium,Bangalore,India,Rajasthan Royals,NULL,field,NO Result,No Result,NULL,NULL,1\\r\\n487,829770,Chennai Super Kings,Kolkata Knight Riders,4/28/2015,2015,\"MA Chidambaram Stadium, Chepauk\",Chennai,India,Kolkata Knight Riders,Chennai Super Kings,field,runs,Result,DJ Bravo,2,1\\r\\n488,829772,Delhi Daredevils,Kings XI Punjab,5/1/2015,2015,Feroz Shah Kotla,Delhi,India,Delhi Daredevils,Delhi Daredevils,field,wickets,Result,NM Coulter-Nile,9,1\\r\\n489,829774,Mumbai Indians,Rajasthan Royals,5/1/2015,2015,Wankhede Stadium,Mumbai,India,Rajasthan Royals,Mumbai Indians,field,runs,Result,AT Rayudu,8,1\\r\\n490,829776,Royal Challengers Bangalore,Kolkata Knight Riders,5/2/2015,2015,M Chinnaswamy Stadium,Bangalore,India,Royal Challengers Bangalore,Royal Challengers Bangalore,field,wickets,Result,Mandeep Singh,7,1\\r\\n491,829778,Sunrisers Hyderabad,Chennai Super Kings,5/2/2015,2015,\"Rajiv Gandhi International Stadium, Uppal\",Hyderabad,India,Chennai Super Kings,Sunrisers Hyderabad,field,runs,Result,DA Warner,22,1\\r\\n492,829780,Kings XI Punjab,Mumbai Indians,5/3/2015,2015,\"Punjab Cricket Association Stadium, Mohali\",Chandigarh,India,Mumbai Indians,Mumbai Indians,bat,runs,Result,LMP Simmons,23,1\\r\\n493,829782,Rajasthan Royals,Delhi Daredevils,5/3/2015,2015,Brabourne Stadium,Mumbai,India,Delhi Daredevils,Rajasthan Royals,field,runs,Result,AM Rahane,14,1\\r\\n494,829784,Chennai Super Kings,Royal Challengers Bangalore,5/4/2015,2015,\"MA Chidambaram Stadium, Chepauk\",Chennai,India,Chennai Super Kings,Chennai Super Kings,bat,runs,Result,SK Raina,24,1\\r\\n495,829786,Kolkata Knight Riders,Sunrisers Hyderabad,5/4/2015,2015,Eden Gardens,Kolkata,India,Sunrisers Hyderabad,Kolkata Knight Riders,field,runs,Result,UT Yadav,35,1\\r\\n496,829788,Mumbai Indians,Delhi Daredevils,5/5/2015,2015,Wankhede Stadium,Mumbai,India,Delhi Daredevils,Mumbai Indians,bat,wickets,Result,Harbhajan Singh,5,1\\r\\n497,829790,Royal Challengers Bangalore,Kings XI Punjab,5/6/2015,2015,M Chinnaswamy Stadium,Bangalore,India,Kings XI Punjab,Royal Challengers Bangalore,field,runs,Result,CH Gayle,138,1\\r\\n498,829792,Rajasthan Royals,Sunrisers Hyderabad,5/7/2015,2015,Brabourne Stadium,Mumbai,India,Rajasthan Royals,Sunrisers Hyderabad,field,runs,Result,EJG Morgan,7,1\\r\\n499,829794,Chennai Super Kings,Mumbai Indians,5/8/2015,2015,\"MA Chidambaram Stadium, Chepauk\",Chennai,India,Chennai Super Kings,Mumbai Indians,bat,wickets,Result,HH Pandya,6,1\\r\\n500,829796,Kolkata Knight Riders,Kings XI Punjab,5/9/2015,2015,Eden Gardens,Kolkata,India,Kings XI Punjab,Kolkata Knight Riders,bat,wickets,Result,AD Russell,1,1\\r\\n501,829798,Delhi Daredevils,Sunrisers Hyderabad,5/9/2015,2015,Shaheed Veer Narayan Singh International Stadium,Raipur,India,Sunrisers Hyderabad,Sunrisers Hyderabad,bat,runs,Result,MC Henriques,6,1\\r\\n502,829800,Mumbai Indians,Royal Challengers Bangalore,5/10/2015,2015,Wankhede Stadium,Mumbai,India,Royal Challengers Bangalore,Royal Challengers Bangalore,bat,runs,Result,AB de Villiers,39,1\\r\\n503,829802,Chennai Super Kings,Rajasthan Royals,5/10/2015,2015,\"MA Chidambaram Stadium, Chepauk\",Chennai,India,Chennai Super Kings,Chennai Super Kings,bat,runs,Result,RA Jadeja,12,1\\r\\n504,829804,Sunrisers Hyderabad,Kings XI Punjab,5/11/2015,2015,\"Rajiv Gandhi International Stadium, Uppal\",Hyderabad,India,Sunrisers Hyderabad,Sunrisers Hyderabad,bat,runs,Result,DA Warner,5,1\\r\\n505,829806,Delhi Daredevils,Chennai Super Kings,5/12/2015,2015,Shaheed Veer Narayan Singh International Stadium,Raipur,India,Chennai Super Kings,Delhi Daredevils,bat,wickets,Result,Z Khan,6,1\\r\\n506,829808,Kings XI Punjab,Royal Challengers Bangalore,5/13/2015,2015,\"Punjab Cricket Association Stadium, Mohali\",Chandigarh,India,Royal Challengers Bangalore,Kings XI Punjab,field,runs,Result,AR Patel,22,1\\r\\n507,829810,Mumbai Indians,Kolkata Knight Riders,5/14/2015,2015,Wankhede Stadium,Mumbai,India,Kolkata Knight Riders,Mumbai Indians,field,runs,Result,HH Pandya,5,1\\r\\n508,829812,Sunrisers Hyderabad,Royal Challengers Bangalore,5/15/2015,2015,\"Rajiv Gandhi International Stadium, Uppal\",Hyderabad,India,Sunrisers Hyderabad,Royal Challengers Bangalore,bat,wickets,Result,V Kohli,6,1\\r\\n509,829814,Kings XI Punjab,Chennai Super Kings,5/16/2015,2015,\"Punjab Cricket Association Stadium, Mohali\",Chandigarh,India,Kings XI Punjab,Chennai Super Kings,bat,wickets,Result,P Negi,7,1\\r\\n510,829816,Rajasthan Royals,Kolkata Knight Riders,5/16/2015,2015,Brabourne Stadium,Mumbai,India,Rajasthan Royals,Rajasthan Royals,bat,runs,Result,SR Watson,9,1\\r\\n511,829818,Royal Challengers Bangalore,Delhi Daredevils,5/17/2015,2015,M Chinnaswamy Stadium,Bangalore,India,Royal Challengers Bangalore,NULL,field,NO Result,No Result,NULL,NULL,1\\r\\n512,829820,Sunrisers Hyderabad,Mumbai Indians,5/17/2015,2015,\"Rajiv Gandhi International Stadium, Uppal\",Hyderabad,India,Sunrisers Hyderabad,Mumbai Indians,bat,wickets,Result,MJ McClenaghan,9,1\\r\\n513,829822,Chennai Super Kings,Mumbai Indians,5/19/2015,2015,Wankhede Stadium,Mumbai,India,Mumbai Indians,Mumbai Indians,bat,runs,Result,KA Pollard,25,1\\r\\n514,829824,Royal Challengers Bangalore,Rajasthan Royals,5/20/2015,2015,Maharashtra Cricket Association Stadium,Pune,India,Royal Challengers Bangalore,Royal Challengers Bangalore,bat,runs,Result,AB de Villiers,71,1\\r\\n515,829826,Chennai Super Kings,Royal Challengers Bangalore,5/22/2015,2015,JSCA International Stadium Complex,Ranchi,India,Chennai Super Kings,Chennai Super Kings,field,wickets,Result,A Nehra,3,1\\r\\n516,829828,Mumbai Indians,Chennai Super Kings,5/24/2015,2015,Eden Gardens,Kolkata,India,Chennai Super Kings,Mumbai Indians,field,runs,Result,RG Sharma,41,1\\r\\n517,980906,Mumbai Indians,Rising Pune Supergiants,4/9/2016,2016,Wankhede Stadium,Mumbai,India,Mumbai Indians,Rising Pune Supergiants,bat,wickets,Result,AM Rahane,9,1\\r\\n518,980908,Kolkata Knight Riders,Delhi Daredevils,4/10/2016,2016,Eden Gardens,Kolkata,India,Kolkata Knight Riders,Kolkata Knight Riders,field,wickets,Result,AD Russell,9,1\\r\\n519,980910,Kings XI Punjab,Gujarat Lions,4/11/2016,2016,\"Punjab Cricket Association IS Bindra Stadium, Mohali\",Chandigarh,India,Gujarat Lions,Gujarat Lions,field,wickets,Result,AJ Finch,5,1\\r\\n520,980912,Royal Challengers Bangalore,Sunrisers Hyderabad,4/12/2016,2016,M Chinnaswamy Stadium,Bangalore,India,Sunrisers Hyderabad,Royal Challengers Bangalore,field,runs,Result,AB de Villiers,45,1\\r\\n521,980914,Kolkata Knight Riders,Mumbai Indians,4/13/2016,2016,Eden Gardens,Kolkata,India,Mumbai Indians,Mumbai Indians,field,wickets,Result,RG Sharma,6,1\\r\\n522,980916,Gujarat Lions,Rising Pune Supergiants,4/14/2016,2016,Saurashtra Cricket Association Stadium,Rajkot,India,Rising Pune Supergiants,Gujarat Lions,bat,wickets,Result,AJ Finch,7,1\\r\\n523,980918,Delhi Daredevils,Kings XI Punjab,4/15/2016,2016,Feroz Shah Kotla,Delhi,India,Delhi Daredevils,Delhi Daredevils,field,wickets,Result,A Mishra,8,1\\r\\n524,980920,Sunrisers Hyderabad,Kolkata Knight Riders,4/16/2016,2016,\"Rajiv Gandhi International Stadium, Uppal\",Hyderabad,India,Sunrisers Hyderabad,Kolkata Knight Riders,bat,wickets,Result,G Gambhir,8,1\\r\\n525,980922,Mumbai Indians,Gujarat Lions,4/16/2016,2016,Wankhede Stadium,Mumbai,India,Gujarat Lions,Gujarat Lions,field,wickets,Result,AJ Finch,3,1\\r\\n526,980924,Kings XI Punjab,Rising Pune Supergiants,4/17/2016,2016,\"Punjab Cricket Association IS Bindra Stadium, Mohali\",Chandigarh,India,Rising Pune Supergiants,Kings XI Punjab,bat,wickets,Result,M Vohra,6,1\\r\\n527,980926,Royal Challengers Bangalore,Delhi Daredevils,4/17/2016,2016,M Chinnaswamy Stadium,Bangalore,India,Delhi Daredevils,Delhi Daredevils,field,wickets,Result,Q de Kock,7,1\\r\\n528,980928,Sunrisers Hyderabad,Mumbai Indians,4/18/2016,2016,\"Rajiv Gandhi International Stadium, Uppal\",Hyderabad,India,Sunrisers Hyderabad,Sunrisers Hyderabad,field,wickets,Result,DA Warner,7,1\\r\\n529,980930,Kings XI Punjab,Kolkata Knight Riders,4/19/2016,2016,\"Punjab Cricket Association IS Bindra Stadium, Mohali\",Chandigarh,India,Kolkata Knight Riders,Kolkata Knight Riders,field,wickets,Result,RV Uthappa,6,1\\r\\n530,980932,Mumbai Indians,Royal Challengers Bangalore,4/20/2016,2016,Wankhede Stadium,Mumbai,India,Mumbai Indians,Mumbai Indians,field,wickets,Result,RG Sharma,6,1\\r\\n531,980934,Gujarat Lions,Sunrisers Hyderabad,4/21/2016,2016,Saurashtra Cricket Association Stadium,Rajkot,India,Sunrisers Hyderabad,Sunrisers Hyderabad,field,wickets,Result,B Kumar,10,1\\r\\n532,980936,Rising Pune Supergiants,Royal Challengers Bangalore,4/22/2016,2016,Maharashtra Cricket Association Stadium,Pune,India,Rising Pune Supergiants,Royal Challengers Bangalore,field,runs,Result,AB de Villiers,13,1\\r\\n533,980938,Delhi Daredevils,Mumbai Indians,4/23/2016,2016,Feroz Shah Kotla,Delhi,India,Mumbai Indians,Delhi Daredevils,field,runs,Result,SV Samson,10,1\\r\\n534,980940,Sunrisers Hyderabad,Kings XI Punjab,4/23/2016,2016,\"Rajiv Gandhi International Stadium, Uppal\",Hyderabad,India,Sunrisers Hyderabad,Sunrisers Hyderabad,field,wickets,Result,Mustafizur Rahman,5,1\\r\\n535,980942,Gujarat Lions,Royal Challengers Bangalore,4/24/2016,2016,Saurashtra Cricket Association Stadium,Rajkot,India,Royal Challengers Bangalore,Gujarat Lions,bat,wickets,Result,V Kohli,6,1\\r\\n536,980944,Rising Pune Supergiants,Kolkata Knight Riders,4/24/2016,2016,Maharashtra Cricket Association Stadium,Pune,India,Kolkata Knight Riders,Kolkata Knight Riders,field,wickets,Result,SA Yadav,2,1\\r\\n537,980946,Kings XI Punjab,Mumbai Indians,4/25/2016,2016,\"Punjab Cricket Association IS Bindra Stadium, Mohali\",Chandigarh,India,Kings XI Punjab,Mumbai Indians,field,runs,Result,PA Patel,25,1\\r\\n538,980948,Sunrisers Hyderabad,Rising Pune Supergiants,4/26/2016,2016,\"Rajiv Gandhi International Stadium, Uppal\",Hyderabad,India,Rising Pune Supergiants,Rising Pune Supergiants,field,runs,Result,AB Dinda,34,1\\r\\n539,980950,Delhi Daredevils,Gujarat Lions,4/27/2016,2016,Feroz Shah Kotla,Delhi,India,Delhi Daredevils,Gujarat Lions,field,runs,Result,CH Morris,1,1\\r\\n540,980952,Mumbai Indians,Kolkata Knight Riders,4/28/2016,2016,Wankhede Stadium,Mumbai,India,Mumbai Indians,Mumbai Indians,field,wickets,Result,RG Sharma,6,1\\r\\n541,980954,Rising Pune Supergiants,Gujarat Lions,4/29/2016,2016,Maharashtra Cricket Association Stadium,Pune,India,Gujarat Lions,Gujarat Lions,field,wickets,Result,DR Smith,3,1\\r\\n542,980956,Delhi Daredevils,Kolkata Knight Riders,4/30/2016,2016,Feroz Shah Kotla,Delhi,India,Kolkata Knight Riders,Delhi Daredevils,field,runs,Result,CR Brathwaite,27,1\\r\\n543,980958,Sunrisers Hyderabad,Royal Challengers Bangalore,4/30/2016,2016,\"Rajiv Gandhi International Stadium, Uppal\",Hyderabad,India,Royal Challengers Bangalore,Sunrisers Hyderabad,field,runs,Result,DA Warner,15,1\\r\\n544,980960,Gujarat Lions,Kings XI Punjab,5/1/2016,2016,Saurashtra Cricket Association Stadium,Rajkot,India,Gujarat Lions,Kings XI Punjab,field,runs,Result,AR Patel,23,1\\r\\n545,980962,Rising Pune Supergiants,Mumbai Indians,5/1/2016,2016,Maharashtra Cricket Association Stadium,Pune,India,Mumbai Indians,Mumbai Indians,field,wickets,Result,RG Sharma,8,1\\r\\n546,980964,Royal Challengers Bangalore,Kolkata Knight Riders,5/2/2016,2016,M Chinnaswamy Stadium,Bangalore,India,Kolkata Knight Riders,Kolkata Knight Riders,field,wickets,Result,AD Russell,5,1\\r\\n547,980966,Gujarat Lions,Delhi Daredevils,5/3/2016,2016,Saurashtra Cricket Association Stadium,Rajkot,India,Delhi Daredevils,Delhi Daredevils,field,wickets,Result,RR Pant,8,1\\r\\n548,980968,Kolkata Knight Riders,Kings XI Punjab,5/4/2016,2016,Eden Gardens,Kolkata,India,Kings XI Punjab,Kolkata Knight Riders,field,runs,Result,AD Russell,7,1\\r\\n549,980970,Delhi Daredevils,Rising Pune Supergiants,5/5/2016,2016,Feroz Shah Kotla,Delhi,India,Rising Pune Supergiants,Rising Pune Supergiants,field,wickets,Result,AM Rahane,7,1\\r\\n550,980972,Sunrisers Hyderabad,Gujarat Lions,5/6/2016,2016,\"Rajiv Gandhi International Stadium, Uppal\",Hyderabad,India,Sunrisers Hyderabad,Sunrisers Hyderabad,field,wickets,Result,B Kumar,5,1\\r\\n551,980974,Royal Challengers Bangalore,Rising Pune Supergiants,5/7/2016,2016,M Chinnaswamy Stadium,Bangalore,India,Royal Challengers Bangalore,Royal Challengers Bangalore,field,wickets,Result,V Kohli,7,1\\r\\n552,980976,Kings XI Punjab,Delhi Daredevils,5/7/2016,2016,\"Punjab Cricket Association IS Bindra Stadium, Mohali\",Chandigarh,India,Delhi Daredevils,Kings XI Punjab,field,runs,Result,MP Stoinis,9,1\\r\\n553,980978,Mumbai Indians,Sunrisers Hyderabad,5/8/2016,2016,Dr. Y.S. Rajasekhara Reddy ACA-VDCA Cricket Stadium,Visakhapatnam,India,Mumbai Indians,Sunrisers Hyderabad,field,runs,Result,A Nehra,85,1\\r\\n554,980980,Kolkata Knight Riders,Gujarat Lions,5/8/2016,2016,Eden Gardens,Kolkata,India,Gujarat Lions,Gujarat Lions,field,wickets,Result,P Kumar,5,1\\r\\n555,980982,Kings XI Punjab,Royal Challengers Bangalore,5/9/2016,2016,\"Punjab Cricket Association IS Bindra Stadium, Mohali\",Chandigarh,India,Kings XI Punjab,Royal Challengers Bangalore,field,runs,Result,SR Watson,1,1\\r\\n556,980984,Rising Pune Supergiants,Sunrisers Hyderabad,5/10/2016,2016,Dr. Y.S. Rajasekhara Reddy ACA-VDCA Cricket Stadium,Visakhapatnam,India,Sunrisers Hyderabad,Sunrisers Hyderabad,bat,runs,Result,A Zampa,4,1\\r\\n557,980986,Royal Challengers Bangalore,Mumbai Indians,5/11/2016,2016,M Chinnaswamy Stadium,Bangalore,India,Mumbai Indians,Mumbai Indians,field,wickets,Result,KH Pandya,6,1\\r\\n558,980988,Sunrisers Hyderabad,Delhi Daredevils,5/12/2016,2016,\"Rajiv Gandhi International Stadium, Uppal\",Hyderabad,India,Delhi Daredevils,Delhi Daredevils,field,wickets,Result,CH Morris,7,1\\r\\n559,980990,Mumbai Indians,Kings XI Punjab,5/13/2016,2016,Dr. Y.S. Rajasekhara Reddy ACA-VDCA Cricket Stadium,Visakhapatnam,India,Mumbai Indians,Kings XI Punjab,bat,wickets,Result,MP Stoinis,7,1\\r\\n560,980992,Royal Challengers Bangalore,Gujarat Lions,5/14/2016,2016,M Chinnaswamy Stadium,Bangalore,India,Gujarat Lions,Royal Challengers Bangalore,field,runs,Result,AB de Villiers,144,1\\r\\n561,980994,Kolkata Knight Riders,Rising Pune Supergiants,5/14/2016,2016,Eden Gardens,Kolkata,India,Rising Pune Supergiants,Kolkata Knight Riders,bat,wickets,Result,YK Pathan,8,1\\r\\n562,980996,Kings XI Punjab,Sunrisers Hyderabad,5/15/2016,2016,\"Punjab Cricket Association IS Bindra Stadium, Mohali\",Chandigarh,India,Kings XI Punjab,Sunrisers Hyderabad,bat,wickets,Result,HM Amla,7,1\\r\\n563,980998,Mumbai Indians,Delhi Daredevils,5/15/2016,2016,Dr. Y.S. Rajasekhara Reddy ACA-VDCA Cricket Stadium,Visakhapatnam,India,Delhi Daredevils,Mumbai Indians,field,runs,Result,KH Pandya,80,1\\r\\n564,981000,Kolkata Knight Riders,Royal Challengers Bangalore,5/16/2016,2016,Eden Gardens,Kolkata,India,Royal Challengers Bangalore,Royal Challengers Bangalore,field,wickets,Result,V Kohli,9,1\\r\\n565,981002,Rising Pune Supergiants,Delhi Daredevils,5/17/2016,2016,Dr. Y.S. Rajasekhara Reddy ACA-VDCA Cricket Stadium,Visakhapatnam,India,Rising Pune Supergiants,Rising Pune Supergiants,field,runs,Result,AB Dinda,19,1\\r\\n566,981004,Royal Challengers Bangalore,Kings XI Punjab,5/18/2016,2016,M Chinnaswamy Stadium,Bangalore,India,Kings XI Punjab,Royal Challengers Bangalore,field,runs,Result,V Kohli,82,1\\r\\n567,981006,Gujarat Lions,Kolkata Knight Riders,5/19/2016,2016,Green Park,Kanpur,India,Gujarat Lions,Gujarat Lions,field,wickets,Result,DR Smith,6,1\\r\\n568,981008,Delhi Daredevils,Sunrisers Hyderabad,5/20/2016,2016,Shaheed Veer Narayan Singh International Stadium,Raipur,India,Delhi Daredevils,Delhi Daredevils,field,wickets,Result,KK Nair,6,1\\r\\n569,981010,Rising Pune Supergiants,Kings XI Punjab,5/21/2016,2016,Dr. Y.S. Rajasekhara Reddy ACA-VDCA Cricket Stadium,Visakhapatnam,India,Kings XI Punjab,Rising Pune Supergiants,bat,wickets,Result,MS Dhoni,4,1\\r\\n570,981012,Gujarat Lions,Mumbai Indians,5/21/2016,2016,Green Park,Kanpur,India,Gujarat Lions,Gujarat Lions,field,wickets,Result,SK Raina,6,1\\r\\n571,981014,Kolkata Knight Riders,Sunrisers Hyderabad,5/22/2016,2016,Eden Gardens,Kolkata,India,Sunrisers Hyderabad,Kolkata Knight Riders,field,runs,Result,YK Pathan,22,1\\r\\n572,981016,Delhi Daredevils,Royal Challengers Bangalore,5/22/2016,2016,Shaheed Veer Narayan Singh International Stadium,Raipur,India,Royal Challengers Bangalore,Royal Challengers Bangalore,field,wickets,Result,V Kohli,6,1\\r\\n573,981018,Gujarat Lions,Royal Challengers Bangalore,5/24/2016,2016,M Chinnaswamy Stadium,Bangalore,India,Royal Challengers Bangalore,Royal Challengers Bangalore,field,wickets,Result,AB de Villiers,4,1\\r\\n574,981020,Sunrisers Hyderabad,Kolkata Knight Riders,5/25/2016,2016,Feroz Shah Kotla,Delhi,India,Kolkata Knight Riders,Sunrisers Hyderabad,field,runs,Result,MC Henriques,22,1\\r\\n575,981022,Gujarat Lions,Sunrisers Hyderabad,5/27/2016,2016,Feroz Shah Kotla,Delhi,India,Sunrisers Hyderabad,Sunrisers Hyderabad,field,wickets,Result,DA Warner,4,1\\r\\n576,981024,Royal Challengers Bangalore,Sunrisers Hyderabad,5/29/2016,2016,M Chinnaswamy Stadium,Bangalore,India,Sunrisers Hyderabad,Sunrisers Hyderabad,bat,runs,Result,BCJ Cutting,8,1\\r\\n577,1082591,Sunrisers Hyderabad,Royal Challengers Bangalore,4/5/2017,2017,Rajiv Gandhi International Stadium Uppal,Hyderabad (Deccan),India,Royal Challengers Bangalore,Sunrisers Hyderabad,Field,runs,Result,Yuvraj Singh,35,1\\r\\n578,1082592,Rising Pune Supergiants,Mumbai Indians,4/6/2017,2017,Maharashtra Cricket Association Stadium,Pune,India,Rising Pune Supergiant,Rising Pune Supergiants,Field,wickets,Result,SPD Smith,7,1\\r\\n579,1082593,Gujarat Lions,Kolkata Knight Riders,4/7/2017,2017,Saurashtra Cricket Association Stadium,Rajkot,India,Kolkata Knight Riders,Kolkata Knight Riders,Field,wickets,Result,CA Lynn,10,1\\r\\n580,1082594,Kings XI Punjab,Rising Pune Supergiants,4/8/2017,2017,Holkar Cricket Stadium,Indore,India,Kings XI Punjab,Kings XI Punjab,Field,wickets,Result,GJ Maxwell,6,1\\r\\n581,1082595,Royal Challengers Bangalore,Delhi Daredevils,4/8/2017,2017,M Chinnaswamy Stadium,Bengaluru,India,Royal Challengers Bangalore,Royal Challengers Bangalore,Bat,runs,Result,KM Jadhav,15,1\\r\\n582,1082596,Sunrisers Hyderabad,Gujarat Lions,4/9/2017,2017,Rajiv Gandhi International Stadium Uppal,Hyderabad (Deccan),India,Sunrisers Hyderabad,Sunrisers Hyderabad,Field,wickets,Result,Rashid Khan,9,1\\r\\n583,1082597,Mumbai Indians,Kolkata Knight Riders,4/9/2017,2017,Wankhede Stadium,Mumbai,India,Mumbai Indians,Mumbai Indians,Field,wickets,Result,N Rana,4,1\\r\\n584,1082598,Kings XI Punjab,Royal Challengers Bangalore,4/10/2017,2017,Holkar Cricket Stadium,Indore,India,Royal Challengers Bangalore,Kings XI Punjab,Bat,wickets,Result,AR Patel,8,1\\r\\n585,1082599,Rising Pune Supergiants,Delhi Daredevils,4/11/2017,2017,Maharashtra Cricket Association Stadium,Pune,India,Rising Pune Supergiants,Delhi Daredevils,Field,runs,Result,SV Samson,97,1\\r\\n586,1082600,Mumbai Indians,Sunrisers Hyderabad,4/12/2017,2017,Wankhede Stadium,Mumbai,India,Mumbai Indians,Mumbai Indians,Field,wickets,Result,JJ Bumrah,4,1\\r\\n587,1082601,Kolkata Knight Riders,Kings XI Punjab,4/13/2017,2017,Eden Gardens,Kolkata,India,Kolkata Knight Riders,Kolkata Knight Riders,Field,wickets,Result,Narine,8,1\\r\\n588,1082602,Royal Challengers Bangalore,Mumbai Indians,4/14/2017,2017,M Chinnaswamy Stadium,Bengaluru,India,Mumbai Indians,Mumbai Indians,Field,wickets,Result,KA Pollard,4,1\\r\\n589,1082603,Gujarat Lions,Rising Pune Supergiants,4/14/2017,2017,Saurashtra Cricket Association Stadium,Rajkot,India,Gujarat Lions,Gujarat Lions,Field,wickets,Result,AJ Tye,7,1\\r\\n590,1082604,Kolkata Knight Riders,Sunrisers Hyderabad,4/15/2017,2017,Eden Gardens,Kolkata,India,Sunrisers Hyderabad,Kolkata Knight Riders,Field,runs,Result,RV Uthappa,17,1\\r\\n591,1082605,Delhi Daredevils,Kings XI Punjab,4/15/2017,2017,Feroz Shah Kotla,Delhi,India,Delhi Daredevils,Delhi Daredevils,Bat,runs,Result,CJ Anderson,51,1\\r\\n592,1082606,Mumbai Indians,Gujarat Lions,4/16/2017,2017,Wankhede Stadium,Mumbai,India,Mumbai Indians,Mumbai Indians,Field,wickets,Result,N Rana,6,1\\r\\n593,1082607,Royal Challengers Bangalore,Rising Pune Supergiants,4/16/2017,2017,M Chinnaswamy Stadium,Bengaluru,India,Royal Challengers Bangalore,Rising Pune Supergiants,Field,runs,Result,BA Stokes,27,1\\r\\n594,1082608,Delhi Daredevils,Kolkata Knight Riders,4/17/2017,2017,Feroz Shah Kotla,Delhi,India,Delhi Daredevils,Kolkata Knight Riders,Bat,wickets,Result,NM Coulter-Nile,4,1\\r\\n595,1082609,Sunrisers Hyderabad,Kings XI Punjab,4/17/2017,2017,Rajiv Gandhi International Stadium Uppal,Hyderabad (Deccan),India,Kings XI Punjab,Sunrisers Hyderabad,Field,runs,Result,B Kumar,5,1\\r\\n596,1082610,Gujarat Lions,Royal Challengers Bangalore,4/18/2017,2017,Saurashtra Cricket Association Stadium,Rajkot,India,Gujarat Lions,Royal Challengers Bangalore,Field,runs,Result,CH Gayle,21,1\\r\\n597,1082611,Sunrisers Hyderabad,Delhi Daredevils,4/19/2017,2017,Rajiv Gandhi International Stadium Uppal,Hyderabad (Deccan),India,Sunrisers Hyderabad,Sunrisers Hyderabad,Bat,runs,Result,KS Williamson,15,1\\r\\n598,1082612,Kings XI Punjab,Mumbai Indians,4/20/2017,2017,Holkar Cricket Stadium,Indore,India,Mumbai Indians,Mumbai Indians,Field,wickets,Result,JC Buttler,8,1\\r\\n599,1082613,Kolkata Knight Riders,Gujarat Lions,4/21/2017,2017,Eden Gardens,Kolkata,India,Gujarat Lions,Gujarat Lions,Field,wickets,Result,SK Raina,4,1\\r\\n600,1082614,Mumbai Indians,Delhi Daredevils,4/22/2017,2017,Wankhede Stadium,Mumbai,India,Delhi Daredevils,Mumbai Indians,Field,runs,Result,MJ McClenaghan,14,1\\r\\n601,1082615,Rising Pune Supergiants,Sunrisers Hyderabad,4/22/2017,2017,Maharashtra Cricket Association Stadium,Pune,India,Rising Pune Supergiants,Rising Pune Supergiants,Field,wickets,Result,MS Dhoni,6,1\\r\\n602,1082616,Gujarat Lions,Kings XI Punjab,4/23/2017,2017,Saurashtra Cricket Association Stadium,Rajkot,India,Gujarat Lions,Kings XI Punjab,Field,runs,Result,HM Amla,26,1\\r\\n603,1082617,Kolkata Knight Riders,Royal Challengers Bangalore,4/23/2017,2017,Eden Gardens,Kolkata,India,Royal Challengers Bangalore,Kolkata Knight Riders,Field,runs,Result,NM Coulter-Nile,82,1\\r\\n604,1082618,Mumbai Indians,Rising Pune Supergiants,4/24/2017,2017,Wankhede Stadium,Mumbai,India,Mumbai Indians,Rising Pune Supergiants,Field,runs,Result,BA Stokes,3,1\\r\\n605,1082619,Royal Challengers Bangalore,Sunrisers Hyderabad,4/25/2017,2017,NULL,Bengaluru,India,,abandoned,NA,NA,abandoned,NA,0,1\\r\\n606,1082620,Rising Pune Supergiants,Kolkata Knight Riders,4/26/2017,2017,Maharashtra Cricket Association Stadium,Pune,India,Kolkata Knight Riders,Kolkata Knight Riders,Field,wickets,Result,RV Uthappa,7,1\\r\\n607,1082621,Royal Challengers Bangalore,Gujarat Lions,4/27/2017,2017,M Chinnaswamy Stadium,Bengaluru,India,Gujarat Lions,Gujarat Lions,Field,wickets,Result,AJ Tye,7,1\\r\\n608,1082622,Kolkata Knight Riders,Delhi Daredevils,4/28/2017,2017,Eden Gardens,Kolkata,India,Kolkata Knight Riders,Kolkata Knight Riders,Field,wickets,Result,G Gambhir,7,1\\r\\n609,1082623,Kings XI Punjab,Sunrisers Hyderabad,4/28/2017,2017,Punjab Cricket Association IS Bindra Stadium Mohali,Mohali,India,Kings XI Punjab,Sunrisers Hyderabad,Field,runs,Result,Rashid Khan,26,1\\r\\n610,1082624,Rising Pune Supergiants,Royal Challengers Bangalore,4/29/2017,2017,Maharashtra Cricket Association Stadium,Pune,India,Royal Challengers Bangalore,Rising Pune Supergiants,Field,runs,Result,LH Ferguson,61,1\\r\\n611,1082625,Gujarat Lions,Mumbai Indians,4/29/2017,2017,Saurashtra Cricket Association Stadium,Rajkot,India,Gujarat Lions,tied,Bat,,tied,KH Pandya,0,1\\r\\n612,1082626,Kings XI Punjab,Delhi Daredevils,4/30/2017,2017,Punjab Cricket Association IS Bindra Stadium Mohali,Mohali,India,Kings XI Punjab,Kings XI Punjab,Field,wickets,Result,Sandeep Sharma,10,1\\r\\n613,1082627,Sunrisers Hyderabad,Kolkata Knight Riders,4/30/2017,2017,Rajiv Gandhi International Stadium Uppal,Hyderabad (Deccan),India,Kolkata Knight Riders,Sunrisers Hyderabad,Field,runs,Result,DA Warner,48,1\\r\\n614,1082628,Mumbai Indians,Royal Challengers Bangalore,5/1/2017,2017,Wankhede Stadium,Mumbai,India,Royal Challengers Bangalore,Mumbai Indians,Bat,wickets,Result,RG Sharma,5,1\\r\\n615,1082629,Rising Pune Supergiants,Gujarat Lions,5/1/2017,2017,Maharashtra Cricket Association Stadium,Pune,India,Rising Pune Supergiants,Rising Pune Supergiants,Field,wickets,Result,BA Stokes,5,1\\r\\n616,1082630,Delhi Daredevils,Sunrisers Hyderabad,5/2/2017,2017,Feroz Shah Kotla,Delhi,India,Delhi Daredevils,Delhi Daredevils,Field,wickets,Result,Mohammed Shami,6,1\\r\\n617,1082631,Kolkata Knight Riders,Rising Pune Supergiants,5/3/2017,2017,Eden Gardens,Kolkata,India,Rising Pune Supergiants,Rising Pune Supergiants,Field,wickets,Result,RA Tripathi,4,1\\r\\n618,1082632,Delhi Daredevils,Gujarat Lions,5/4/2017,2017,Feroz Shah Kotla,Delhi,India,Delhi Daredevils,Delhi Daredevils,Field,wickets,Result,RR Pant,7,1\\r\\n619,1082633,Royal Challengers Bangalore,Kings XI Punjab,5/5/2017,2017,M Chinnaswamy Stadium,Bengaluru,India,Royal Challengers Bangalore,Kings XI Punjab,Field,runs,Result,Sandeep Sharma,19,1\\r\\n620,1082634,Sunrisers Hyderabad,Rising Pune Supergiants,5/6/2017,2017,Rajiv Gandhi International Stadium Uppal,Hyderabad (Deccan),India,Sunrisers Hyderabad,Rising Pune Supergiants,Field,runs,Result,JD Unadkat,12,1\\r\\n621,1082635,Delhi Daredevils,Mumbai Indians,5/6/2017,2017,Feroz Shah Kotla,Delhi,India,Delhi Daredevils,Mumbai Indians,Field,runs,Result,LMP Simmons,146,1\\r\\n622,1082636,Royal Challengers Bangalore,Kolkata Knight Riders,5/7/2017,2017,M Chinnaswamy Stadium,Bengaluru,India,Kolkata Knight Riders,Kolkata Knight Riders,Field,wickets,Result,SP Narine,6,1\\r\\n623,1082637,Kings XI Punjab,Gujarat Lions,5/7/2017,2017,Punjab Cricket Association IS Bindra Stadium Mohali,Mohali,India,Gujarat Lions,Gujarat Lions,Field,wickets,Result,DR Smith,6,1\\r\\n624,1082638,Sunrisers Hyderabad,Mumbai Indians,5/8/2017,2017,Rajiv Gandhi International Stadium Uppal,Hyderabad (Deccan),India,Mumbai Indians,Sunrisers Hyderabad,Bat,wickets,Result,S Dhawan,7,1\\r\\n625,1082639,Kings XI Punjab,Kolkata Knight Riders,5/9/2017,2017,Punjab Cricket Association IS Bindra Stadium Mohali,Mohali,India,Kolkata Knight Riders,Kings XI Punjab,Field,runs,Result,MM Sharma,14,1\\r\\n626,1082640,Gujarat Lions,Delhi Daredevils,5/10/2017,2017,Green Park,Kanpur,India,Delhi Daredevils,Delhi Daredevils,Field,wickets,Result,SS Iyer,2,1\\r\\n627,1082641,Mumbai Indians,Kings XI Punjab,5/11/2017,2017,Wankhede Stadium,Mumbai,India,Mumbai Indians,Kings XI Punjab,Field,runs,Result,WP Saha,7,1\\r\\n628,1082642,Delhi Daredevils,Rising Pune Supergiants,5/12/2017,2017,Feroz Shah Kotla,Delhi,India,Delhi Daredevils,Delhi Daredevils,Bat,runs,Result,KK Nair,7,1\\r\\n629,1082643,Gujarat Lions,Sunrisers Hyderabad,5/13/2017,2017,Green Park,Kanpur,India,Sunrisers Hyderabad,Sunrisers Hyderabad,Field,wickets,Result,Mohammed Siraj,8,1\\r\\n630,1082644,Kolkata Knight Riders,Mumbai Indians,5/13/2017,2017,Eden Gardens,Kolkata,India,Kolkata Knight Riders,Mumbai Indians,Field,runs,Result,AT Rayudu,9,1\\r\\n631,1082645,Rising Pune Supergiants,Kings XI Punjab,5/14/2017,2017,Maharashtra Cricket Association Stadium,Pune,India,Rising Pune Supergiants,Rising Pune Supergiants,Field,wickets,Result,JD Unadkat,9,1\\r\\n632,1082646,Delhi Daredevils,Royal Challengers Bangalore,5/14/2017,2017,Feroz Shah Kotla,Delhi,India,Royal Challengers Bangalore,Royal Challengers Bangalore,Bat,runs,Result,HV Patel,10,1\\r\\n633,1082647,Mumbai Indians,Rising Pune Supergiants,5/16/2017,2017,Wankhede Stadium,Mumbai,India,Mumbai Indians,Rising Pune Supergiants,Field,runs,Result,Wasington Sundar,20,1\\r\\n634,1082648,Sunrisers Hyderabad,Kolkata Knight Riders,5/17/2017,2017,M Chinnaswamy Stadium,Bengaluru,India,Kolkata Knight Riders,Kolkata Knight Riders,Field,wickets,Result,NM Coulter-Nile,7,1\\r\\n635,1082649,Mumbai Indians,Kolkata Knight Riders,5/19/2017,2017,M Chinnaswamy Stadium,Bengaluru,India,Mumbai Indians,Mumbai Indians,Field,wickets,Result,KV Sharma,6,1\\r\\n636,1082650,Mumbai Indians,Rising Pune Supergiants,5/21/2017,2017,Rajiv Gandhi International Stadium Uppal,Hyderabad (Deccan),India,Mumbai Indians,Mumbai Indians,Bat,run,Result,KH Pandya,1,1\\r\\n'}"
            ]
          },
          "metadata": {},
          "execution_count": 5
        }
      ]
    },
    {
      "cell_type": "code",
      "source": [
        "ipl=pd.read_csv('Match.csv')"
      ],
      "metadata": {
        "id": "cMEOaZdtEiQ-"
      },
      "execution_count": 6,
      "outputs": []
    },
    {
      "cell_type": "code",
      "source": [
        "#having first five records\n",
        "ipl.head()"
      ],
      "metadata": {
        "colab": {
          "base_uri": "https://localhost:8080/",
          "height": 461
        },
        "id": "GV5LX13PEuJB",
        "outputId": "7923b4c4-b7c7-4879-8a56-2fece432ce51"
      },
      "execution_count": 7,
      "outputs": [
        {
          "output_type": "execute_result",
          "data": {
            "text/plain": [
              "   Match_SK  match_id                        Team1  \\\n",
              "0         0    335987  Royal Challengers Bangalore   \n",
              "1         1    335988              Kings XI Punjab   \n",
              "2         2    335989             Delhi Daredevils   \n",
              "3         3    335990               Mumbai Indians   \n",
              "4         4    335991        Kolkata Knight Riders   \n",
              "\n",
              "                         Team2 match_date  Season_Year  \\\n",
              "0        Kolkata Knight Riders  4/18/2008         2008   \n",
              "1          Chennai Super Kings  4/19/2008         2008   \n",
              "2             Rajasthan Royals  4/19/2008         2008   \n",
              "3  Royal Challengers Bangalore  4/20/2008         2008   \n",
              "4              Deccan Chargers  4/20/2008         2008   \n",
              "\n",
              "                                   Venue_Name   City_Name Country_Name  \\\n",
              "0                       M Chinnaswamy Stadium   Bangalore        India   \n",
              "1  Punjab Cricket Association Stadium, Mohali  Chandigarh        India   \n",
              "2                            Feroz Shah Kotla       Delhi        India   \n",
              "3                            Wankhede Stadium      Mumbai        India   \n",
              "4                                Eden Gardens     Kolkata        India   \n",
              "\n",
              "                   Toss_Winner                 match_winner Toss_Name  \\\n",
              "0  Royal Challengers Bangalore        Kolkata Knight Riders     field   \n",
              "1          Chennai Super Kings          Chennai Super Kings       bat   \n",
              "2             Rajasthan Royals             Delhi Daredevils       bat   \n",
              "3               Mumbai Indians  Royal Challengers Bangalore       bat   \n",
              "4              Deccan Chargers        Kolkata Knight Riders       bat   \n",
              "\n",
              "  Win_Type Outcome_Type    ManOfMach  Win_Margin  Country_id  \n",
              "0     runs       Result  BB McCullum       140.0           1  \n",
              "1     runs       Result   MEK Hussey        33.0           1  \n",
              "2  wickets       Result  MF Maharoof         9.0           1  \n",
              "3  wickets       Result   MV Boucher         5.0           1  \n",
              "4  wickets       Result    DJ Hussey         5.0           1  "
            ],
            "text/html": [
              "\n",
              "  <div id=\"df-8955e7e8-be4f-4f9c-bdbd-9d4f7e01a9c6\">\n",
              "    <div class=\"colab-df-container\">\n",
              "      <div>\n",
              "<style scoped>\n",
              "    .dataframe tbody tr th:only-of-type {\n",
              "        vertical-align: middle;\n",
              "    }\n",
              "\n",
              "    .dataframe tbody tr th {\n",
              "        vertical-align: top;\n",
              "    }\n",
              "\n",
              "    .dataframe thead th {\n",
              "        text-align: right;\n",
              "    }\n",
              "</style>\n",
              "<table border=\"1\" class=\"dataframe\">\n",
              "  <thead>\n",
              "    <tr style=\"text-align: right;\">\n",
              "      <th></th>\n",
              "      <th>Match_SK</th>\n",
              "      <th>match_id</th>\n",
              "      <th>Team1</th>\n",
              "      <th>Team2</th>\n",
              "      <th>match_date</th>\n",
              "      <th>Season_Year</th>\n",
              "      <th>Venue_Name</th>\n",
              "      <th>City_Name</th>\n",
              "      <th>Country_Name</th>\n",
              "      <th>Toss_Winner</th>\n",
              "      <th>match_winner</th>\n",
              "      <th>Toss_Name</th>\n",
              "      <th>Win_Type</th>\n",
              "      <th>Outcome_Type</th>\n",
              "      <th>ManOfMach</th>\n",
              "      <th>Win_Margin</th>\n",
              "      <th>Country_id</th>\n",
              "    </tr>\n",
              "  </thead>\n",
              "  <tbody>\n",
              "    <tr>\n",
              "      <th>0</th>\n",
              "      <td>0</td>\n",
              "      <td>335987</td>\n",
              "      <td>Royal Challengers Bangalore</td>\n",
              "      <td>Kolkata Knight Riders</td>\n",
              "      <td>4/18/2008</td>\n",
              "      <td>2008</td>\n",
              "      <td>M Chinnaswamy Stadium</td>\n",
              "      <td>Bangalore</td>\n",
              "      <td>India</td>\n",
              "      <td>Royal Challengers Bangalore</td>\n",
              "      <td>Kolkata Knight Riders</td>\n",
              "      <td>field</td>\n",
              "      <td>runs</td>\n",
              "      <td>Result</td>\n",
              "      <td>BB McCullum</td>\n",
              "      <td>140.0</td>\n",
              "      <td>1</td>\n",
              "    </tr>\n",
              "    <tr>\n",
              "      <th>1</th>\n",
              "      <td>1</td>\n",
              "      <td>335988</td>\n",
              "      <td>Kings XI Punjab</td>\n",
              "      <td>Chennai Super Kings</td>\n",
              "      <td>4/19/2008</td>\n",
              "      <td>2008</td>\n",
              "      <td>Punjab Cricket Association Stadium, Mohali</td>\n",
              "      <td>Chandigarh</td>\n",
              "      <td>India</td>\n",
              "      <td>Chennai Super Kings</td>\n",
              "      <td>Chennai Super Kings</td>\n",
              "      <td>bat</td>\n",
              "      <td>runs</td>\n",
              "      <td>Result</td>\n",
              "      <td>MEK Hussey</td>\n",
              "      <td>33.0</td>\n",
              "      <td>1</td>\n",
              "    </tr>\n",
              "    <tr>\n",
              "      <th>2</th>\n",
              "      <td>2</td>\n",
              "      <td>335989</td>\n",
              "      <td>Delhi Daredevils</td>\n",
              "      <td>Rajasthan Royals</td>\n",
              "      <td>4/19/2008</td>\n",
              "      <td>2008</td>\n",
              "      <td>Feroz Shah Kotla</td>\n",
              "      <td>Delhi</td>\n",
              "      <td>India</td>\n",
              "      <td>Rajasthan Royals</td>\n",
              "      <td>Delhi Daredevils</td>\n",
              "      <td>bat</td>\n",
              "      <td>wickets</td>\n",
              "      <td>Result</td>\n",
              "      <td>MF Maharoof</td>\n",
              "      <td>9.0</td>\n",
              "      <td>1</td>\n",
              "    </tr>\n",
              "    <tr>\n",
              "      <th>3</th>\n",
              "      <td>3</td>\n",
              "      <td>335990</td>\n",
              "      <td>Mumbai Indians</td>\n",
              "      <td>Royal Challengers Bangalore</td>\n",
              "      <td>4/20/2008</td>\n",
              "      <td>2008</td>\n",
              "      <td>Wankhede Stadium</td>\n",
              "      <td>Mumbai</td>\n",
              "      <td>India</td>\n",
              "      <td>Mumbai Indians</td>\n",
              "      <td>Royal Challengers Bangalore</td>\n",
              "      <td>bat</td>\n",
              "      <td>wickets</td>\n",
              "      <td>Result</td>\n",
              "      <td>MV Boucher</td>\n",
              "      <td>5.0</td>\n",
              "      <td>1</td>\n",
              "    </tr>\n",
              "    <tr>\n",
              "      <th>4</th>\n",
              "      <td>4</td>\n",
              "      <td>335991</td>\n",
              "      <td>Kolkata Knight Riders</td>\n",
              "      <td>Deccan Chargers</td>\n",
              "      <td>4/20/2008</td>\n",
              "      <td>2008</td>\n",
              "      <td>Eden Gardens</td>\n",
              "      <td>Kolkata</td>\n",
              "      <td>India</td>\n",
              "      <td>Deccan Chargers</td>\n",
              "      <td>Kolkata Knight Riders</td>\n",
              "      <td>bat</td>\n",
              "      <td>wickets</td>\n",
              "      <td>Result</td>\n",
              "      <td>DJ Hussey</td>\n",
              "      <td>5.0</td>\n",
              "      <td>1</td>\n",
              "    </tr>\n",
              "  </tbody>\n",
              "</table>\n",
              "</div>\n",
              "      <button class=\"colab-df-convert\" onclick=\"convertToInteractive('df-8955e7e8-be4f-4f9c-bdbd-9d4f7e01a9c6')\"\n",
              "              title=\"Convert this dataframe to an interactive table.\"\n",
              "              style=\"display:none;\">\n",
              "        \n",
              "  <svg xmlns=\"http://www.w3.org/2000/svg\" height=\"24px\"viewBox=\"0 0 24 24\"\n",
              "       width=\"24px\">\n",
              "    <path d=\"M0 0h24v24H0V0z\" fill=\"none\"/>\n",
              "    <path d=\"M18.56 5.44l.94 2.06.94-2.06 2.06-.94-2.06-.94-.94-2.06-.94 2.06-2.06.94zm-11 1L8.5 8.5l.94-2.06 2.06-.94-2.06-.94L8.5 2.5l-.94 2.06-2.06.94zm10 10l.94 2.06.94-2.06 2.06-.94-2.06-.94-.94-2.06-.94 2.06-2.06.94z\"/><path d=\"M17.41 7.96l-1.37-1.37c-.4-.4-.92-.59-1.43-.59-.52 0-1.04.2-1.43.59L10.3 9.45l-7.72 7.72c-.78.78-.78 2.05 0 2.83L4 21.41c.39.39.9.59 1.41.59.51 0 1.02-.2 1.41-.59l7.78-7.78 2.81-2.81c.8-.78.8-2.07 0-2.86zM5.41 20L4 18.59l7.72-7.72 1.47 1.35L5.41 20z\"/>\n",
              "  </svg>\n",
              "      </button>\n",
              "      \n",
              "  <style>\n",
              "    .colab-df-container {\n",
              "      display:flex;\n",
              "      flex-wrap:wrap;\n",
              "      gap: 12px;\n",
              "    }\n",
              "\n",
              "    .colab-df-convert {\n",
              "      background-color: #E8F0FE;\n",
              "      border: none;\n",
              "      border-radius: 50%;\n",
              "      cursor: pointer;\n",
              "      display: none;\n",
              "      fill: #1967D2;\n",
              "      height: 32px;\n",
              "      padding: 0 0 0 0;\n",
              "      width: 32px;\n",
              "    }\n",
              "\n",
              "    .colab-df-convert:hover {\n",
              "      background-color: #E2EBFA;\n",
              "      box-shadow: 0px 1px 2px rgba(60, 64, 67, 0.3), 0px 1px 3px 1px rgba(60, 64, 67, 0.15);\n",
              "      fill: #174EA6;\n",
              "    }\n",
              "\n",
              "    [theme=dark] .colab-df-convert {\n",
              "      background-color: #3B4455;\n",
              "      fill: #D2E3FC;\n",
              "    }\n",
              "\n",
              "    [theme=dark] .colab-df-convert:hover {\n",
              "      background-color: #434B5C;\n",
              "      box-shadow: 0px 1px 3px 1px rgba(0, 0, 0, 0.15);\n",
              "      filter: drop-shadow(0px 1px 2px rgba(0, 0, 0, 0.3));\n",
              "      fill: #FFFFFF;\n",
              "    }\n",
              "  </style>\n",
              "\n",
              "      <script>\n",
              "        const buttonEl =\n",
              "          document.querySelector('#df-8955e7e8-be4f-4f9c-bdbd-9d4f7e01a9c6 button.colab-df-convert');\n",
              "        buttonEl.style.display =\n",
              "          google.colab.kernel.accessAllowed ? 'block' : 'none';\n",
              "\n",
              "        async function convertToInteractive(key) {\n",
              "          const element = document.querySelector('#df-8955e7e8-be4f-4f9c-bdbd-9d4f7e01a9c6');\n",
              "          const dataTable =\n",
              "            await google.colab.kernel.invokeFunction('convertToInteractive',\n",
              "                                                     [key], {});\n",
              "          if (!dataTable) return;\n",
              "\n",
              "          const docLinkHtml = 'Like what you see? Visit the ' +\n",
              "            '<a target=\"_blank\" href=https://colab.research.google.com/notebooks/data_table.ipynb>data table notebook</a>'\n",
              "            + ' to learn more about interactive tables.';\n",
              "          element.innerHTML = '';\n",
              "          dataTable['output_type'] = 'display_data';\n",
              "          await google.colab.output.renderOutput(dataTable, element);\n",
              "          const docLink = document.createElement('div');\n",
              "          docLink.innerHTML = docLinkHtml;\n",
              "          element.appendChild(docLink);\n",
              "        }\n",
              "      </script>\n",
              "    </div>\n",
              "  </div>\n",
              "  "
            ]
          },
          "metadata": {},
          "execution_count": 7
        }
      ]
    },
    {
      "cell_type": "code",
      "source": [
        "#looking at the number of rows and columns in dataset\n",
        "ipl.shape"
      ],
      "metadata": {
        "colab": {
          "base_uri": "https://localhost:8080/"
        },
        "id": "tXPA_RaKEwuU",
        "outputId": "6cf554ce-03ab-431b-cb1d-fb84b5018a18"
      },
      "execution_count": 9,
      "outputs": [
        {
          "output_type": "execute_result",
          "data": {
            "text/plain": [
              "(637, 17)"
            ]
          },
          "metadata": {},
          "execution_count": 9
        }
      ]
    },
    {
      "cell_type": "code",
      "source": [
        "#Getting freq. of most man of the Match\n",
        "ipl['ManOfMach'].value_counts()"
      ],
      "metadata": {
        "colab": {
          "base_uri": "https://localhost:8080/"
        },
        "id": "Ovbakr5UFXqg",
        "outputId": "090674ca-09a4-4225-b95b-6cad9cb313cf"
      },
      "execution_count": 10,
      "outputs": [
        {
          "output_type": "execute_result",
          "data": {
            "text/plain": [
              "CH Gayle          18\n",
              "YK Pathan         16\n",
              "AB de Villiers    15\n",
              "DA Warner         15\n",
              "RG Sharma         14\n",
              "                  ..\n",
              "MD Mishra          1\n",
              "SB Wagh            1\n",
              "S Anirudha         1\n",
              "M Kartik           1\n",
              "KV Sharma          1\n",
              "Name: ManOfMach, Length: 202, dtype: int64"
            ]
          },
          "metadata": {},
          "execution_count": 10
        }
      ]
    },
    {
      "cell_type": "code",
      "source": [
        "#Getting top 10 player man of the match\n",
        "ipl['ManOfMach'].value_counts()[0:10]"
      ],
      "metadata": {
        "colab": {
          "base_uri": "https://localhost:8080/"
        },
        "id": "ZPW5ZUVAG4-G",
        "outputId": "950e0b12-8e6c-48b1-cb10-71b9c0b4c04a"
      },
      "execution_count": 11,
      "outputs": [
        {
          "output_type": "execute_result",
          "data": {
            "text/plain": [
              "CH Gayle          18\n",
              "YK Pathan         16\n",
              "AB de Villiers    15\n",
              "DA Warner         15\n",
              "RG Sharma         14\n",
              "SK Raina          14\n",
              "MS Dhoni          13\n",
              "G Gambhir         13\n",
              "MEK Hussey        12\n",
              "AM Rahane         12\n",
              "Name: ManOfMach, dtype: int64"
            ]
          },
          "metadata": {},
          "execution_count": 11
        }
      ]
    },
    {
      "cell_type": "code",
      "source": [
        "#Getting top 5 player man of the match\n",
        "ipl['ManOfMach'].value_counts()[0:5]"
      ],
      "metadata": {
        "colab": {
          "base_uri": "https://localhost:8080/"
        },
        "id": "lUHLGGfGHSlj",
        "outputId": "f1b76fbe-b5f1-4628-f0ca-88875a5843e3"
      },
      "execution_count": 12,
      "outputs": [
        {
          "output_type": "execute_result",
          "data": {
            "text/plain": [
              "CH Gayle          18\n",
              "YK Pathan         16\n",
              "AB de Villiers    15\n",
              "DA Warner         15\n",
              "RG Sharma         14\n",
              "Name: ManOfMach, dtype: int64"
            ]
          },
          "metadata": {},
          "execution_count": 12
        }
      ]
    },
    {
      "cell_type": "code",
      "source": [
        "#List of the top Man of the match player\n",
        "list(ipl['ManOfMach'].value_counts()[0:10].keys())"
      ],
      "metadata": {
        "colab": {
          "base_uri": "https://localhost:8080/"
        },
        "id": "A82Iogh3Hrsa",
        "outputId": "70c46cdc-2c55-437a-9f74-981b75f3d1ee"
      },
      "execution_count": 13,
      "outputs": [
        {
          "output_type": "execute_result",
          "data": {
            "text/plain": [
              "['CH Gayle',\n",
              " 'YK Pathan',\n",
              " 'AB de Villiers',\n",
              " 'DA Warner',\n",
              " 'RG Sharma',\n",
              " 'SK Raina',\n",
              " 'MS Dhoni',\n",
              " 'G Gambhir',\n",
              " 'MEK Hussey',\n",
              " 'AM Rahane']"
            ]
          },
          "metadata": {},
          "execution_count": 13
        }
      ]
    },
    {
      "cell_type": "code",
      "source": [
        "#Bar-Graph of the players\n",
        "plt.figure(figsize=(15,6))\n",
        "plt.bar(list(ipl['ManOfMach'].value_counts()[0:10].keys()),list(ipl['ManOfMach'].value_counts()[0:10]),color='b')\n",
        "plt.show()"
      ],
      "metadata": {
        "colab": {
          "base_uri": "https://localhost:8080/",
          "height": 374
        },
        "id": "Srd1TSWMNbd6",
        "outputId": "aaa4f8ea-acc1-41d5-bdfe-d28c50726875"
      },
      "execution_count": 14,
      "outputs": [
        {
          "output_type": "display_data",
          "data": {
            "text/plain": [
              "<Figure size 1080x432 with 1 Axes>"
            ],
            "image/png": "[encoded data removed]"
          },
          "metadata": {
            "needs_background": "light"
          }
        }
      ]
    },
    {
      "cell_type": "code",
      "source": [
        "#Find the Number of toss wins w.r.t each team\n",
        "ipl['Toss_Winner'].value_counts()"
      ],
      "metadata": {
        "colab": {
          "base_uri": "https://localhost:8080/"
        },
        "id": "ffvPWvqJQCAi",
        "outputId": "ddf5c8fa-6d11-4fe8-c76e-a254669bc326"
      },
      "execution_count": 15,
      "outputs": [
        {
          "output_type": "execute_result",
          "data": {
            "text/plain": [
              "Mumbai Indians                 85\n",
              "Kolkata Knight Riders          78\n",
              "Delhi Daredevils               72\n",
              "Royal Challengers Bangalore    70\n",
              "Kings XI Punjab                68\n",
              "Chennai Super Kings            66\n",
              "Rajasthan Royals               63\n",
              "Deccan Chargers                43\n",
              "Sunrisers Hyderabad            35\n",
              "Pune Warriors                  20\n",
              "Gujarat Lions                  15\n",
              "Rising Pune Supergiants        12\n",
              "Kochi Tuskers Kerala            8\n",
              "Rising Pune Supergiant          1\n",
              "Name: Toss_Winner, dtype: int64"
            ]
          },
          "metadata": {},
          "execution_count": 15
        }
      ]
    },
    {
      "cell_type": "code",
      "source": [
        "#Toss ratio\n",
        "ipl['Toss_Name'].value_counts()"
      ],
      "metadata": {
        "colab": {
          "base_uri": "https://localhost:8080/"
        },
        "id": "MPRB6RzaQnQ2",
        "outputId": "28f34ff5-c8e0-4c90-9b04-3d454fa6f84a"
      },
      "execution_count": 16,
      "outputs": [
        {
          "output_type": "execute_result",
          "data": {
            "text/plain": [
              "field    315\n",
              "bat      262\n",
              "Field     48\n",
              "Bat       11\n",
              "Name: Toss_Name, dtype: int64"
            ]
          },
          "metadata": {},
          "execution_count": 16
        }
      ]
    },
    {
      "cell_type": "code",
      "source": [
        "#Getting wins Margin\n",
        "ipl['Win_Margin'].value_counts"
      ],
      "metadata": {
        "colab": {
          "base_uri": "https://localhost:8080/"
        },
        "id": "litrqvZmaIMu",
        "outputId": "f0596392-cbb4-452f-8126-3b6f641ec217"
      },
      "execution_count": 17,
      "outputs": [
        {
          "output_type": "execute_result",
          "data": {
            "text/plain": [
              "<bound method IndexOpsMixin.value_counts of 0      140.0\n",
              "1       33.0\n",
              "2        9.0\n",
              "3        5.0\n",
              "4        5.0\n",
              "       ...  \n",
              "632     10.0\n",
              "633     20.0\n",
              "634      7.0\n",
              "635      6.0\n",
              "636      1.0\n",
              "Name: Win_Margin, Length: 637, dtype: float64>"
            ]
          },
          "metadata": {},
          "execution_count": 17
        }
      ]
    },
    {
      "cell_type": "code",
      "source": [
        "#Making a histogram of winning margin\n",
        "plt.figure(figsize=(5,7))\n",
        "plt.hist(ipl['Win_Margin'])\n",
        "plt.title(\"Winning Margin\")\n",
        "plt.xlabel(\"Runs\")\n",
        "plt.show()"
      ],
      "metadata": {
        "colab": {
          "base_uri": "https://localhost:8080/",
          "height": 458
        },
        "id": "LXIWg4tBadxs",
        "outputId": "a5f5ef7a-d876-404a-c8b6-4114e94cfb1b"
      },
      "execution_count": 18,
      "outputs": [
        {
          "output_type": "display_data",
          "data": {
            "text/plain": [
              "<Figure size 360x504 with 1 Axes>"
            ],
            "image/png": "[encoded data removed]"
          },
          "metadata": {
            "needs_background": "light"
          }
        }
      ]
    },
    {
      "cell_type": "code",
      "source": [
        "#Extracting the records where team won by first batting\n",
        "batting_first=ipl[ipl['Win_Type']=='runs']"
      ],
      "metadata": {
        "id": "x-wTtb7rFiNz"
      },
      "execution_count": 19,
      "outputs": []
    },
    {
      "cell_type": "code",
      "source": [
        "batting_first.head()"
      ],
      "metadata": {
        "colab": {
          "base_uri": "https://localhost:8080/",
          "height": 531
        },
        "id": "1wYB94YlGiQ3",
        "outputId": "3d00a082-7236-41dc-db8f-c53d33d25022"
      },
      "execution_count": 20,
      "outputs": [
        {
          "output_type": "execute_result",
          "data": {
            "text/plain": [
              "    Match_SK  match_id                        Team1                  Team2  \\\n",
              "0          0    335987  Royal Challengers Bangalore  Kolkata Knight Riders   \n",
              "1          1    335988              Kings XI Punjab    Chennai Super Kings   \n",
              "7          7    335994          Chennai Super Kings         Mumbai Indians   \n",
              "9          9    335996              Kings XI Punjab         Mumbai Indians   \n",
              "14        14    336001  Royal Challengers Bangalore    Chennai Super Kings   \n",
              "\n",
              "   match_date  Season_Year                                  Venue_Name  \\\n",
              "0   4/18/2008         2008                       M Chinnaswamy Stadium   \n",
              "1   4/19/2008         2008  Punjab Cricket Association Stadium, Mohali   \n",
              "7   4/23/2008         2008             MA Chidambaram Stadium, Chepauk   \n",
              "9   4/25/2008         2008  Punjab Cricket Association Stadium, Mohali   \n",
              "14  4/28/2008         2008                       M Chinnaswamy Stadium   \n",
              "\n",
              "     City_Name Country_Name                  Toss_Winner  \\\n",
              "0    Bangalore        India  Royal Challengers Bangalore   \n",
              "1   Chandigarh        India          Chennai Super Kings   \n",
              "7      Chennai        India               Mumbai Indians   \n",
              "9   Chandigarh        India               Mumbai Indians   \n",
              "14   Bangalore        India          Chennai Super Kings   \n",
              "\n",
              "             match_winner Toss_Name Win_Type Outcome_Type      ManOfMach  \\\n",
              "0   Kolkata Knight Riders     field     runs       Result    BB McCullum   \n",
              "1     Chennai Super Kings       bat     runs       Result     MEK Hussey   \n",
              "7     Chennai Super Kings     field     runs       Result      ML Hayden   \n",
              "9         Kings XI Punjab     field     runs       Result  KC Sangakkara   \n",
              "14    Chennai Super Kings       bat     runs       Result       MS Dhoni   \n",
              "\n",
              "    Win_Margin  Country_id  \n",
              "0        140.0           1  \n",
              "1         33.0           1  \n",
              "7          6.0           1  \n",
              "9         66.0           1  \n",
              "14        13.0           1  "
            ],
            "text/html": [
              "\n",
              "  <div id=\"df-b54b5511-93bf-4d27-b7fb-1f223898e2ff\">\n",
              "    <div class=\"colab-df-container\">\n",
              "      <div>\n",
              "<style scoped>\n",
              "    .dataframe tbody tr th:only-of-type {\n",
              "        vertical-align: middle;\n",
              "    }\n",
              "\n",
              "    .dataframe tbody tr th {\n",
              "        vertical-align: top;\n",
              "    }\n",
              "\n",
              "    .dataframe thead th {\n",
              "        text-align: right;\n",
              "    }\n",
              "</style>\n",
              "<table border=\"1\" class=\"dataframe\">\n",
              "  <thead>\n",
              "    <tr style=\"text-align: right;\">\n",
              "      <th></th>\n",
              "      <th>Match_SK</th>\n",
              "      <th>match_id</th>\n",
              "      <th>Team1</th>\n",
              "      <th>Team2</th>\n",
              "      <th>match_date</th>\n",
              "      <th>Season_Year</th>\n",
              "      <th>Venue_Name</th>\n",
              "      <th>City_Name</th>\n",
              "      <th>Country_Name</th>\n",
              "      <th>Toss_Winner</th>\n",
              "      <th>match_winner</th>\n",
              "      <th>Toss_Name</th>\n",
              "      <th>Win_Type</th>\n",
              "      <th>Outcome_Type</th>\n",
              "      <th>ManOfMach</th>\n",
              "      <th>Win_Margin</th>\n",
              "      <th>Country_id</th>\n",
              "    </tr>\n",
              "  </thead>\n",
              "  <tbody>\n",
              "    <tr>\n",
              "      <th>0</th>\n",
              "      <td>0</td>\n",
              "      <td>335987</td>\n",
              "      <td>Royal Challengers Bangalore</td>\n",
              "      <td>Kolkata Knight Riders</td>\n",
              "      <td>4/18/2008</td>\n",
              "      <td>2008</td>\n",
              "      <td>M Chinnaswamy Stadium</td>\n",
              "      <td>Bangalore</td>\n",
              "      <td>India</td>\n",
              "      <td>Royal Challengers Bangalore</td>\n",
              "      <td>Kolkata Knight Riders</td>\n",
              "      <td>field</td>\n",
              "      <td>runs</td>\n",
              "      <td>Result</td>\n",
              "      <td>BB McCullum</td>\n",
              "      <td>140.0</td>\n",
              "      <td>1</td>\n",
              "    </tr>\n",
              "    <tr>\n",
              "      <th>1</th>\n",
              "      <td>1</td>\n",
              "      <td>335988</td>\n",
              "      <td>Kings XI Punjab</td>\n",
              "      <td>Chennai Super Kings</td>\n",
              "      <td>4/19/2008</td>\n",
              "      <td>2008</td>\n",
              "      <td>Punjab Cricket Association Stadium, Mohali</td>\n",
              "      <td>Chandigarh</td>\n",
              "      <td>India</td>\n",
              "      <td>Chennai Super Kings</td>\n",
              "      <td>Chennai Super Kings</td>\n",
              "      <td>bat</td>\n",
              "      <td>runs</td>\n",
              "      <td>Result</td>\n",
              "      <td>MEK Hussey</td>\n",
              "      <td>33.0</td>\n",
              "      <td>1</td>\n",
              "    </tr>\n",
              "    <tr>\n",
              "      <th>7</th>\n",
              "      <td>7</td>\n",
              "      <td>335994</td>\n",
              "      <td>Chennai Super Kings</td>\n",
              "      <td>Mumbai Indians</td>\n",
              "      <td>4/23/2008</td>\n",
              "      <td>2008</td>\n",
              "      <td>MA Chidambaram Stadium, Chepauk</td>\n",
              "      <td>Chennai</td>\n",
              "      <td>India</td>\n",
              "      <td>Mumbai Indians</td>\n",
              "      <td>Chennai Super Kings</td>\n",
              "      <td>field</td>\n",
              "      <td>runs</td>\n",
              "      <td>Result</td>\n",
              "      <td>ML Hayden</td>\n",
              "      <td>6.0</td>\n",
              "      <td>1</td>\n",
              "    </tr>\n",
              "    <tr>\n",
              "      <th>9</th>\n",
              "      <td>9</td>\n",
              "      <td>335996</td>\n",
              "      <td>Kings XI Punjab</td>\n",
              "      <td>Mumbai Indians</td>\n",
              "      <td>4/25/2008</td>\n",
              "      <td>2008</td>\n",
              "      <td>Punjab Cricket Association Stadium, Mohali</td>\n",
              "      <td>Chandigarh</td>\n",
              "      <td>India</td>\n",
              "      <td>Mumbai Indians</td>\n",
              "      <td>Kings XI Punjab</td>\n",
              "      <td>field</td>\n",
              "      <td>runs</td>\n",
              "      <td>Result</td>\n",
              "      <td>KC Sangakkara</td>\n",
              "      <td>66.0</td>\n",
              "      <td>1</td>\n",
              "    </tr>\n",
              "    <tr>\n",
              "      <th>14</th>\n",
              "      <td>14</td>\n",
              "      <td>336001</td>\n",
              "      <td>Royal Challengers Bangalore</td>\n",
              "      <td>Chennai Super Kings</td>\n",
              "      <td>4/28/2008</td>\n",
              "      <td>2008</td>\n",
              "      <td>M Chinnaswamy Stadium</td>\n",
              "      <td>Bangalore</td>\n",
              "      <td>India</td>\n",
              "      <td>Chennai Super Kings</td>\n",
              "      <td>Chennai Super Kings</td>\n",
              "      <td>bat</td>\n",
              "      <td>runs</td>\n",
              "      <td>Result</td>\n",
              "      <td>MS Dhoni</td>\n",
              "      <td>13.0</td>\n",
              "      <td>1</td>\n",
              "    </tr>\n",
              "  </tbody>\n",
              "</table>\n",
              "</div>\n",
              "      <button class=\"colab-df-convert\" onclick=\"convertToInteractive('df-b54b5511-93bf-4d27-b7fb-1f223898e2ff')\"\n",
              "              title=\"Convert this dataframe to an interactive table.\"\n",
              "              style=\"display:none;\">\n",
              "        \n",
              "  <svg xmlns=\"http://www.w3.org/2000/svg\" height=\"24px\"viewBox=\"0 0 24 24\"\n",
              "       width=\"24px\">\n",
              "    <path d=\"M0 0h24v24H0V0z\" fill=\"none\"/>\n",
              "    <path d=\"M18.56 5.44l.94 2.06.94-2.06 2.06-.94-2.06-.94-.94-2.06-.94 2.06-2.06.94zm-11 1L8.5 8.5l.94-2.06 2.06-.94-2.06-.94L8.5 2.5l-.94 2.06-2.06.94zm10 10l.94 2.06.94-2.06 2.06-.94-2.06-.94-.94-2.06-.94 2.06-2.06.94z\"/><path d=\"M17.41 7.96l-1.37-1.37c-.4-.4-.92-.59-1.43-.59-.52 0-1.04.2-1.43.59L10.3 9.45l-7.72 7.72c-.78.78-.78 2.05 0 2.83L4 21.41c.39.39.9.59 1.41.59.51 0 1.02-.2 1.41-.59l7.78-7.78 2.81-2.81c.8-.78.8-2.07 0-2.86zM5.41 20L4 18.59l7.72-7.72 1.47 1.35L5.41 20z\"/>\n",
              "  </svg>\n",
              "      </button>\n",
              "      \n",
              "  <style>\n",
              "    .colab-df-container {\n",
              "      display:flex;\n",
              "      flex-wrap:wrap;\n",
              "      gap: 12px;\n",
              "    }\n",
              "\n",
              "    .colab-df-convert {\n",
              "      background-color: #E8F0FE;\n",
              "      border: none;\n",
              "      border-radius: 50%;\n",
              "      cursor: pointer;\n",
              "      display: none;\n",
              "      fill: #1967D2;\n",
              "      height: 32px;\n",
              "      padding: 0 0 0 0;\n",
              "      width: 32px;\n",
              "    }\n",
              "\n",
              "    .colab-df-convert:hover {\n",
              "      background-color: #E2EBFA;\n",
              "      box-shadow: 0px 1px 2px rgba(60, 64, 67, 0.3), 0px 1px 3px 1px rgba(60, 64, 67, 0.15);\n",
              "      fill: #174EA6;\n",
              "    }\n",
              "\n",
              "    [theme=dark] .colab-df-convert {\n",
              "      background-color: #3B4455;\n",
              "      fill: #D2E3FC;\n",
              "    }\n",
              "\n",
              "    [theme=dark] .colab-df-convert:hover {\n",
              "      background-color: #434B5C;\n",
              "      box-shadow: 0px 1px 3px 1px rgba(0, 0, 0, 0.15);\n",
              "      filter: drop-shadow(0px 1px 2px rgba(0, 0, 0, 0.3));\n",
              "      fill: #FFFFFF;\n",
              "    }\n",
              "  </style>\n",
              "\n",
              "      <script>\n",
              "        const buttonEl =\n",
              "          document.querySelector('#df-b54b5511-93bf-4d27-b7fb-1f223898e2ff button.colab-df-convert');\n",
              "        buttonEl.style.display =\n",
              "          google.colab.kernel.accessAllowed ? 'block' : 'none';\n",
              "\n",
              "        async function convertToInteractive(key) {\n",
              "          const element = document.querySelector('#df-b54b5511-93bf-4d27-b7fb-1f223898e2ff');\n",
              "          const dataTable =\n",
              "            await google.colab.kernel.invokeFunction('convertToInteractive',\n",
              "                                                     [key], {});\n",
              "          if (!dataTable) return;\n",
              "\n",
              "          const docLinkHtml = 'Like what you see? Visit the ' +\n",
              "            '<a target=\"_blank\" href=https://colab.research.google.com/notebooks/data_table.ipynb>data table notebook</a>'\n",
              "            + ' to learn more about interactive tables.';\n",
              "          element.innerHTML = '';\n",
              "          dataTable['output_type'] = 'display_data';\n",
              "          await google.colab.output.renderOutput(dataTable, element);\n",
              "          const docLink = document.createElement('div');\n",
              "          docLink.innerHTML = docLinkHtml;\n",
              "          element.appendChild(docLink);\n",
              "        }\n",
              "      </script>\n",
              "    </div>\n",
              "  </div>\n",
              "  "
            ]
          },
          "metadata": {},
          "execution_count": 20
        }
      ]
    },
    {
      "cell_type": "code",
      "source": [
        "#Making a histogram of the first batting team\n",
        "plt.figure(figsize=(5,7))\n",
        "plt.hist(batting_first['Win_Type'])\n",
        "plt.title(\"Distribution of runs\")\n",
        "plt.xlabel(\"Runs\")\n",
        "plt.show()"
      ],
      "metadata": {
        "colab": {
          "base_uri": "https://localhost:8080/",
          "height": 458
        },
        "id": "dvgjnx1ZGqpf",
        "outputId": "27ae111c-7607-4d9e-a449-5555fdd1032e"
      },
      "execution_count": 21,
      "outputs": [
        {
          "output_type": "display_data",
          "data": {
            "text/plain": [
              "<Figure size 360x504 with 1 Axes>"
            ],
            "image/png": "[encoded data removed]"
          },
          "metadata": {
            "needs_background": "light"
          }
        }
      ]
    },
    {
      "cell_type": "code",
      "source": [
        "#Finding out the number of wins w.r.t each team after batting first\n",
        "batting_first['match_winner'].value_counts()"
      ],
      "metadata": {
        "colab": {
          "base_uri": "https://localhost:8080/"
        },
        "id": "3WOVJIE5HM6l",
        "outputId": "da663ebd-e820-4435-c590-d0b4a29dc91c"
      },
      "execution_count": 22,
      "outputs": [
        {
          "output_type": "execute_result",
          "data": {
            "text/plain": [
              "Chennai Super Kings            46\n",
              "Mumbai Indians                 46\n",
              "Kings XI Punjab                32\n",
              "Kolkata Knight Riders          31\n",
              "Royal Challengers Bangalore    30\n",
              "Rajasthan Royals               23\n",
              "Sunrisers Hyderabad            23\n",
              "Delhi Daredevils               21\n",
              "Deccan Chargers                18\n",
              "Rising Pune Supergiants         7\n",
              "Pune Warriors                   6\n",
              "Kochi Tuskers Kerala            2\n",
              "Gujarat Lions                   1\n",
              "Name: match_winner, dtype: int64"
            ]
          },
          "metadata": {},
          "execution_count": 22
        }
      ]
    },
    {
      "cell_type": "code",
      "source": [
        "#Making a bar-plot for top 3 team with the most wins after batting first\n",
        "plt.figure(figsize=(6,6))\n",
        "plt.bar(list(batting_first['match_winner'].value_counts()[0:3].keys()),list(batting_first['match_winner'].value_counts()[0:3]),color=[\"y\",\"b\",'purple'])\n",
        "plt.show()"
      ],
      "metadata": {
        "colab": {
          "base_uri": "https://localhost:8080/",
          "height": 374
        },
        "id": "4dJ5r8OkIAux",
        "outputId": "690060e7-bbe5-48ed-bae6-c3ee584965b2"
      },
      "execution_count": 27,
      "outputs": [
        {
          "output_type": "display_data",
          "data": {
            "text/plain": [
              "<Figure size 432x432 with 1 Axes>"
            ],
            "image/png": "[encoded data removed]"
          },
          "metadata": {
            "needs_background": "light"
          }
        }
      ]
    },
    {
      "cell_type": "code",
      "source": [
        "#Making a pie-chart\n",
        "plt.figure(figsize=(7,7))\n",
        "plt.pie(list(batting_first['match_winner'].value_counts()),labels=list(batting_first['match_winner'].value_counts().keys()),autopct='%0.1f%%')\n",
        "plt.show()"
      ],
      "metadata": {
        "colab": {
          "base_uri": "https://localhost:8080/",
          "height": 411
        },
        "id": "UzY6Clr8OWqd",
        "outputId": "4a58dabd-784a-4500-af35-138ebc1dd16f"
      },
      "execution_count": 28,
      "outputs": [
        {
          "output_type": "display_data",
          "data": {
            "text/plain": [
              "<Figure size 504x504 with 1 Axes>"
            ],
            "image/png": "[encoded data removed]"
          },
          "metadata": {}
        }
      ]
    },
    {
      "cell_type": "code",
      "source": [
        " #Extracting those records where a team has won after batting second\n",
        "batting_second=ipl[ipl['Win_Type']=='wickets']"
      ],
      "metadata": {
        "id": "iCNOJ5d6FLZw"
      },
      "execution_count": 29,
      "outputs": []
    },
    {
      "cell_type": "code",
      "source": [
        "#looking first five records\n",
        "batting_second.head()"
      ],
      "metadata": {
        "colab": {
          "base_uri": "https://localhost:8080/",
          "height": 461
        },
        "id": "QDOUfpk_F5dx",
        "outputId": "1d44f184-b09b-4824-e61d-6bc2aa26926c"
      },
      "execution_count": 30,
      "outputs": [
        {
          "output_type": "execute_result",
          "data": {
            "text/plain": [
              "   Match_SK  match_id                  Team1                        Team2  \\\n",
              "2         2    335989       Delhi Daredevils             Rajasthan Royals   \n",
              "3         3    335990         Mumbai Indians  Royal Challengers Bangalore   \n",
              "4         4    335991  Kolkata Knight Riders              Deccan Chargers   \n",
              "5         5    335992       Rajasthan Royals              Kings XI Punjab   \n",
              "6         6    335993        Deccan Chargers             Delhi Daredevils   \n",
              "\n",
              "  match_date  Season_Year                                 Venue_Name  \\\n",
              "2  4/19/2008         2008                           Feroz Shah Kotla   \n",
              "3  4/20/2008         2008                           Wankhede Stadium   \n",
              "4  4/20/2008         2008                               Eden Gardens   \n",
              "5  4/21/2008         2008                     Sawai Mansingh Stadium   \n",
              "6  4/22/2008         2008  Rajiv Gandhi International Stadium, Uppal   \n",
              "\n",
              "   City_Name Country_Name       Toss_Winner                 match_winner  \\\n",
              "2      Delhi        India  Rajasthan Royals             Delhi Daredevils   \n",
              "3     Mumbai        India    Mumbai Indians  Royal Challengers Bangalore   \n",
              "4    Kolkata        India   Deccan Chargers        Kolkata Knight Riders   \n",
              "5     Jaipur        India   Kings XI Punjab             Rajasthan Royals   \n",
              "6  Hyderabad        India   Deccan Chargers             Delhi Daredevils   \n",
              "\n",
              "  Toss_Name Win_Type Outcome_Type    ManOfMach  Win_Margin  Country_id  \n",
              "2       bat  wickets       Result  MF Maharoof         9.0           1  \n",
              "3       bat  wickets       Result   MV Boucher         5.0           1  \n",
              "4       bat  wickets       Result    DJ Hussey         5.0           1  \n",
              "5       bat  wickets       Result    SR Watson         6.0           1  \n",
              "6       bat  wickets       Result     V Sehwag         9.0           1  "
            ],
            "text/html": [
              "\n",
              "  <div id=\"df-ebe5f58a-3b1c-4482-8584-74d4dd08ba13\">\n",
              "    <div class=\"colab-df-container\">\n",
              "      <div>\n",
              "<style scoped>\n",
              "    .dataframe tbody tr th:only-of-type {\n",
              "        vertical-align: middle;\n",
              "    }\n",
              "\n",
              "    .dataframe tbody tr th {\n",
              "        vertical-align: top;\n",
              "    }\n",
              "\n",
              "    .dataframe thead th {\n",
              "        text-align: right;\n",
              "    }\n",
              "</style>\n",
              "<table border=\"1\" class=\"dataframe\">\n",
              "  <thead>\n",
              "    <tr style=\"text-align: right;\">\n",
              "      <th></th>\n",
              "      <th>Match_SK</th>\n",
              "      <th>match_id</th>\n",
              "      <th>Team1</th>\n",
              "      <th>Team2</th>\n",
              "      <th>match_date</th>\n",
              "      <th>Season_Year</th>\n",
              "      <th>Venue_Name</th>\n",
              "      <th>City_Name</th>\n",
              "      <th>Country_Name</th>\n",
              "      <th>Toss_Winner</th>\n",
              "      <th>match_winner</th>\n",
              "      <th>Toss_Name</th>\n",
              "      <th>Win_Type</th>\n",
              "      <th>Outcome_Type</th>\n",
              "      <th>ManOfMach</th>\n",
              "      <th>Win_Margin</th>\n",
              "      <th>Country_id</th>\n",
              "    </tr>\n",
              "  </thead>\n",
              "  <tbody>\n",
              "    <tr>\n",
              "      <th>2</th>\n",
              "      <td>2</td>\n",
              "      <td>335989</td>\n",
              "      <td>Delhi Daredevils</td>\n",
              "      <td>Rajasthan Royals</td>\n",
              "      <td>4/19/2008</td>\n",
              "      <td>2008</td>\n",
              "      <td>Feroz Shah Kotla</td>\n",
              "      <td>Delhi</td>\n",
              "      <td>India</td>\n",
              "      <td>Rajasthan Royals</td>\n",
              "      <td>Delhi Daredevils</td>\n",
              "      <td>bat</td>\n",
              "      <td>wickets</td>\n",
              "      <td>Result</td>\n",
              "      <td>MF Maharoof</td>\n",
              "      <td>9.0</td>\n",
              "      <td>1</td>\n",
              "    </tr>\n",
              "    <tr>\n",
              "      <th>3</th>\n",
              "      <td>3</td>\n",
              "      <td>335990</td>\n",
              "      <td>Mumbai Indians</td>\n",
              "      <td>Royal Challengers Bangalore</td>\n",
              "      <td>4/20/2008</td>\n",
              "      <td>2008</td>\n",
              "      <td>Wankhede Stadium</td>\n",
              "      <td>Mumbai</td>\n",
              "      <td>India</td>\n",
              "      <td>Mumbai Indians</td>\n",
              "      <td>Royal Challengers Bangalore</td>\n",
              "      <td>bat</td>\n",
              "      <td>wickets</td>\n",
              "      <td>Result</td>\n",
              "      <td>MV Boucher</td>\n",
              "      <td>5.0</td>\n",
              "      <td>1</td>\n",
              "    </tr>\n",
              "    <tr>\n",
              "      <th>4</th>\n",
              "      <td>4</td>\n",
              "      <td>335991</td>\n",
              "      <td>Kolkata Knight Riders</td>\n",
              "      <td>Deccan Chargers</td>\n",
              "      <td>4/20/2008</td>\n",
              "      <td>2008</td>\n",
              "      <td>Eden Gardens</td>\n",
              "      <td>Kolkata</td>\n",
              "      <td>India</td>\n",
              "      <td>Deccan Chargers</td>\n",
              "      <td>Kolkata Knight Riders</td>\n",
              "      <td>bat</td>\n",
              "      <td>wickets</td>\n",
              "      <td>Result</td>\n",
              "      <td>DJ Hussey</td>\n",
              "      <td>5.0</td>\n",
              "      <td>1</td>\n",
              "    </tr>\n",
              "    <tr>\n",
              "      <th>5</th>\n",
              "      <td>5</td>\n",
              "      <td>335992</td>\n",
              "      <td>Rajasthan Royals</td>\n",
              "      <td>Kings XI Punjab</td>\n",
              "      <td>4/21/2008</td>\n",
              "      <td>2008</td>\n",
              "      <td>Sawai Mansingh Stadium</td>\n",
              "      <td>Jaipur</td>\n",
              "      <td>India</td>\n",
              "      <td>Kings XI Punjab</td>\n",
              "      <td>Rajasthan Royals</td>\n",
              "      <td>bat</td>\n",
              "      <td>wickets</td>\n",
              "      <td>Result</td>\n",
              "      <td>SR Watson</td>\n",
              "      <td>6.0</td>\n",
              "      <td>1</td>\n",
              "    </tr>\n",
              "    <tr>\n",
              "      <th>6</th>\n",
              "      <td>6</td>\n",
              "      <td>335993</td>\n",
              "      <td>Deccan Chargers</td>\n",
              "      <td>Delhi Daredevils</td>\n",
              "      <td>4/22/2008</td>\n",
              "      <td>2008</td>\n",
              "      <td>Rajiv Gandhi International Stadium, Uppal</td>\n",
              "      <td>Hyderabad</td>\n",
              "      <td>India</td>\n",
              "      <td>Deccan Chargers</td>\n",
              "      <td>Delhi Daredevils</td>\n",
              "      <td>bat</td>\n",
              "      <td>wickets</td>\n",
              "      <td>Result</td>\n",
              "      <td>V Sehwag</td>\n",
              "      <td>9.0</td>\n",
              "      <td>1</td>\n",
              "    </tr>\n",
              "  </tbody>\n",
              "</table>\n",
              "</div>\n",
              "      <button class=\"colab-df-convert\" onclick=\"convertToInteractive('df-ebe5f58a-3b1c-4482-8584-74d4dd08ba13')\"\n",
              "              title=\"Convert this dataframe to an interactive table.\"\n",
              "              style=\"display:none;\">\n",
              "        \n",
              "  <svg xmlns=\"http://www.w3.org/2000/svg\" height=\"24px\"viewBox=\"0 0 24 24\"\n",
              "       width=\"24px\">\n",
              "    <path d=\"M0 0h24v24H0V0z\" fill=\"none\"/>\n",
              "    <path d=\"M18.56 5.44l.94 2.06.94-2.06 2.06-.94-2.06-.94-.94-2.06-.94 2.06-2.06.94zm-11 1L8.5 8.5l.94-2.06 2.06-.94-2.06-.94L8.5 2.5l-.94 2.06-2.06.94zm10 10l.94 2.06.94-2.06 2.06-.94-2.06-.94-.94-2.06-.94 2.06-2.06.94z\"/><path d=\"M17.41 7.96l-1.37-1.37c-.4-.4-.92-.59-1.43-.59-.52 0-1.04.2-1.43.59L10.3 9.45l-7.72 7.72c-.78.78-.78 2.05 0 2.83L4 21.41c.39.39.9.59 1.41.59.51 0 1.02-.2 1.41-.59l7.78-7.78 2.81-2.81c.8-.78.8-2.07 0-2.86zM5.41 20L4 18.59l7.72-7.72 1.47 1.35L5.41 20z\"/>\n",
              "  </svg>\n",
              "      </button>\n",
              "      \n",
              "  <style>\n",
              "    .colab-df-container {\n",
              "      display:flex;\n",
              "      flex-wrap:wrap;\n",
              "      gap: 12px;\n",
              "    }\n",
              "\n",
              "    .colab-df-convert {\n",
              "      background-color: #E8F0FE;\n",
              "      border: none;\n",
              "      border-radius: 50%;\n",
              "      cursor: pointer;\n",
              "      display: none;\n",
              "      fill: #1967D2;\n",
              "      height: 32px;\n",
              "      padding: 0 0 0 0;\n",
              "      width: 32px;\n",
              "    }\n",
              "\n",
              "    .colab-df-convert:hover {\n",
              "      background-color: #E2EBFA;\n",
              "      box-shadow: 0px 1px 2px rgba(60, 64, 67, 0.3), 0px 1px 3px 1px rgba(60, 64, 67, 0.15);\n",
              "      fill: #174EA6;\n",
              "    }\n",
              "\n",
              "    [theme=dark] .colab-df-convert {\n",
              "      background-color: #3B4455;\n",
              "      fill: #D2E3FC;\n",
              "    }\n",
              "\n",
              "    [theme=dark] .colab-df-convert:hover {\n",
              "      background-color: #434B5C;\n",
              "      box-shadow: 0px 1px 3px 1px rgba(0, 0, 0, 0.15);\n",
              "      filter: drop-shadow(0px 1px 2px rgba(0, 0, 0, 0.3));\n",
              "      fill: #FFFFFF;\n",
              "    }\n",
              "  </style>\n",
              "\n",
              "      <script>\n",
              "        const buttonEl =\n",
              "          document.querySelector('#df-ebe5f58a-3b1c-4482-8584-74d4dd08ba13 button.colab-df-convert');\n",
              "        buttonEl.style.display =\n",
              "          google.colab.kernel.accessAllowed ? 'block' : 'none';\n",
              "\n",
              "        async function convertToInteractive(key) {\n",
              "          const element = document.querySelector('#df-ebe5f58a-3b1c-4482-8584-74d4dd08ba13');\n",
              "          const dataTable =\n",
              "            await google.colab.kernel.invokeFunction('convertToInteractive',\n",
              "                                                     [key], {});\n",
              "          if (!dataTable) return;\n",
              "\n",
              "          const docLinkHtml = 'Like what you see? Visit the ' +\n",
              "            '<a target=\"_blank\" href=https://colab.research.google.com/notebooks/data_table.ipynb>data table notebook</a>'\n",
              "            + ' to learn more about interactive tables.';\n",
              "          element.innerHTML = '';\n",
              "          dataTable['output_type'] = 'display_data';\n",
              "          await google.colab.output.renderOutput(dataTable, element);\n",
              "          const docLink = document.createElement('div');\n",
              "          docLink.innerHTML = docLinkHtml;\n",
              "          element.appendChild(docLink);\n",
              "        }\n",
              "      </script>\n",
              "    </div>\n",
              "  </div>\n",
              "  "
            ]
          },
          "metadata": {},
          "execution_count": 30
        }
      ]
    },
    {
      "cell_type": "code",
      "source": [
        "##Finding out the number of wins w.r.t each team after batting second\n",
        "batting_second['match_winner'].value_counts()"
      ],
      "metadata": {
        "colab": {
          "base_uri": "https://localhost:8080/"
        },
        "id": "m6OAcZ0sF9L-",
        "outputId": "74e3663c-95c5-463a-a4de-b77d9ac4ecdb"
      },
      "execution_count": 34,
      "outputs": [
        {
          "output_type": "execute_result",
          "data": {
            "text/plain": [
              "Kolkata Knight Riders          46\n",
              "Mumbai Indians                 44\n",
              "Royal Challengers Bangalore    42\n",
              "Delhi Daredevils               41\n",
              "Rajasthan Royals               38\n",
              "Kings XI Punjab                36\n",
              "Chennai Super Kings            33\n",
              "Sunrisers Hyderabad            18\n",
              "Gujarat Lions                  12\n",
              "Deccan Chargers                11\n",
              "Rising Pune Supergiants         8\n",
              "Pune Warriors                   6\n",
              "Kochi Tuskers Kerala            4\n",
              "Name: match_winner, dtype: int64"
            ]
          },
          "metadata": {},
          "execution_count": 34
        }
      ]
    },
    {
      "cell_type": "code",
      "source": [
        "#Making Bar-chart to find the top 3 team won most after batting second\n",
        "plt.figure(figsize=(6,6))\n",
        "plt.bar(list(batting_second['match_winner'].value_counts()[0:3].keys()),list(batting_second['match_winner'].value_counts()[0:3]),color=[\"purple\",\"b\",'red'])\n",
        "plt.show()"
      ],
      "metadata": {
        "colab": {
          "base_uri": "https://localhost:8080/",
          "height": 374
        },
        "id": "dCnN7K6tHF5I",
        "outputId": "1fdd6d5d-13c5-4782-da03-a1c86ac57aa1"
      },
      "execution_count": 36,
      "outputs": [
        {
          "output_type": "display_data",
          "data": {
            "text/plain": [
              "<Figure size 432x432 with 1 Axes>"
            ],
            "image/png": "[encoded data removed]"
          },
          "metadata": {
            "needs_background": "light"
          }
        }
      ]
    },
    {
      "cell_type": "code",
      "source": [
        "#Making Pie-chart for most wins after batting second \n",
        "plt.figure(figsize=(7,7))\n",
        "plt.pie(list(batting_second['match_winner'].value_counts()),labels=list(batting_second['match_winner'].value_counts().keys()),autopct='%0.1f%%')\n",
        "plt.show()\n"
      ],
      "metadata": {
        "colab": {
          "base_uri": "https://localhost:8080/",
          "height": 411
        },
        "id": "4DztNNemJIsi",
        "outputId": "e00cb22c-4ba1-4869-cc33-35a0bdc70d46"
      },
      "execution_count": 37,
      "outputs": [
        {
          "output_type": "display_data",
          "data": {
            "text/plain": [
              "<Figure size 504x504 with 1 Axes>"
            ],
            "image/png": "[encoded data removed]"
          },
          "metadata": {}
        }
      ]
    },
    {
      "cell_type": "code",
      "source": [
        " #looking at match played in each season\n",
        " ipl['Season_Year'].value_counts()\n"
      ],
      "metadata": {
        "colab": {
          "base_uri": "https://localhost:8080/"
        },
        "id": "DTGrrf5hJzYJ",
        "outputId": "aa907a65-74fa-4c15-ac73-764af580d0e4"
      },
      "execution_count": 38,
      "outputs": [
        {
          "output_type": "execute_result",
          "data": {
            "text/plain": [
              "2013    76\n",
              "2012    74\n",
              "2011    73\n",
              "2010    60\n",
              "2014    60\n",
              "2016    60\n",
              "2017    60\n",
              "2015    59\n",
              "2008    58\n",
              "2009    57\n",
              "Name: Season_Year, dtype: int64"
            ]
          },
          "metadata": {},
          "execution_count": 38
        }
      ]
    },
    {
      "cell_type": "code",
      "source": [
        "#Looking at match played in each city\n",
        "ipl['Venue_Name'].value_counts()"
      ],
      "metadata": {
        "colab": {
          "base_uri": "https://localhost:8080/"
        },
        "id": "-T0NbxzNK0-H",
        "outputId": "220f364b-f821-49ca-978f-06c513daf010"
      },
      "execution_count": 39,
      "outputs": [
        {
          "output_type": "execute_result",
          "data": {
            "text/plain": [
              "M Chinnaswamy Stadium                                   66\n",
              "Eden Gardens                                            61\n",
              "Feroz Shah Kotla                                        60\n",
              "Wankhede Stadium                                        57\n",
              "MA Chidambaram Stadium, Chepauk                         48\n",
              "Rajiv Gandhi International Stadium, Uppal               41\n",
              "Punjab Cricket Association Stadium, Mohali              35\n",
              "Sawai Mansingh Stadium                                  33\n",
              "Dr DY Patil Sports Academy                              17\n",
              "Subrata Roy Sahara Stadium                              17\n",
              "Maharashtra Cricket Association Stadium                 15\n",
              "Kingsmead                                               15\n",
              "Sardar Patel Stadium, Motera                            12\n",
              "SuperSport Park                                         12\n",
              "Dr. Y.S. Rajasekhara Reddy ACA-VDCA Cricket Stadium     11\n",
              "Brabourne Stadium                                       11\n",
              "Saurashtra Cricket Association Stadium                  10\n",
              "Himachal Pradesh Cricket Association Stadium             9\n",
              "Rajiv Gandhi International Stadium Uppal                 8\n",
              "New Wanderers Stadium                                    8\n",
              "St George's Park                                         7\n",
              "Dubai International Cricket Stadium                      7\n",
              "Sheikh Zayed Stadium                                     7\n",
              "JSCA International Stadium Complex                       7\n",
              "Newlands                                                 7\n",
              "Punjab Cricket Association IS Bindra Stadium, Mohali     7\n",
              "Barabati Stadium                                         7\n",
              "Shaheed Veer Narayan Singh International Stadium         6\n",
              "Sharjah Cricket Stadium                                  6\n",
              "Holkar Cricket Stadium                                   5\n",
              "Nehru Stadium                                            5\n",
              "Green Park                                               4\n",
              "Punjab Cricket Association IS Bindra Stadium Mohali      4\n",
              "Vidarbha Cricket Association Stadium, Jamtha             3\n",
              "De Beers Diamond Oval                                    3\n",
              "Buffalo Park                                             3\n",
              "OUTsurance Oval                                          2\n",
              "Name: Venue_Name, dtype: int64"
            ]
          },
          "metadata": {},
          "execution_count": 39
        }
      ]
    },
    {
      "cell_type": "code",
      "source": [
        "#Bar graph of most played matches in city\n",
        "plt.figure(figsize=(6,6))\n",
        "plt.bar(list(ipl['Venue_Name'].value_counts()[0:3].keys()),list(ipl['Venue_Name'].value_counts()[0:3]),color=[\"r\",\"b\",'g'])\n",
        "plt.show()"
      ],
      "metadata": {
        "colab": {
          "base_uri": "https://localhost:8080/",
          "height": 374
        },
        "id": "zQ6V-A12LRZW",
        "outputId": "c2ee7da9-13c1-4992-bfe7-aee420bcf54b"
      },
      "execution_count": 42,
      "outputs": [
        {
          "output_type": "display_data",
          "data": {
            "text/plain": [
              "<Figure size 432x432 with 1 Axes>"
            ],
            "image/png": "[encoded data removed]"
          },
          "metadata": {
            "needs_background": "light"
          }
        }
      ]
    },
    {
      "cell_type": "code",
      "source": [
        "#finding out how many a team won the match after winning the toss\n",
        "import numpy as np\n",
        "np.sum(ipl['Toss_Winner']==ipl['match_winner'])"
      ],
      "metadata": {
        "colab": {
          "base_uri": "https://localhost:8080/"
        },
        "id": "8wOF1hK7Mjq8",
        "outputId": "8ee2d3c5-5d00-44bc-acb0-4d064afe1f9b"
      },
      "execution_count": 43,
      "outputs": [
        {
          "output_type": "execute_result",
          "data": {
            "text/plain": [
              "324"
            ]
          },
          "metadata": {},
          "execution_count": 43
        }
      ]
    },
    {
      "cell_type": "code",
      "source": [],
      "metadata": {
        "id": "YHpmz-vRN7AX"
      },
      "execution_count": null,
      "outputs": []
    }
  ]
}